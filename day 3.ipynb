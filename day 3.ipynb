{
 "cells": [
  {
   "cell_type": "markdown",
   "id": "fd5198b2",
   "metadata": {},
   "source": [
    "# list comprehensions"
   ]
  },
  {
   "cell_type": "code",
   "execution_count": 1,
   "id": "f9da8a90",
   "metadata": {},
   "outputs": [],
   "source": [
    "s = 'hello'"
   ]
  },
  {
   "cell_type": "code",
   "execution_count": 2,
   "id": "ebfa16f6",
   "metadata": {},
   "outputs": [
    {
     "name": "stdout",
     "output_type": "stream",
     "text": [
      "['h', 'e', 'l', 'l', 'o']\n"
     ]
    }
   ],
   "source": [
    "l =[]\n",
    "for i in s:\n",
    "    l.append(i)\n",
    "print(l)"
   ]
  },
  {
   "cell_type": "markdown",
   "id": "124a40b9",
   "metadata": {},
   "source": [
    "flattened  out  for  loop"
   ]
  },
  {
   "cell_type": "code",
   "execution_count": 3,
   "id": "35926109",
   "metadata": {},
   "outputs": [
    {
     "name": "stdout",
     "output_type": "stream",
     "text": [
      "['r', 'h', 'e', 'a']\n"
     ]
    }
   ],
   "source": [
    "r  = 'rhea'\n",
    "lst =  [i  for  i in r]\n",
    "print(lst)"
   ]
  },
  {
   "cell_type": "code",
   "execution_count": 4,
   "id": "1b83d9bd",
   "metadata": {},
   "outputs": [],
   "source": [
    "lst2  =[i  for  i in 'rhea basappa']"
   ]
  },
  {
   "cell_type": "code",
   "execution_count": 5,
   "id": "81b51088",
   "metadata": {},
   "outputs": [
    {
     "data": {
      "text/plain": [
       "['r', 'h', 'e', 'a', ' ', 'b', 'a', 's', 'a', 'p', 'p', 'a']"
      ]
     },
     "execution_count": 5,
     "metadata": {},
     "output_type": "execute_result"
    }
   ],
   "source": [
    "lst2"
   ]
  },
  {
   "cell_type": "markdown",
   "id": "b2de9483",
   "metadata": {},
   "source": [
    "we  caan  even  do operations on it  "
   ]
  },
  {
   "cell_type": "code",
   "execution_count": 7,
   "id": "0f4c4512",
   "metadata": {},
   "outputs": [],
   "source": [
    "lst3 =  [n**2 for n in range(0,11)]"
   ]
  },
  {
   "cell_type": "code",
   "execution_count": 8,
   "id": "75fa63db",
   "metadata": {},
   "outputs": [
    {
     "name": "stdout",
     "output_type": "stream",
     "text": [
      "[0, 1, 4, 9, 16, 25, 36, 49, 64, 81, 100]\n"
     ]
    }
   ],
   "source": [
    "print(lst3)"
   ]
  },
  {
   "cell_type": "code",
   "execution_count": 9,
   "id": "d03662e6",
   "metadata": {},
   "outputs": [
    {
     "name": "stdout",
     "output_type": "stream",
     "text": [
      "[0, 2, 4, 6, 8, 10]\n"
     ]
    }
   ],
   "source": [
    "lst4 = [x for x in range(0,11) if x%2 == 0]\n",
    "print(lst4)"
   ]
  },
  {
   "cell_type": "code",
   "execution_count": 14,
   "id": "5010fcda",
   "metadata": {},
   "outputs": [
    {
     "name": "stdout",
     "output_type": "stream",
     "text": [
      "celcius is 0 aand consequent fahrenheit temp is 32.0\n",
      "celcius is 10 aand consequent fahrenheit temp is 50.0\n",
      "celcius is 20 aand consequent fahrenheit temp is 68.0\n",
      "celcius is 34.5 aand consequent fahrenheit temp is 94.1\n"
     ]
    }
   ],
   "source": [
    "celcius = [0,10,20,34.5]\n",
    "fahrenheit = [((9/5)*temp +32) for temp in celcius]\n",
    "answer = zip(celcius,fahrenheit)\n",
    "\n",
    "for i,j in answer:\n",
    "    print('celcius is {} aand consequent fahrenheit temp is {}'.format(i,j))"
   ]
  },
  {
   "cell_type": "code",
   "execution_count": 15,
   "id": "93161d3d",
   "metadata": {},
   "outputs": [
    {
     "name": "stdout",
     "output_type": "stream",
     "text": [
      "[200, 400, 600, 400, 800, 1200, 600, 1200, 1800]\n"
     ]
    }
   ],
   "source": [
    "lst = []\n",
    "\n",
    "for x in [2,4,6]:\n",
    "    for y in [100,200,300]:\n",
    "        lst.append(x*y)\n",
    "print(lst)"
   ]
  },
  {
   "cell_type": "code",
   "execution_count": 16,
   "id": "7b8b7472",
   "metadata": {},
   "outputs": [
    {
     "name": "stdout",
     "output_type": "stream",
     "text": [
      "[2, 20, 2000, 4, 40, 4000, 6, 60, 6000]\n"
     ]
    }
   ],
   "source": [
    "lst1 = []\n",
    "\n",
    "for x in [2,4,6]:\n",
    "    for y in [1,10,1000]:\n",
    "        lst1.append(x*y)\n",
    "print(lst1)"
   ]
  },
  {
   "cell_type": "code",
   "execution_count": 18,
   "id": "7b4e6f20",
   "metadata": {},
   "outputs": [
    {
     "name": "stdout",
     "output_type": "stream",
     "text": [
      "[2, 20, 200, 4, 40, 400, 6, 60, 600]\n"
     ]
    }
   ],
   "source": [
    "lst3 =[x*y  for  x in [2,4,6] for y in [1,10,100]]\n",
    "print(lst3)"
   ]
  },
  {
   "cell_type": "markdown",
   "id": "fc46168a",
   "metadata": {},
   "source": [
    "# assessment"
   ]
  },
  {
   "cell_type": "code",
   "execution_count": 19,
   "id": "dacf23bb",
   "metadata": {},
   "outputs": [],
   "source": [
    "st = 'Print only the words that start with s in this sentence'"
   ]
  },
  {
   "cell_type": "code",
   "execution_count": 20,
   "id": "41495ee1",
   "metadata": {},
   "outputs": [],
   "source": [
    "words  =  st.split()\n"
   ]
  },
  {
   "cell_type": "code",
   "execution_count": 21,
   "id": "4b39f34f",
   "metadata": {},
   "outputs": [
    {
     "name": "stdout",
     "output_type": "stream",
     "text": [
      "['Print', 'only', 'the', 'words', 'that', 'start', 'with', 's', 'in', 'this', 'sentence']\n"
     ]
    }
   ],
   "source": [
    "print(words)"
   ]
  },
  {
   "cell_type": "code",
   "execution_count": 22,
   "id": "0e97487f",
   "metadata": {},
   "outputs": [
    {
     "name": "stdout",
     "output_type": "stream",
     "text": [
      "start\n",
      "s\n",
      "sentence\n"
     ]
    }
   ],
   "source": [
    "for  x  in words:\n",
    "    if  x[0] =='s':\n",
    "        print(x)"
   ]
  },
  {
   "cell_type": "code",
   "execution_count": 26,
   "id": "b7e53968",
   "metadata": {},
   "outputs": [
    {
     "name": "stdout",
     "output_type": "stream",
     "text": [
      "0\n",
      "2\n",
      "4\n",
      "6\n",
      "8\n"
     ]
    }
   ],
   "source": [
    "for i  in range(0,10):\n",
    "    if  i%  2==0:\n",
    "        print(i)"
   ]
  },
  {
   "cell_type": "code",
   "execution_count": 28,
   "id": "f5ef00f1",
   "metadata": {},
   "outputs": [
    {
     "name": "stdout",
     "output_type": "stream",
     "text": [
      "[3, 6, 9, 12, 15, 18, 21, 24, 27, 30, 33, 36, 39, 42, 45, 48]\n"
     ]
    }
   ],
   "source": [
    "lst  = [i for  i in range(1,50)  if  i%3==0]\n",
    "print(lst)"
   ]
  },
  {
   "cell_type": "code",
   "execution_count": 29,
   "id": "9c2d5020",
   "metadata": {},
   "outputs": [],
   "source": [
    "\n",
    "st = 'Print every word in this sentence that has an even number of letters'"
   ]
  },
  {
   "cell_type": "code",
   "execution_count": 30,
   "id": "fc258fe7",
   "metadata": {},
   "outputs": [],
   "source": [
    "words = st.split()"
   ]
  },
  {
   "cell_type": "code",
   "execution_count": 33,
   "id": "0c33a7a5",
   "metadata": {},
   "outputs": [
    {
     "name": "stdout",
     "output_type": "stream",
     "text": [
      "word length is 4  : even\n",
      "in length is 2  : even\n",
      "this length is 4  : even\n",
      "sentence length is 8  : even\n",
      "that length is 4  : even\n",
      "an length is 2  : even\n",
      "even length is 4  : even\n",
      "number length is 6  : even\n",
      "of length is 2  : even\n"
     ]
    }
   ],
   "source": [
    "for  x  in  words:\n",
    "    if  len(x)%2 == 0:\n",
    "        print('{} length is {}  : even'.format(x,len(x)))"
   ]
  },
  {
   "cell_type": "code",
   "execution_count": 39,
   "id": "4142b9b3",
   "metadata": {},
   "outputs": [
    {
     "name": "stdout",
     "output_type": "stream",
     "text": [
      "1\n",
      "2\n",
      "fizz\n",
      "4\n",
      "buzz\n",
      "fizz\n",
      "7\n",
      "8\n",
      "fizz\n",
      "buzz\n",
      "11\n",
      "fizz\n",
      "13\n",
      "14\n",
      "fizzbuzz\n",
      "16\n",
      "17\n",
      "fizz\n",
      "19\n",
      "buzz\n",
      "fizz\n",
      "22\n",
      "23\n",
      "fizz\n",
      "buzz\n",
      "26\n",
      "fizz\n",
      "28\n",
      "29\n",
      "fizzbuzz\n",
      "31\n",
      "32\n",
      "fizz\n",
      "34\n",
      "buzz\n",
      "fizz\n",
      "37\n",
      "38\n",
      "fizz\n",
      "buzz\n",
      "41\n",
      "fizz\n",
      "43\n",
      "44\n",
      "fizzbuzz\n",
      "46\n",
      "47\n",
      "fizz\n",
      "49\n",
      "buzz\n",
      "fizz\n",
      "52\n",
      "53\n",
      "fizz\n",
      "buzz\n",
      "56\n",
      "fizz\n",
      "58\n",
      "59\n",
      "fizzbuzz\n",
      "61\n",
      "62\n",
      "fizz\n",
      "64\n",
      "buzz\n",
      "fizz\n",
      "67\n",
      "68\n",
      "fizz\n",
      "buzz\n",
      "71\n",
      "fizz\n",
      "73\n",
      "74\n",
      "fizzbuzz\n",
      "76\n",
      "77\n",
      "fizz\n",
      "79\n",
      "buzz\n",
      "fizz\n",
      "82\n",
      "83\n",
      "fizz\n",
      "buzz\n",
      "86\n",
      "fizz\n",
      "88\n",
      "89\n",
      "fizzbuzz\n",
      "91\n",
      "92\n",
      "fizz\n",
      "94\n",
      "buzz\n",
      "fizz\n",
      "97\n",
      "98\n",
      "fizz\n",
      "buzz\n"
     ]
    }
   ],
   "source": [
    "for i in range(1,101):\n",
    "    if i%3 == 0 and i%5 == 0:\n",
    "        print('fizzbuzz')\n",
    "    elif i%5  == 0:\n",
    "        print('buzz')\n",
    "    elif i%3 == 0 :\n",
    "        print('fizz')\n",
    "    else:\n",
    "        print(i)"
   ]
  },
  {
   "cell_type": "code",
   "execution_count": 35,
   "id": "1af61b73",
   "metadata": {},
   "outputs": [],
   "source": [
    "st = 'Create a list of the first letters of every word in this string'"
   ]
  },
  {
   "cell_type": "code",
   "execution_count": 36,
   "id": "d5b1e764",
   "metadata": {},
   "outputs": [],
   "source": [
    "lst =[x[0] for x in st.split()]"
   ]
  },
  {
   "cell_type": "code",
   "execution_count": 37,
   "id": "b54b6968",
   "metadata": {},
   "outputs": [
    {
     "name": "stdout",
     "output_type": "stream",
     "text": [
      "['C', 'a', 'l', 'o', 't', 'f', 'l', 'o', 'e', 'w', 'i', 't', 's']\n"
     ]
    }
   ],
   "source": [
    "print(lst)"
   ]
  },
  {
   "cell_type": "markdown",
   "id": "5d37b108",
   "metadata": {},
   "source": [
    "# Methods and python documentation"
   ]
  },
  {
   "cell_type": "code",
   "execution_count": 40,
   "id": "2201ef85",
   "metadata": {},
   "outputs": [],
   "source": [
    "lst = [1,2,3]"
   ]
  },
  {
   "cell_type": "code",
   "execution_count": 41,
   "id": "38cd162e",
   "metadata": {},
   "outputs": [
    {
     "data": {
      "text/plain": [
       "[1, 2, 3, 4]"
      ]
     },
     "execution_count": 41,
     "metadata": {},
     "output_type": "execute_result"
    }
   ],
   "source": [
    "lst.append(4)\n",
    "lst"
   ]
  },
  {
   "cell_type": "code",
   "execution_count": 42,
   "id": "baef01b0",
   "metadata": {},
   "outputs": [
    {
     "data": {
      "text/plain": [
       "[1, 2, 3]"
      ]
     },
     "execution_count": 42,
     "metadata": {},
     "output_type": "execute_result"
    }
   ],
   "source": [
    "lst.pop()\n",
    "lst"
   ]
  },
  {
   "cell_type": "markdown",
   "id": "a7664aec",
   "metadata": {},
   "source": [
    "# Introduction to functions"
   ]
  },
  {
   "cell_type": "markdown",
   "id": "2668c12f",
   "metadata": {},
   "source": [
    "def  keyword"
   ]
  },
  {
   "cell_type": "code",
   "execution_count": 47,
   "id": "8b5e0f53",
   "metadata": {},
   "outputs": [
    {
     "ename": "SyntaxError",
     "evalue": "invalid syntax (<ipython-input-47-5d99bfceeefd>, line 1)",
     "output_type": "error",
     "traceback": [
      "\u001b[1;36m  File \u001b[1;32m\"<ipython-input-47-5d99bfceeefd>\"\u001b[1;36m, line \u001b[1;32m1\u001b[0m\n\u001b[1;33m    def  name_of_function:\u001b[0m\n\u001b[1;37m                         ^\u001b[0m\n\u001b[1;31mSyntaxError\u001b[0m\u001b[1;31m:\u001b[0m invalid syntax\n"
     ]
    }
   ],
   "source": [
    "def  name_of_function():\n",
    "    print('hello')\n",
    "    \n",
    "    "
   ]
  },
  {
   "cell_type": "code",
   "execution_count": 48,
   "id": "f9e3c3b1",
   "metadata": {},
   "outputs": [
    {
     "name": "stdout",
     "output_type": "stream",
     "text": [
      "hello\n"
     ]
    }
   ],
   "source": [
    "name_of_function()"
   ]
  },
  {
   "cell_type": "code",
   "execution_count": 56,
   "id": "0974bf8c",
   "metadata": {},
   "outputs": [],
   "source": [
    "def name_of_fun(name):\n",
    "    print('hello  '  +  name)"
   ]
  },
  {
   "cell_type": "code",
   "execution_count": 57,
   "id": "76c0d8df",
   "metadata": {},
   "outputs": [
    {
     "name": "stdout",
     "output_type": "stream",
     "text": [
      "hello  rhea\n"
     ]
    }
   ],
   "source": [
    "name_of_fun('rhea')"
   ]
  },
  {
   "cell_type": "code",
   "execution_count": 58,
   "id": "cf52841b",
   "metadata": {},
   "outputs": [],
   "source": [
    "def add_fun(n1,n2):\n",
    "    return n1+n2"
   ]
  },
  {
   "cell_type": "code",
   "execution_count": 60,
   "id": "4d8a90c5",
   "metadata": {},
   "outputs": [
    {
     "name": "stdout",
     "output_type": "stream",
     "text": [
      "5\n"
     ]
    }
   ],
   "source": [
    "result = add_fun(2,3)\n",
    "print(result)"
   ]
  },
  {
   "cell_type": "code",
   "execution_count": 63,
   "id": "0323a8b1",
   "metadata": {},
   "outputs": [],
   "source": [
    "def say_hello():\n",
    "    print(\"hello\")\n",
    "    print(\"are\")\n",
    "    print('you')"
   ]
  },
  {
   "cell_type": "code",
   "execution_count": 64,
   "id": "deede235",
   "metadata": {},
   "outputs": [
    {
     "name": "stdout",
     "output_type": "stream",
     "text": [
      "hello\n",
      "are\n",
      "you\n"
     ]
    }
   ],
   "source": [
    "say_hello()"
   ]
  },
  {
   "cell_type": "code",
   "execution_count": 65,
   "id": "b729dc1b",
   "metadata": {},
   "outputs": [],
   "source": [
    "def say_hello(name):\n",
    "    print(f'hello  {name}')"
   ]
  },
  {
   "cell_type": "code",
   "execution_count": 66,
   "id": "06fdd07c",
   "metadata": {},
   "outputs": [
    {
     "name": "stdout",
     "output_type": "stream",
     "text": [
      "hello  rhea\n"
     ]
    }
   ],
   "source": [
    "say_hello(\"rhea\")"
   ]
  },
  {
   "cell_type": "code",
   "execution_count": 67,
   "id": "572d1591",
   "metadata": {},
   "outputs": [
    {
     "ename": "TypeError",
     "evalue": "say_hello() missing 1 required positional argument: 'name'",
     "output_type": "error",
     "traceback": [
      "\u001b[1;31m---------------------------------------------------------------------------\u001b[0m",
      "\u001b[1;31mTypeError\u001b[0m                                 Traceback (most recent call last)",
      "\u001b[1;32m<ipython-input-67-faa5fc24272a>\u001b[0m in \u001b[0;36m<module>\u001b[1;34m\u001b[0m\n\u001b[1;32m----> 1\u001b[1;33m \u001b[0msay_hello\u001b[0m\u001b[1;33m(\u001b[0m\u001b[1;33m)\u001b[0m\u001b[1;33m\u001b[0m\u001b[1;33m\u001b[0m\u001b[0m\n\u001b[0m",
      "\u001b[1;31mTypeError\u001b[0m: say_hello() missing 1 required positional argument: 'name'"
     ]
    }
   ],
   "source": [
    "say_hello()"
   ]
  },
  {
   "cell_type": "markdown",
   "id": "305c16fa",
   "metadata": {},
   "source": [
    "fixing the above error  with a  default value"
   ]
  },
  {
   "cell_type": "code",
   "execution_count": 70,
   "id": "f2dfcdff",
   "metadata": {},
   "outputs": [],
   "source": [
    "def say_hello(name  =  'default  value'):\n",
    "    print(f'hello  {name}')"
   ]
  },
  {
   "cell_type": "code",
   "execution_count": 71,
   "id": "ad1ba5bc",
   "metadata": {},
   "outputs": [
    {
     "name": "stdout",
     "output_type": "stream",
     "text": [
      "hello  default  value\n"
     ]
    }
   ],
   "source": [
    "say_hello()"
   ]
  },
  {
   "cell_type": "markdown",
   "id": "f45259ee",
   "metadata": {},
   "source": [
    "# return vs print\n",
    "\n",
    "assignment to a variable"
   ]
  },
  {
   "cell_type": "code",
   "execution_count": 73,
   "id": "2ffc3fda",
   "metadata": {},
   "outputs": [],
   "source": [
    "def print_result(a,b):\n",
    "    print (a+b)\n",
    "    "
   ]
  },
  {
   "cell_type": "code",
   "execution_count": 74,
   "id": "64b8059a",
   "metadata": {},
   "outputs": [],
   "source": [
    "def return_result(a,b):\n",
    "    return a+b"
   ]
  },
  {
   "cell_type": "code",
   "execution_count": 75,
   "id": "1b3df392",
   "metadata": {},
   "outputs": [
    {
     "name": "stdout",
     "output_type": "stream",
     "text": [
      "30\n"
     ]
    }
   ],
   "source": [
    "res1 = print_result(10,20)"
   ]
  },
  {
   "cell_type": "code",
   "execution_count": 76,
   "id": "05621611",
   "metadata": {},
   "outputs": [
    {
     "data": {
      "text/plain": [
       "NoneType"
      ]
     },
     "execution_count": 76,
     "metadata": {},
     "output_type": "execute_result"
    }
   ],
   "source": [
    "type(res1)"
   ]
  },
  {
   "cell_type": "code",
   "execution_count": 77,
   "id": "9fe14d82",
   "metadata": {},
   "outputs": [],
   "source": [
    "res2 = return_result(10,20)"
   ]
  },
  {
   "cell_type": "code",
   "execution_count": 78,
   "id": "ebea64f3",
   "metadata": {},
   "outputs": [
    {
     "name": "stdout",
     "output_type": "stream",
     "text": [
      "30\n"
     ]
    }
   ],
   "source": [
    "print(res2)"
   ]
  },
  {
   "cell_type": "code",
   "execution_count": 79,
   "id": "25c02025",
   "metadata": {},
   "outputs": [
    {
     "data": {
      "text/plain": [
       "int"
      ]
     },
     "execution_count": 79,
     "metadata": {},
     "output_type": "execute_result"
    }
   ],
   "source": [
    "type(res2)"
   ]
  },
  {
   "cell_type": "code",
   "execution_count": 80,
   "id": "03335190",
   "metadata": {},
   "outputs": [],
   "source": [
    "def sum_num(n1,n2):\n",
    "    return n1+n2"
   ]
  },
  {
   "cell_type": "code",
   "execution_count": 82,
   "id": "2a0e40de",
   "metadata": {},
   "outputs": [
    {
     "name": "stdout",
     "output_type": "stream",
     "text": [
      "1020\n",
      "30\n"
     ]
    }
   ],
   "source": [
    "res = sum_num('10','20')\n",
    "print(res)\n",
    "res1 = sum_num(10,20)\n",
    "print(res1)"
   ]
  },
  {
   "cell_type": "markdown",
   "id": "4856d0f0",
   "metadata": {},
   "source": [
    "# functions with logic "
   ]
  },
  {
   "cell_type": "code",
   "execution_count": 83,
   "id": "fe1e8778",
   "metadata": {},
   "outputs": [],
   "source": [
    "def even_check(num):\n",
    "    res = num % 2 == 0\n",
    "    return res\n",
    "        \n",
    "        "
   ]
  },
  {
   "cell_type": "code",
   "execution_count": 84,
   "id": "cef60a5c",
   "metadata": {},
   "outputs": [
    {
     "data": {
      "text/plain": [
       "True"
      ]
     },
     "execution_count": 84,
     "metadata": {},
     "output_type": "execute_result"
    }
   ],
   "source": [
    "even_check(20)"
   ]
  },
  {
   "cell_type": "code",
   "execution_count": 85,
   "id": "92b4ca6b",
   "metadata": {},
   "outputs": [
    {
     "data": {
      "text/plain": [
       "False"
      ]
     },
     "execution_count": 85,
     "metadata": {},
     "output_type": "execute_result"
    }
   ],
   "source": [
    "even_check(177)"
   ]
  },
  {
   "cell_type": "code",
   "execution_count": 90,
   "id": "2941f931",
   "metadata": {},
   "outputs": [],
   "source": [
    "#return true if any number is even inside a list\n",
    "\n",
    "def check_even_list(num_list):\n",
    "    for num in num_list:\n",
    "        if num %2 ==  0:\n",
    "            return True\n",
    "        else:\n",
    "            pass\n",
    "    return False\n",
    "    "
   ]
  },
  {
   "cell_type": "code",
   "execution_count": 91,
   "id": "c6fae208",
   "metadata": {},
   "outputs": [
    {
     "name": "stdout",
     "output_type": "stream",
     "text": [
      "False\n"
     ]
    }
   ],
   "source": [
    "res = check_even_list([1,3,5,7,9])\n",
    "print(res)"
   ]
  },
  {
   "cell_type": "code",
   "execution_count": 92,
   "id": "e29f52a3",
   "metadata": {},
   "outputs": [
    {
     "name": "stdout",
     "output_type": "stream",
     "text": [
      "True\n"
     ]
    }
   ],
   "source": [
    "res = check_even_list([1,3,5,4,7,9])\n",
    "print(res)"
   ]
  },
  {
   "cell_type": "code",
   "execution_count": 93,
   "id": "b4b50592",
   "metadata": {},
   "outputs": [],
   "source": [
    "#return even numbers in  a list\n",
    "\n",
    "def return_even_num(num_list):\n",
    "    even_num = []\n",
    "    \n",
    "    for  num  in num_list:\n",
    "        if  num%2 ==  0:\n",
    "            even_num.append(num)\n",
    "        else:\n",
    "            pass\n",
    "    return even_num"
   ]
  },
  {
   "cell_type": "code",
   "execution_count": 94,
   "id": "c003c500",
   "metadata": {},
   "outputs": [
    {
     "data": {
      "text/plain": [
       "[2, 4, 6, 8]"
      ]
     },
     "execution_count": 94,
     "metadata": {},
     "output_type": "execute_result"
    }
   ],
   "source": [
    "return_even_num([1,2,3,4,5,6,7,8,9])"
   ]
  },
  {
   "cell_type": "code",
   "execution_count": null,
   "id": "7fc1eabc",
   "metadata": {},
   "outputs": [],
   "source": []
  }
 ],
 "metadata": {
  "kernelspec": {
   "display_name": "Python 3",
   "language": "python",
   "name": "python3"
  },
  "language_info": {
   "codemirror_mode": {
    "name": "ipython",
    "version": 3
   },
   "file_extension": ".py",
   "mimetype": "text/x-python",
   "name": "python",
   "nbconvert_exporter": "python",
   "pygments_lexer": "ipython3",
   "version": "3.8.8"
  }
 },
 "nbformat": 4,
 "nbformat_minor": 5
}
