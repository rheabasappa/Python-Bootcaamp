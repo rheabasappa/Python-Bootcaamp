{
 "cells": [
  {
   "cell_type": "markdown",
   "id": "df6b9f42",
   "metadata": {},
   "source": [
    "### Regular expressions part two "
   ]
  },
  {
   "cell_type": "code",
   "execution_count": 2,
   "id": "0d54e07b",
   "metadata": {},
   "outputs": [],
   "source": [
    "import re"
   ]
  },
  {
   "cell_type": "code",
   "execution_count": 2,
   "id": "ac794d1e",
   "metadata": {},
   "outputs": [],
   "source": [
    "t = \"my phone number is 678-678-1234\""
   ]
  },
  {
   "cell_type": "code",
   "execution_count": 6,
   "id": "7aa0489c",
   "metadata": {},
   "outputs": [],
   "source": [
    "pattern = '\\d{3}-\\d{3}-\\d{4}'"
   ]
  },
  {
   "cell_type": "code",
   "execution_count": 8,
   "id": "20449a52",
   "metadata": {},
   "outputs": [],
   "source": [
    "phone = re.search(pattern,t)"
   ]
  },
  {
   "cell_type": "code",
   "execution_count": 9,
   "id": "8b68b213",
   "metadata": {},
   "outputs": [
    {
     "data": {
      "text/plain": [
       "<re.Match object; span=(19, 31), match='678-678-1234'>"
      ]
     },
     "execution_count": 9,
     "metadata": {},
     "output_type": "execute_result"
    }
   ],
   "source": [
    "phone"
   ]
  },
  {
   "cell_type": "code",
   "execution_count": 11,
   "id": "2cff8fe9",
   "metadata": {},
   "outputs": [],
   "source": [
    "phone_pattern = re.compile(r'()-()-()'')"
   ]
  },
  {
   "cell_type": "markdown",
   "id": "0b71fc44",
   "metadata": {},
   "source": [
    "#### | -> or operator"
   ]
  },
  {
   "cell_type": "code",
   "execution_count": 3,
   "id": "7c4300f1",
   "metadata": {},
   "outputs": [
    {
     "data": {
      "text/plain": [
       "['cat']"
      ]
     },
     "execution_count": 3,
     "metadata": {},
     "output_type": "execute_result"
    }
   ],
   "source": [
    "re.findall(r'cat|dog','cat went to the market')"
   ]
  },
  {
   "cell_type": "markdown",
   "id": "52ccbf28",
   "metadata": {},
   "source": [
    "### . -> wildcard  "
   ]
  },
  {
   "cell_type": "code",
   "execution_count": 4,
   "id": "eafdb203",
   "metadata": {},
   "outputs": [
    {
     "data": {
      "text/plain": [
       "['cat', 'hat', 'sat']"
      ]
     },
     "execution_count": 4,
     "metadata": {},
     "output_type": "execute_result"
    }
   ],
   "source": [
    "re.findall(r'.at','the cat with the hat sat there')"
   ]
  },
  {
   "cell_type": "markdown",
   "id": "c78b4d16",
   "metadata": {},
   "source": [
    "#### ^ -> startswith"
   ]
  },
  {
   "cell_type": "code",
   "execution_count": 5,
   "id": "f5336d58",
   "metadata": {},
   "outputs": [
    {
     "data": {
      "text/plain": [
       "['2']"
      ]
     },
     "execution_count": 5,
     "metadata": {},
     "output_type": "execute_result"
    }
   ],
   "source": [
    "re.findall(r'^\\d','2 is a number')"
   ]
  },
  {
   "cell_type": "markdown",
   "id": "c4f6c316",
   "metadata": {},
   "source": [
    "#### $-> endswith "
   ]
  },
  {
   "cell_type": "code",
   "execution_count": 6,
   "id": "1a95f876",
   "metadata": {},
   "outputs": [
    {
     "data": {
      "text/plain": [
       "['2']"
      ]
     },
     "execution_count": 6,
     "metadata": {},
     "output_type": "execute_result"
    }
   ],
   "source": [
    "re.findall(r'\\d$','the number is 2')"
   ]
  },
  {
   "cell_type": "markdown",
   "id": "19016c6c",
   "metadata": {},
   "source": [
    "#### exclusion "
   ]
  },
  {
   "cell_type": "code",
   "execution_count": 7,
   "id": "913f2fd2",
   "metadata": {},
   "outputs": [],
   "source": [
    "p = 'there is 3 a number 34 inside 5 this sentence'"
   ]
  },
  {
   "cell_type": "code",
   "execution_count": 11,
   "id": "b5bc8969",
   "metadata": {},
   "outputs": [],
   "source": [
    "pattern = r'[^\\d ]+'"
   ]
  },
  {
   "cell_type": "code",
   "execution_count": 12,
   "id": "595165e0",
   "metadata": {},
   "outputs": [
    {
     "data": {
      "text/plain": [
       "'there is a number inside this sentence'"
      ]
     },
     "execution_count": 12,
     "metadata": {},
     "output_type": "execute_result"
    }
   ],
   "source": [
    "' '.join(re.findall(pattern,p))"
   ]
  },
  {
   "cell_type": "markdown",
   "id": "fecdb979",
   "metadata": {},
   "source": [
    "#### Inclusion  "
   ]
  },
  {
   "cell_type": "code",
   "execution_count": 13,
   "id": "6ed75b4d",
   "metadata": {},
   "outputs": [],
   "source": [
    "p = 'to find hypen-ated words in this long-line of sentence'"
   ]
  },
  {
   "cell_type": "code",
   "execution_count": 18,
   "id": "f203114e",
   "metadata": {},
   "outputs": [],
   "source": [
    "pattern = r'[\\w]+-[\\w]+'"
   ]
  },
  {
   "cell_type": "code",
   "execution_count": 19,
   "id": "14a03e3b",
   "metadata": {},
   "outputs": [
    {
     "data": {
      "text/plain": [
       "['hypen-ated', 'long-line']"
      ]
     },
     "execution_count": 19,
     "metadata": {},
     "output_type": "execute_result"
    }
   ],
   "source": [
    "re.findall(pattern,p)"
   ]
  },
  {
   "cell_type": "markdown",
   "id": "c58d2b2f",
   "metadata": {},
   "source": [
    "#### exclude punctuation "
   ]
  },
  {
   "cell_type": "code",
   "execution_count": 38,
   "id": "e205cd74",
   "metadata": {},
   "outputs": [],
   "source": [
    "p = 'this sentence! has a lot of - punctuations. why?'"
   ]
  },
  {
   "cell_type": "code",
   "execution_count": 39,
   "id": "bed68127",
   "metadata": {},
   "outputs": [],
   "source": [
    "pattern = r'[^!-.? ]+'"
   ]
  },
  {
   "cell_type": "code",
   "execution_count": 40,
   "id": "69af196e",
   "metadata": {},
   "outputs": [
    {
     "data": {
      "text/plain": [
       "['this', 'sentence', 'has', 'a', 'lot', 'of', 'punctuations', 'why']"
      ]
     },
     "execution_count": 40,
     "metadata": {},
     "output_type": "execute_result"
    }
   ],
   "source": [
    "re.findall(pattern,p)"
   ]
  },
  {
   "cell_type": "code",
   "execution_count": 28,
   "id": "ef9df856",
   "metadata": {},
   "outputs": [],
   "source": [
    "t1 = 'hello wwouldd you like catfish'\n",
    "t2 = 'is your pet taking a catnap'\n",
    "t3 = 'have you seen this catterpillar'"
   ]
  },
  {
   "cell_type": "code",
   "execution_count": 32,
   "id": "df364671",
   "metadata": {},
   "outputs": [],
   "source": [
    "t4 = t1+t2+t3"
   ]
  },
  {
   "cell_type": "code",
   "execution_count": 34,
   "id": "03e0850f",
   "metadata": {},
   "outputs": [
    {
     "data": {
      "text/plain": [
       "['catfish', 'catnap', 'catterpillar']"
      ]
     },
     "execution_count": 34,
     "metadata": {},
     "output_type": "execute_result"
    }
   ],
   "source": [
    "re.findall(r'...fish|...nap|......pillar',t4)"
   ]
  },
  {
   "cell_type": "markdown",
   "id": "c957838f",
   "metadata": {},
   "source": [
    "#### Timing your code "
   ]
  },
  {
   "cell_type": "code",
   "execution_count": 35,
   "id": "bad0314d",
   "metadata": {},
   "outputs": [],
   "source": [
    "def str_num(n):\n",
    "    lst = []\n",
    "    for i in range(n):\n",
    "        lst.append(str(i))\n",
    "        \n",
    "    return lst\n",
    "        "
   ]
  },
  {
   "cell_type": "code",
   "execution_count": 36,
   "id": "8b9bd4fe",
   "metadata": {},
   "outputs": [
    {
     "data": {
      "text/plain": [
       "['0', '1', '2', '3', '4', '5', '6', '7', '8', '9']"
      ]
     },
     "execution_count": 36,
     "metadata": {},
     "output_type": "execute_result"
    }
   ],
   "source": [
    "str_num(10)"
   ]
  },
  {
   "cell_type": "code",
   "execution_count": 37,
   "id": "8103f444",
   "metadata": {},
   "outputs": [],
   "source": [
    "def easy(n):\n",
    "    return[str(num) for num in range(n) ]"
   ]
  },
  {
   "cell_type": "code",
   "execution_count": 38,
   "id": "9b0703b8",
   "metadata": {},
   "outputs": [
    {
     "data": {
      "text/plain": [
       "['0', '1', '2', '3', '4', '5', '6', '7', '8', '9']"
      ]
     },
     "execution_count": 38,
     "metadata": {},
     "output_type": "execute_result"
    }
   ],
   "source": [
    "easy(10)"
   ]
  },
  {
   "cell_type": "code",
   "execution_count": 39,
   "id": "80837ef6",
   "metadata": {},
   "outputs": [],
   "source": [
    "def mapped(n):\n",
    "    return (list(map(str,range(n))))"
   ]
  },
  {
   "cell_type": "code",
   "execution_count": 40,
   "id": "a2b9b233",
   "metadata": {},
   "outputs": [
    {
     "data": {
      "text/plain": [
       "['0', '1', '2', '3', '4', '5', '6', '7', '8', '9']"
      ]
     },
     "execution_count": 40,
     "metadata": {},
     "output_type": "execute_result"
    }
   ],
   "source": [
    "mapped(10)"
   ]
  },
  {
   "cell_type": "code",
   "execution_count": 41,
   "id": "1c405b02",
   "metadata": {},
   "outputs": [],
   "source": [
    "import time"
   ]
  },
  {
   "cell_type": "code",
   "execution_count": 46,
   "id": "8116de3a",
   "metadata": {},
   "outputs": [
    {
     "name": "stdout",
     "output_type": "stream",
     "text": [
      "0.18042922019958496\n"
     ]
    }
   ],
   "source": [
    "#current time brfore code\n",
    "startime = time.time()\n",
    "#run code\n",
    "result = easy(1000000)\n",
    "#current time after code\n",
    "stoptime = time.time()\n",
    "#difference\n",
    "elapse1 = stoptime - startime\n",
    "\n",
    "print(elapse1)"
   ]
  },
  {
   "cell_type": "code",
   "execution_count": 47,
   "id": "8781cc05",
   "metadata": {},
   "outputs": [
    {
     "name": "stdout",
     "output_type": "stream",
     "text": [
      "0.1415705680847168\n"
     ]
    }
   ],
   "source": [
    "startime = time.time()\n",
    "#run code\n",
    "result = mapped(1000000)\n",
    "#current time after code\n",
    "stoptime = time.time()\n",
    "#difference\n",
    "elapse2 = stoptime - startime\n",
    "\n",
    "print(elapse2)"
   ]
  },
  {
   "cell_type": "code",
   "execution_count": 48,
   "id": "feda1cb0",
   "metadata": {},
   "outputs": [
    {
     "name": "stdout",
     "output_type": "stream",
     "text": [
      "0.22131752967834473\n"
     ]
    }
   ],
   "source": [
    "startime = time.time()\n",
    "#run code\n",
    "result = str_num(1000000)\n",
    "#current time after code\n",
    "stoptime = time.time()\n",
    "#difference\n",
    "elapse3 = stoptime - startime\n",
    "\n",
    "print(elapse3)"
   ]
  },
  {
   "cell_type": "code",
   "execution_count": 51,
   "id": "263b86a4",
   "metadata": {},
   "outputs": [
    {
     "data": {
      "text/plain": [
       "0.22131752967834473"
      ]
     },
     "execution_count": 51,
     "metadata": {},
     "output_type": "execute_result"
    }
   ],
   "source": [
    "max(elapse1,elapse2,elapse3)"
   ]
  },
  {
   "cell_type": "code",
   "execution_count": 52,
   "id": "666d32a4",
   "metadata": {},
   "outputs": [],
   "source": [
    "import timeit"
   ]
  },
  {
   "cell_type": "code",
   "execution_count": 53,
   "id": "62b629ae",
   "metadata": {},
   "outputs": [],
   "source": [
    "stmt ='''\n",
    "str_num(100)\n",
    "'''"
   ]
  },
  {
   "cell_type": "code",
   "execution_count": 54,
   "id": "c1a369e1",
   "metadata": {},
   "outputs": [],
   "source": [
    "setup = '''\n",
    "def str_num(n):\n",
    "    lst = []\n",
    "    for i in range(n):\n",
    "        lst.append(str(i))\n",
    "        \n",
    "    return lst\n",
    "        \n",
    "'''"
   ]
  },
  {
   "cell_type": "code",
   "execution_count": 56,
   "id": "b53cef4f",
   "metadata": {},
   "outputs": [],
   "source": [
    "f1 = timeit.timeit(stmt,setup,number=100)"
   ]
  },
  {
   "cell_type": "code",
   "execution_count": 59,
   "id": "6b0abc17",
   "metadata": {},
   "outputs": [],
   "source": [
    "stmt1 = '''\n",
    "easy(100)\n",
    "'''"
   ]
  },
  {
   "cell_type": "code",
   "execution_count": 60,
   "id": "07ab15f0",
   "metadata": {},
   "outputs": [],
   "source": [
    "setup1 = '''\n",
    "def easy(n):\n",
    "    return[str(num) for num in range(n) ]\n",
    "'''"
   ]
  },
  {
   "cell_type": "code",
   "execution_count": 61,
   "id": "b3dba10e",
   "metadata": {},
   "outputs": [],
   "source": [
    "f2 = timeit.timeit(stmt1,setup1,number=100)"
   ]
  },
  {
   "cell_type": "code",
   "execution_count": 62,
   "id": "5452ec6e",
   "metadata": {},
   "outputs": [
    {
     "data": {
      "text/plain": [
       "0.001957700000048135"
      ]
     },
     "execution_count": 62,
     "metadata": {},
     "output_type": "execute_result"
    }
   ],
   "source": [
    "max(f1,f2)"
   ]
  },
  {
   "cell_type": "code",
   "execution_count": 63,
   "id": "5ad24c36",
   "metadata": {},
   "outputs": [
    {
     "data": {
      "text/plain": [
       "0.0016709999999875436"
      ]
     },
     "execution_count": 63,
     "metadata": {},
     "output_type": "execute_result"
    }
   ],
   "source": [
    "f2"
   ]
  },
  {
   "cell_type": "markdown",
   "id": "9df7d9f2",
   "metadata": {},
   "source": [
    "### zipping and unzipping files in python"
   ]
  },
  {
   "cell_type": "code",
   "execution_count": 1,
   "id": "ba3d01d2",
   "metadata": {},
   "outputs": [],
   "source": [
    "f = open('file1.txt','w+')\n",
    "f.write(\"one file\")\n",
    "f.close()"
   ]
  },
  {
   "cell_type": "code",
   "execution_count": 2,
   "id": "b8ca489d",
   "metadata": {},
   "outputs": [],
   "source": [
    "f = open('file2.txt','w+')\n",
    "f.write(\"two file\")\n",
    "f.close()"
   ]
  },
  {
   "cell_type": "code",
   "execution_count": 3,
   "id": "9b96db13",
   "metadata": {},
   "outputs": [],
   "source": [
    "import zipfile"
   ]
  },
  {
   "cell_type": "code",
   "execution_count": 4,
   "id": "be708570",
   "metadata": {},
   "outputs": [],
   "source": [
    "comp_file = zipfile.ZipFile('comp_zip.file','w')"
   ]
  },
  {
   "cell_type": "code",
   "execution_count": 5,
   "id": "e19f93dc",
   "metadata": {},
   "outputs": [],
   "source": [
    "comp_file.write('file1.txt',compress_type=zipfile.ZIP_DEFLATED)"
   ]
  },
  {
   "cell_type": "code",
   "execution_count": 6,
   "id": "e0e0060d",
   "metadata": {},
   "outputs": [],
   "source": [
    "comp_file.write('file2.txt',compress_type=zipfile.ZIP_DEFLATED)"
   ]
  },
  {
   "cell_type": "code",
   "execution_count": 7,
   "id": "039f7493",
   "metadata": {},
   "outputs": [],
   "source": [
    "comp_file.close()"
   ]
  },
  {
   "cell_type": "code",
   "execution_count": 8,
   "id": "e8caa729",
   "metadata": {},
   "outputs": [],
   "source": [
    "zip_obj = zipfile.ZipFile('comp_zip.file','r')"
   ]
  },
  {
   "cell_type": "code",
   "execution_count": 9,
   "id": "7229df34",
   "metadata": {},
   "outputs": [],
   "source": [
    "zip_obj.extractall('extracted_content')"
   ]
  },
  {
   "cell_type": "markdown",
   "id": "c185c213",
   "metadata": {},
   "source": [
    "### Puzzle "
   ]
  },
  {
   "cell_type": "markdown",
   "id": "e352249d",
   "metadata": {},
   "source": [
    "### webscrapping with Python "
   ]
  },
  {
   "cell_type": "markdown",
   "id": "71ed158a",
   "metadata": {},
   "source": [
    "#### Introduction "
   ]
  },
  {
   "cell_type": "markdown",
   "id": "2f2b3a5c",
   "metadata": {},
   "source": [
    "#### setting up web scraping libraries "
   ]
  },
  {
   "cell_type": "code",
   "execution_count": 1,
   "id": "9e2701a2",
   "metadata": {},
   "outputs": [],
   "source": [
    "import requests"
   ]
  },
  {
   "cell_type": "code",
   "execution_count": 2,
   "id": "50e6815d",
   "metadata": {},
   "outputs": [],
   "source": [
    "import bs4"
   ]
  },
  {
   "cell_type": "markdown",
   "id": "c871f17e",
   "metadata": {},
   "source": [
    "#### Grabbing a title "
   ]
  },
  {
   "cell_type": "code",
   "execution_count": 3,
   "id": "33f9e03e",
   "metadata": {},
   "outputs": [],
   "source": [
    "import requests"
   ]
  },
  {
   "cell_type": "code",
   "execution_count": 4,
   "id": "8392e938",
   "metadata": {},
   "outputs": [],
   "source": [
    "web_page = requests.get(\"http://www.example.com\")"
   ]
  },
  {
   "cell_type": "code",
   "execution_count": 5,
   "id": "96afd2c7",
   "metadata": {},
   "outputs": [
    {
     "data": {
      "text/plain": [
       "requests.models.Response"
      ]
     },
     "execution_count": 5,
     "metadata": {},
     "output_type": "execute_result"
    }
   ],
   "source": [
    "type(web_page)"
   ]
  },
  {
   "cell_type": "code",
   "execution_count": 6,
   "id": "3bbf41fb",
   "metadata": {},
   "outputs": [
    {
     "data": {
      "text/plain": [
       "'<!doctype html>\\n<html>\\n<head>\\n    <title>Example Domain</title>\\n\\n    <meta charset=\"utf-8\" />\\n    <meta http-equiv=\"Content-type\" content=\"text/html; charset=utf-8\" />\\n    <meta name=\"viewport\" content=\"width=device-width, initial-scale=1\" />\\n    <style type=\"text/css\">\\n    body {\\n        background-color: #f0f0f2;\\n        margin: 0;\\n        padding: 0;\\n        font-family: -apple-system, system-ui, BlinkMacSystemFont, \"Segoe UI\", \"Open Sans\", \"Helvetica Neue\", Helvetica, Arial, sans-serif;\\n        \\n    }\\n    div {\\n        width: 600px;\\n        margin: 5em auto;\\n        padding: 2em;\\n        background-color: #fdfdff;\\n        border-radius: 0.5em;\\n        box-shadow: 2px 3px 7px 2px rgba(0,0,0,0.02);\\n    }\\n    a:link, a:visited {\\n        color: #38488f;\\n        text-decoration: none;\\n    }\\n    @media (max-width: 700px) {\\n        div {\\n            margin: 0 auto;\\n            width: auto;\\n        }\\n    }\\n    </style>    \\n</head>\\n\\n<body>\\n<div>\\n    <h1>Example Domain</h1>\\n    <p>This domain is for use in illustrative examples in documents. You may use this\\n    domain in literature without prior coordination or asking for permission.</p>\\n    <p><a href=\"https://www.iana.org/domains/example\">More information...</a></p>\\n</div>\\n</body>\\n</html>\\n'"
      ]
     },
     "execution_count": 6,
     "metadata": {},
     "output_type": "execute_result"
    }
   ],
   "source": [
    "web_page.text"
   ]
  },
  {
   "cell_type": "code",
   "execution_count": 7,
   "id": "0aa432c9",
   "metadata": {},
   "outputs": [],
   "source": [
    "import bs4"
   ]
  },
  {
   "cell_type": "code",
   "execution_count": 8,
   "id": "8cccda0a",
   "metadata": {},
   "outputs": [],
   "source": [
    "soup = bs4.BeautifulSoup(web_page.text,'lxml')"
   ]
  },
  {
   "cell_type": "code",
   "execution_count": 9,
   "id": "7ca22acc",
   "metadata": {},
   "outputs": [
    {
     "data": {
      "text/plain": [
       "<!DOCTYPE html>\n",
       "<html>\n",
       "<head>\n",
       "<title>Example Domain</title>\n",
       "<meta charset=\"utf-8\"/>\n",
       "<meta content=\"text/html; charset=utf-8\" http-equiv=\"Content-type\"/>\n",
       "<meta content=\"width=device-width, initial-scale=1\" name=\"viewport\"/>\n",
       "<style type=\"text/css\">\n",
       "    body {\n",
       "        background-color: #f0f0f2;\n",
       "        margin: 0;\n",
       "        padding: 0;\n",
       "        font-family: -apple-system, system-ui, BlinkMacSystemFont, \"Segoe UI\", \"Open Sans\", \"Helvetica Neue\", Helvetica, Arial, sans-serif;\n",
       "        \n",
       "    }\n",
       "    div {\n",
       "        width: 600px;\n",
       "        margin: 5em auto;\n",
       "        padding: 2em;\n",
       "        background-color: #fdfdff;\n",
       "        border-radius: 0.5em;\n",
       "        box-shadow: 2px 3px 7px 2px rgba(0,0,0,0.02);\n",
       "    }\n",
       "    a:link, a:visited {\n",
       "        color: #38488f;\n",
       "        text-decoration: none;\n",
       "    }\n",
       "    @media (max-width: 700px) {\n",
       "        div {\n",
       "            margin: 0 auto;\n",
       "            width: auto;\n",
       "        }\n",
       "    }\n",
       "    </style>\n",
       "</head>\n",
       "<body>\n",
       "<div>\n",
       "<h1>Example Domain</h1>\n",
       "<p>This domain is for use in illustrative examples in documents. You may use this\n",
       "    domain in literature without prior coordination or asking for permission.</p>\n",
       "<p><a href=\"https://www.iana.org/domains/example\">More information...</a></p>\n",
       "</div>\n",
       "</body>\n",
       "</html>"
      ]
     },
     "execution_count": 9,
     "metadata": {},
     "output_type": "execute_result"
    }
   ],
   "source": [
    "soup"
   ]
  },
  {
   "cell_type": "code",
   "execution_count": 10,
   "id": "bac702e7",
   "metadata": {},
   "outputs": [
    {
     "data": {
      "text/plain": [
       "[<title>Example Domain</title>]"
      ]
     },
     "execution_count": 10,
     "metadata": {},
     "output_type": "execute_result"
    }
   ],
   "source": [
    "soup.select('title')"
   ]
  },
  {
   "cell_type": "code",
   "execution_count": 16,
   "id": "cbfb4661",
   "metadata": {},
   "outputs": [
    {
     "data": {
      "text/plain": [
       "bs4.element.ResultSet"
      ]
     },
     "execution_count": 16,
     "metadata": {},
     "output_type": "execute_result"
    }
   ],
   "source": [
    "type(soup.select('p'))"
   ]
  },
  {
   "cell_type": "code",
   "execution_count": 12,
   "id": "d8c0c3b0",
   "metadata": {},
   "outputs": [
    {
     "data": {
      "text/plain": [
       "[]"
      ]
     },
     "execution_count": 12,
     "metadata": {},
     "output_type": "execute_result"
    }
   ],
   "source": [
    "soup.select('h')"
   ]
  },
  {
   "cell_type": "code",
   "execution_count": 17,
   "id": "4fd93fcd",
   "metadata": {},
   "outputs": [],
   "source": [
    "a = soup.select('h1')"
   ]
  },
  {
   "cell_type": "code",
   "execution_count": 14,
   "id": "fb8cb74a",
   "metadata": {},
   "outputs": [],
   "source": [
    "title_name = soup.select('title')[0].getText()"
   ]
  },
  {
   "cell_type": "code",
   "execution_count": 15,
   "id": "6879c232",
   "metadata": {},
   "outputs": [
    {
     "data": {
      "text/plain": [
       "'Example Domain'"
      ]
     },
     "execution_count": 15,
     "metadata": {},
     "output_type": "execute_result"
    }
   ],
   "source": [
    "title_name"
   ]
  },
  {
   "cell_type": "code",
   "execution_count": 18,
   "id": "57af99b8",
   "metadata": {},
   "outputs": [],
   "source": [
    "import re"
   ]
  },
  {
   "cell_type": "code",
   "execution_count": 41,
   "id": "6394d2b9",
   "metadata": {},
   "outputs": [
    {
     "data": {
      "text/plain": [
       "['[', 'h1', 'Example', 'Domain', 'h1', ']']"
      ]
     },
     "execution_count": 41,
     "metadata": {},
     "output_type": "execute_result"
    }
   ],
   "source": [
    "re.findall(r'[^<>/ ]+',str(a))"
   ]
  },
  {
   "cell_type": "markdown",
   "id": "d6074748",
   "metadata": {},
   "source": [
    "#### Grabbing the class "
   ]
  },
  {
   "cell_type": "code",
   "execution_count": 42,
   "id": "f5b616d3",
   "metadata": {},
   "outputs": [],
   "source": [
    "res = requests.get('https://en.wikipedia.org/wiki/Grace_Hopper')"
   ]
  },
  {
   "cell_type": "code",
   "execution_count": 43,
   "id": "04608c98",
   "metadata": {},
   "outputs": [],
   "source": [
    "soup = bs4.BeautifulSoup(res.text,\"lxml\")"
   ]
  },
  {
   "cell_type": "code",
   "execution_count": 46,
   "id": "58ebf88e",
   "metadata": {},
   "outputs": [],
   "source": [
    "a = soup.select('.toctext')"
   ]
  },
  {
   "cell_type": "code",
   "execution_count": 47,
   "id": "919f7694",
   "metadata": {},
   "outputs": [
    {
     "data": {
      "text/plain": [
       "bs4.element.Tag"
      ]
     },
     "execution_count": 47,
     "metadata": {},
     "output_type": "execute_result"
    }
   ],
   "source": [
    "type(a[0])"
   ]
  },
  {
   "cell_type": "code",
   "execution_count": 48,
   "id": "dc21237c",
   "metadata": {},
   "outputs": [
    {
     "data": {
      "text/plain": [
       "<span class=\"toctext\">Early life and education</span>"
      ]
     },
     "execution_count": 48,
     "metadata": {},
     "output_type": "execute_result"
    }
   ],
   "source": [
    "a[0]"
   ]
  },
  {
   "cell_type": "code",
   "execution_count": 49,
   "id": "04c0bfc5",
   "metadata": {},
   "outputs": [
    {
     "data": {
      "text/plain": [
       "'Early life and education'"
      ]
     },
     "execution_count": 49,
     "metadata": {},
     "output_type": "execute_result"
    }
   ],
   "source": [
    "a[0].text"
   ]
  },
  {
   "cell_type": "code",
   "execution_count": 50,
   "id": "0443e51f",
   "metadata": {},
   "outputs": [
    {
     "name": "stdout",
     "output_type": "stream",
     "text": [
      "Early life and education\n",
      "Career\n",
      "World War II\n",
      "UNIVAC\n",
      "COBOL\n",
      "Standards\n",
      "Retirement\n",
      "Post-retirement\n",
      "Anecdotes\n",
      "Death\n",
      "Dates of rank\n",
      "Awards and honors\n",
      "Military awards\n",
      "Other awards\n",
      "Legacy\n",
      "Places\n",
      "Programs\n",
      "In popular culture\n",
      "Grace Hopper Celebration of Women in Computing\n",
      "See also\n",
      "Notes\n",
      "Obituary notices\n",
      "References\n",
      "Further reading\n",
      "External links\n"
     ]
    }
   ],
   "source": [
    "for item in soup.select('.toctext'):\n",
    "    print(item.text)"
   ]
  },
  {
   "cell_type": "markdown",
   "id": "7faa5107",
   "metadata": {},
   "source": [
    "#### Grabbing an image "
   ]
  },
  {
   "cell_type": "code",
   "execution_count": 51,
   "id": "4c1d7b97",
   "metadata": {},
   "outputs": [],
   "source": [
    "res = requests.get(\"https://en.wikipedia.org/wiki/Deep_Blue_(chess_computer)\")"
   ]
  },
  {
   "cell_type": "code",
   "execution_count": 52,
   "id": "c4e1fd4d",
   "metadata": {},
   "outputs": [],
   "source": [
    "soup = bs4.BeautifulSoup(res.text,\"lxml\")"
   ]
  },
  {
   "cell_type": "code",
   "execution_count": 57,
   "id": "d68517e3",
   "metadata": {},
   "outputs": [],
   "source": [
    "img_all1 = soup.select('img')"
   ]
  },
  {
   "cell_type": "code",
   "execution_count": 58,
   "id": "153c9285",
   "metadata": {},
   "outputs": [
    {
     "data": {
      "text/plain": [
       "[<img alt=\"Deep Blue.jpg\" data-file-height=\"601\" data-file-width=\"400\" decoding=\"async\" height=\"331\" src=\"//upload.wikimedia.org/wikipedia/commons/thumb/b/be/Deep_Blue.jpg/220px-Deep_Blue.jpg\" srcset=\"//upload.wikimedia.org/wikipedia/commons/thumb/b/be/Deep_Blue.jpg/330px-Deep_Blue.jpg 1.5x, //upload.wikimedia.org/wikipedia/commons/b/be/Deep_Blue.jpg 2x\" width=\"220\"/>,\n",
       " <img alt=\"Chess Programming.svg\" data-file-height=\"60\" data-file-width=\"60\" decoding=\"async\" height=\"150\" src=\"//upload.wikimedia.org/wikipedia/commons/thumb/5/52/Chess_Programming.svg/150px-Chess_Programming.svg.png\" srcset=\"//upload.wikimedia.org/wikipedia/commons/thumb/5/52/Chess_Programming.svg/225px-Chess_Programming.svg.png 1.5x, //upload.wikimedia.org/wikipedia/commons/thumb/5/52/Chess_Programming.svg/300px-Chess_Programming.svg.png 2x\" width=\"150\"/>,\n",
       " <img alt=\"\" class=\"thumbimage\" data-file-height=\"600\" data-file-width=\"800\" decoding=\"async\" height=\"165\" src=\"//upload.wikimedia.org/wikipedia/commons/thumb/6/6f/Kasparov_Magath_1985_Hamburg-2.png/220px-Kasparov_Magath_1985_Hamburg-2.png\" srcset=\"//upload.wikimedia.org/wikipedia/commons/thumb/6/6f/Kasparov_Magath_1985_Hamburg-2.png/330px-Kasparov_Magath_1985_Hamburg-2.png 1.5x, //upload.wikimedia.org/wikipedia/commons/thumb/6/6f/Kasparov_Magath_1985_Hamburg-2.png/440px-Kasparov_Magath_1985_Hamburg-2.png 2x\" width=\"220\"/>,\n",
       " <img alt=\"Nuvola apps package games strategy.png\" class=\"noviewer\" data-file-height=\"128\" data-file-width=\"128\" decoding=\"async\" height=\"28\" src=\"//upload.wikimedia.org/wikipedia/commons/thumb/5/5e/Nuvola_apps_package_games_strategy.png/28px-Nuvola_apps_package_games_strategy.png\" srcset=\"//upload.wikimedia.org/wikipedia/commons/thumb/5/5e/Nuvola_apps_package_games_strategy.png/42px-Nuvola_apps_package_games_strategy.png 1.5x, //upload.wikimedia.org/wikipedia/commons/thumb/5/5e/Nuvola_apps_package_games_strategy.png/56px-Nuvola_apps_package_games_strategy.png 2x\" width=\"28\"/>,\n",
       " <img alt=\"IBM logo.svg\" data-file-height=\"400\" data-file-width=\"1000\" decoding=\"async\" height=\"48\" src=\"//upload.wikimedia.org/wikipedia/commons/thumb/5/51/IBM_logo.svg/120px-IBM_logo.svg.png\" srcset=\"//upload.wikimedia.org/wikipedia/commons/thumb/5/51/IBM_logo.svg/180px-IBM_logo.svg.png 1.5x, //upload.wikimedia.org/wikipedia/commons/thumb/5/51/IBM_logo.svg/240px-IBM_logo.svg.png 2x\" width=\"120\"/>,\n",
       " <img alt=\"Edit this at Wikidata\" data-file-height=\"20\" data-file-width=\"20\" decoding=\"async\" height=\"10\" src=\"//upload.wikimedia.org/wikipedia/en/thumb/8/8a/OOjs_UI_icon_edit-ltr-progressive.svg/10px-OOjs_UI_icon_edit-ltr-progressive.svg.png\" srcset=\"//upload.wikimedia.org/wikipedia/en/thumb/8/8a/OOjs_UI_icon_edit-ltr-progressive.svg/15px-OOjs_UI_icon_edit-ltr-progressive.svg.png 1.5x, //upload.wikimedia.org/wikipedia/en/thumb/8/8a/OOjs_UI_icon_edit-ltr-progressive.svg/20px-OOjs_UI_icon_edit-ltr-progressive.svg.png 2x\" style=\"vertical-align: text-top\" width=\"10\"/>,\n",
       " <img alt=\"\" height=\"1\" src=\"//en.wikipedia.org/wiki/Special:CentralAutoLogin/start?type=1x1\" style=\"border: none; position: absolute;\" title=\"\" width=\"1\"/>,\n",
       " <img alt=\"Wikimedia Foundation\" height=\"31\" loading=\"lazy\" src=\"/static/images/footer/wikimedia-button.png\" srcset=\"/static/images/footer/wikimedia-button-1.5x.png 1.5x, /static/images/footer/wikimedia-button-2x.png 2x\" width=\"88\"/>,\n",
       " <img alt=\"Powered by MediaWiki\" height=\"31\" loading=\"lazy\" src=\"/static/images/footer/poweredby_mediawiki_88x31.png\" srcset=\"/static/images/footer/poweredby_mediawiki_132x47.png 1.5x, /static/images/footer/poweredby_mediawiki_176x62.png 2x\" width=\"88\"/>]"
      ]
     },
     "execution_count": 58,
     "metadata": {},
     "output_type": "execute_result"
    }
   ],
   "source": [
    "img_all1"
   ]
  },
  {
   "cell_type": "code",
   "execution_count": 59,
   "id": "29775c27",
   "metadata": {},
   "outputs": [
    {
     "data": {
      "text/plain": [
       "<img alt=\"Deep Blue.jpg\" data-file-height=\"601\" data-file-width=\"400\" decoding=\"async\" height=\"331\" src=\"//upload.wikimedia.org/wikipedia/commons/thumb/b/be/Deep_Blue.jpg/220px-Deep_Blue.jpg\" srcset=\"//upload.wikimedia.org/wikipedia/commons/thumb/b/be/Deep_Blue.jpg/330px-Deep_Blue.jpg 1.5x, //upload.wikimedia.org/wikipedia/commons/b/be/Deep_Blue.jpg 2x\" width=\"220\"/>"
      ]
     },
     "execution_count": 59,
     "metadata": {},
     "output_type": "execute_result"
    }
   ],
   "source": [
    "img_all1[0]"
   ]
  },
  {
   "cell_type": "code",
   "execution_count": 66,
   "id": "c33be1df",
   "metadata": {},
   "outputs": [],
   "source": [
    "img_all2 = soup.select('.image')"
   ]
  },
  {
   "cell_type": "code",
   "execution_count": 70,
   "id": "00c4f397",
   "metadata": {},
   "outputs": [],
   "source": [
    "a1 = img_all2[0]"
   ]
  },
  {
   "cell_type": "code",
   "execution_count": 71,
   "id": "a46cf3b7",
   "metadata": {},
   "outputs": [
    {
     "data": {
      "text/plain": [
       "bs4.element.Tag"
      ]
     },
     "execution_count": 71,
     "metadata": {},
     "output_type": "execute_result"
    }
   ],
   "source": [
    "type(a1)"
   ]
  },
  {
   "cell_type": "code",
   "execution_count": 76,
   "id": "035093cd",
   "metadata": {},
   "outputs": [],
   "source": [
    "comp  = soup.select('.image>img')[1]"
   ]
  },
  {
   "cell_type": "code",
   "execution_count": 77,
   "id": "a9912a71",
   "metadata": {},
   "outputs": [
    {
     "data": {
      "text/plain": [
       "<img alt=\"Chess Programming.svg\" data-file-height=\"60\" data-file-width=\"60\" decoding=\"async\" height=\"150\" src=\"//upload.wikimedia.org/wikipedia/commons/thumb/5/52/Chess_Programming.svg/150px-Chess_Programming.svg.png\" srcset=\"//upload.wikimedia.org/wikipedia/commons/thumb/5/52/Chess_Programming.svg/225px-Chess_Programming.svg.png 1.5x, //upload.wikimedia.org/wikipedia/commons/thumb/5/52/Chess_Programming.svg/300px-Chess_Programming.svg.png 2x\" width=\"150\"/>"
      ]
     },
     "execution_count": 77,
     "metadata": {},
     "output_type": "execute_result"
    }
   ],
   "source": [
    "comp"
   ]
  },
  {
   "cell_type": "code",
   "execution_count": 78,
   "id": "36042f9b",
   "metadata": {},
   "outputs": [
    {
     "data": {
      "text/plain": [
       "'//upload.wikimedia.org/wikipedia/commons/thumb/5/52/Chess_Programming.svg/150px-Chess_Programming.svg.png'"
      ]
     },
     "execution_count": 78,
     "metadata": {},
     "output_type": "execute_result"
    }
   ],
   "source": [
    "comp['src']"
   ]
  },
  {
   "cell_type": "markdown",
   "id": "e9d12140",
   "metadata": {},
   "source": [
    "<img \n",
    "src=\"//upload.wikimedia.org/wikipedia/commons/thumb/5/52/Chess_Programming.svg/150px-Chess_Programming.svg.png\">"
   ]
  },
  {
   "cell_type": "markdown",
   "id": "53a1bfca",
   "metadata": {},
   "source": [
    "#### to download "
   ]
  },
  {
   "cell_type": "code",
   "execution_count": 82,
   "id": "530b9526",
   "metadata": {},
   "outputs": [],
   "source": [
    "img_link = requests.get(\" http://upload.wikimedia.org/wikipedia/commons/thumb/5/52/Chess_Programming.svg/150px-Chess_Programming.svg.png\")"
   ]
  },
  {
   "cell_type": "code",
   "execution_count": 83,
   "id": "63f11b36",
   "metadata": {},
   "outputs": [],
   "source": [
    "f = open(\"my_comp_image.png\",'wb')"
   ]
  },
  {
   "cell_type": "code",
   "execution_count": 84,
   "id": "20759639",
   "metadata": {},
   "outputs": [
    {
     "data": {
      "text/plain": [
       "12583"
      ]
     },
     "execution_count": 84,
     "metadata": {},
     "output_type": "execute_result"
    }
   ],
   "source": [
    "f.write(img_link.content)"
   ]
  },
  {
   "cell_type": "code",
   "execution_count": 85,
   "id": "5c8a6aa1",
   "metadata": {},
   "outputs": [],
   "source": [
    "f.close()"
   ]
  },
  {
   "cell_type": "markdown",
   "id": "f29b85e7",
   "metadata": {},
   "source": [
    "####  Books examples "
   ]
  },
  {
   "cell_type": "code",
   "execution_count": 87,
   "id": "af27b202",
   "metadata": {},
   "outputs": [],
   "source": [
    "##get title of every book with two star rating"
   ]
  },
  {
   "cell_type": "code",
   "execution_count": 1,
   "id": "4ffcbe8e",
   "metadata": {},
   "outputs": [],
   "source": [
    "import requests"
   ]
  },
  {
   "cell_type": "code",
   "execution_count": 89,
   "id": "1da57bcc",
   "metadata": {},
   "outputs": [],
   "source": [
    "base_url = 'https://books.toscrape.com/catalogue/page-{}.html'"
   ]
  },
  {
   "cell_type": "code",
   "execution_count": 91,
   "id": "90e25032",
   "metadata": {},
   "outputs": [],
   "source": [
    "res = requests.get(base_url.format(1))"
   ]
  },
  {
   "cell_type": "code",
   "execution_count": 92,
   "id": "92ff19f0",
   "metadata": {},
   "outputs": [],
   "source": [
    "soup = bs4.BeautifulSoup(res.text,\"lxml\")"
   ]
  },
  {
   "cell_type": "code",
   "execution_count": 96,
   "id": "8f0f7f42",
   "metadata": {},
   "outputs": [],
   "source": [
    "products =  soup.select(\".product_pod\")"
   ]
  },
  {
   "cell_type": "code",
   "execution_count": 97,
   "id": "80c4ff2c",
   "metadata": {},
   "outputs": [],
   "source": [
    "example =products[0]"
   ]
  },
  {
   "cell_type": "code",
   "execution_count": 98,
   "id": "be5f396a",
   "metadata": {
    "scrolled": true
   },
   "outputs": [
    {
     "data": {
      "text/plain": [
       "<article class=\"product_pod\">\n",
       "<div class=\"image_container\">\n",
       "<a href=\"a-light-in-the-attic_1000/index.html\"><img alt=\"A Light in the Attic\" class=\"thumbnail\" src=\"../media/cache/2c/da/2cdad67c44b002e7ead0cc35693c0e8b.jpg\"/></a>\n",
       "</div>\n",
       "<p class=\"star-rating Three\">\n",
       "<i class=\"icon-star\"></i>\n",
       "<i class=\"icon-star\"></i>\n",
       "<i class=\"icon-star\"></i>\n",
       "<i class=\"icon-star\"></i>\n",
       "<i class=\"icon-star\"></i>\n",
       "</p>\n",
       "<h3><a href=\"a-light-in-the-attic_1000/index.html\" title=\"A Light in the Attic\">A Light in the ...</a></h3>\n",
       "<div class=\"product_price\">\n",
       "<p class=\"price_color\">Â£51.77</p>\n",
       "<p class=\"instock availability\">\n",
       "<i class=\"icon-ok\"></i>\n",
       "    \n",
       "        In stock\n",
       "    \n",
       "</p>\n",
       "<form>\n",
       "<button class=\"btn btn-primary btn-block\" data-loading-text=\"Adding...\" type=\"submit\">Add to basket</button>\n",
       "</form>\n",
       "</div>\n",
       "</article>"
      ]
     },
     "execution_count": 98,
     "metadata": {},
     "output_type": "execute_result"
    }
   ],
   "source": [
    "example"
   ]
  },
  {
   "cell_type": "code",
   "execution_count": 104,
   "id": "7178185e",
   "metadata": {},
   "outputs": [],
   "source": [
    "a =str(example)"
   ]
  },
  {
   "cell_type": "code",
   "execution_count": 105,
   "id": "dd0c3730",
   "metadata": {},
   "outputs": [
    {
     "data": {
      "text/plain": [
       "True"
      ]
     },
     "execution_count": 105,
     "metadata": {},
     "output_type": "execute_result"
    }
   ],
   "source": [
    "'star-rating Three' in a"
   ]
  },
  {
   "cell_type": "code",
   "execution_count": 106,
   "id": "83a3ec09",
   "metadata": {},
   "outputs": [
    {
     "data": {
      "text/plain": [
       "[<p class=\"star-rating Three\">\n",
       " <i class=\"icon-star\"></i>\n",
       " <i class=\"icon-star\"></i>\n",
       " <i class=\"icon-star\"></i>\n",
       " <i class=\"icon-star\"></i>\n",
       " <i class=\"icon-star\"></i>\n",
       " </p>]"
      ]
     },
     "execution_count": 106,
     "metadata": {},
     "output_type": "execute_result"
    }
   ],
   "source": [
    "example.select(\".star-rating.Three\")"
   ]
  },
  {
   "cell_type": "code",
   "execution_count": 111,
   "id": "b2287403",
   "metadata": {},
   "outputs": [],
   "source": [
    "title_link = example.select('a')[1]['title']"
   ]
  },
  {
   "cell_type": "code",
   "execution_count": 112,
   "id": "7184fa75",
   "metadata": {},
   "outputs": [
    {
     "data": {
      "text/plain": [
       "'A Light in the Attic'"
      ]
     },
     "execution_count": 112,
     "metadata": {},
     "output_type": "execute_result"
    }
   ],
   "source": [
    "title_link"
   ]
  },
  {
   "cell_type": "code",
   "execution_count": 2,
   "id": "e18a5be4",
   "metadata": {},
   "outputs": [],
   "source": [
    "import requests"
   ]
  },
  {
   "cell_type": "code",
   "execution_count": 4,
   "id": "9aba4790",
   "metadata": {},
   "outputs": [],
   "source": [
    "import bs4"
   ]
  },
  {
   "cell_type": "code",
   "execution_count": 5,
   "id": "605c5300",
   "metadata": {},
   "outputs": [],
   "source": [
    "base_url = 'https://books.toscrape.com/catalogue/page-{}.html'"
   ]
  },
  {
   "cell_type": "code",
   "execution_count": 6,
   "id": "fa924b85",
   "metadata": {},
   "outputs": [],
   "source": [
    "two_star_titles  = []\n",
    "\n",
    "for i in range(1,51):\n",
    "    \n",
    "    scrape_url = base_url.format(i)\n",
    "    res = requests.get(scrape_url)\n",
    "    \n",
    "    soup = bs4.BeautifulSoup(res.text,'lxml')\n",
    "    \n",
    "    books =  soup.select(\".product_pod\")\n",
    "    \n",
    "    for book in books:\n",
    "        if 'star-rating Two' in str(book):\n",
    "            two_star_titles.append(book.select('a')[1]['title'])\n",
    "            \n",
    "\n",
    "            \n",
    "        "
   ]
  },
  {
   "cell_type": "code",
   "execution_count": 117,
   "id": "a9f7cba3",
   "metadata": {},
   "outputs": [
    {
     "ename": "KeyboardInterrupt",
     "evalue": "",
     "output_type": "error",
     "traceback": [
      "\u001b[1;31m---------------------------------------------------------------------------\u001b[0m",
      "\u001b[1;31mKeyboardInterrupt\u001b[0m                         Traceback (most recent call last)",
      "\u001b[1;32m<ipython-input-117-7df176859413>\u001b[0m in \u001b[0;36m<module>\u001b[1;34m\u001b[0m\n\u001b[0;32m      4\u001b[0m \u001b[1;33m\u001b[0m\u001b[0m\n\u001b[0;32m      5\u001b[0m     \u001b[0mscrape_url\u001b[0m \u001b[1;33m=\u001b[0m \u001b[0mbase_url\u001b[0m\u001b[1;33m.\u001b[0m\u001b[0mformat\u001b[0m\u001b[1;33m(\u001b[0m\u001b[0mn\u001b[0m\u001b[1;33m)\u001b[0m\u001b[1;33m\u001b[0m\u001b[1;33m\u001b[0m\u001b[0m\n\u001b[1;32m----> 6\u001b[1;33m     \u001b[0mres\u001b[0m \u001b[1;33m=\u001b[0m \u001b[0mrequests\u001b[0m\u001b[1;33m.\u001b[0m\u001b[0mget\u001b[0m\u001b[1;33m(\u001b[0m\u001b[0mscrape_url\u001b[0m\u001b[1;33m)\u001b[0m\u001b[1;33m\u001b[0m\u001b[1;33m\u001b[0m\u001b[0m\n\u001b[0m\u001b[0;32m      7\u001b[0m \u001b[1;33m\u001b[0m\u001b[0m\n\u001b[0;32m      8\u001b[0m     \u001b[0msoup\u001b[0m \u001b[1;33m=\u001b[0m \u001b[0mbs4\u001b[0m\u001b[1;33m.\u001b[0m\u001b[0mBeautifulSoup\u001b[0m\u001b[1;33m(\u001b[0m\u001b[0mres\u001b[0m\u001b[1;33m.\u001b[0m\u001b[0mtext\u001b[0m\u001b[1;33m,\u001b[0m\u001b[1;34m\"lxml\"\u001b[0m\u001b[1;33m)\u001b[0m\u001b[1;33m\u001b[0m\u001b[1;33m\u001b[0m\u001b[0m\n",
      "\u001b[1;32m~\\anaconda3\\lib\\site-packages\\requests\\api.py\u001b[0m in \u001b[0;36mget\u001b[1;34m(url, params, **kwargs)\u001b[0m\n\u001b[0;32m     74\u001b[0m \u001b[1;33m\u001b[0m\u001b[0m\n\u001b[0;32m     75\u001b[0m     \u001b[0mkwargs\u001b[0m\u001b[1;33m.\u001b[0m\u001b[0msetdefault\u001b[0m\u001b[1;33m(\u001b[0m\u001b[1;34m'allow_redirects'\u001b[0m\u001b[1;33m,\u001b[0m \u001b[1;32mTrue\u001b[0m\u001b[1;33m)\u001b[0m\u001b[1;33m\u001b[0m\u001b[1;33m\u001b[0m\u001b[0m\n\u001b[1;32m---> 76\u001b[1;33m     \u001b[1;32mreturn\u001b[0m \u001b[0mrequest\u001b[0m\u001b[1;33m(\u001b[0m\u001b[1;34m'get'\u001b[0m\u001b[1;33m,\u001b[0m \u001b[0murl\u001b[0m\u001b[1;33m,\u001b[0m \u001b[0mparams\u001b[0m\u001b[1;33m=\u001b[0m\u001b[0mparams\u001b[0m\u001b[1;33m,\u001b[0m \u001b[1;33m**\u001b[0m\u001b[0mkwargs\u001b[0m\u001b[1;33m)\u001b[0m\u001b[1;33m\u001b[0m\u001b[1;33m\u001b[0m\u001b[0m\n\u001b[0m\u001b[0;32m     77\u001b[0m \u001b[1;33m\u001b[0m\u001b[0m\n\u001b[0;32m     78\u001b[0m \u001b[1;33m\u001b[0m\u001b[0m\n",
      "\u001b[1;32m~\\anaconda3\\lib\\site-packages\\requests\\api.py\u001b[0m in \u001b[0;36mrequest\u001b[1;34m(method, url, **kwargs)\u001b[0m\n\u001b[0;32m     59\u001b[0m     \u001b[1;31m# cases, and look like a memory leak in others.\u001b[0m\u001b[1;33m\u001b[0m\u001b[1;33m\u001b[0m\u001b[1;33m\u001b[0m\u001b[0m\n\u001b[0;32m     60\u001b[0m     \u001b[1;32mwith\u001b[0m \u001b[0msessions\u001b[0m\u001b[1;33m.\u001b[0m\u001b[0mSession\u001b[0m\u001b[1;33m(\u001b[0m\u001b[1;33m)\u001b[0m \u001b[1;32mas\u001b[0m \u001b[0msession\u001b[0m\u001b[1;33m:\u001b[0m\u001b[1;33m\u001b[0m\u001b[1;33m\u001b[0m\u001b[0m\n\u001b[1;32m---> 61\u001b[1;33m         \u001b[1;32mreturn\u001b[0m \u001b[0msession\u001b[0m\u001b[1;33m.\u001b[0m\u001b[0mrequest\u001b[0m\u001b[1;33m(\u001b[0m\u001b[0mmethod\u001b[0m\u001b[1;33m=\u001b[0m\u001b[0mmethod\u001b[0m\u001b[1;33m,\u001b[0m \u001b[0murl\u001b[0m\u001b[1;33m=\u001b[0m\u001b[0murl\u001b[0m\u001b[1;33m,\u001b[0m \u001b[1;33m**\u001b[0m\u001b[0mkwargs\u001b[0m\u001b[1;33m)\u001b[0m\u001b[1;33m\u001b[0m\u001b[1;33m\u001b[0m\u001b[0m\n\u001b[0m\u001b[0;32m     62\u001b[0m \u001b[1;33m\u001b[0m\u001b[0m\n\u001b[0;32m     63\u001b[0m \u001b[1;33m\u001b[0m\u001b[0m\n",
      "\u001b[1;32m~\\anaconda3\\lib\\site-packages\\requests\\sessions.py\u001b[0m in \u001b[0;36mrequest\u001b[1;34m(self, method, url, params, data, headers, cookies, files, auth, timeout, allow_redirects, proxies, hooks, stream, verify, cert, json)\u001b[0m\n\u001b[0;32m    540\u001b[0m         }\n\u001b[0;32m    541\u001b[0m         \u001b[0msend_kwargs\u001b[0m\u001b[1;33m.\u001b[0m\u001b[0mupdate\u001b[0m\u001b[1;33m(\u001b[0m\u001b[0msettings\u001b[0m\u001b[1;33m)\u001b[0m\u001b[1;33m\u001b[0m\u001b[1;33m\u001b[0m\u001b[0m\n\u001b[1;32m--> 542\u001b[1;33m         \u001b[0mresp\u001b[0m \u001b[1;33m=\u001b[0m \u001b[0mself\u001b[0m\u001b[1;33m.\u001b[0m\u001b[0msend\u001b[0m\u001b[1;33m(\u001b[0m\u001b[0mprep\u001b[0m\u001b[1;33m,\u001b[0m \u001b[1;33m**\u001b[0m\u001b[0msend_kwargs\u001b[0m\u001b[1;33m)\u001b[0m\u001b[1;33m\u001b[0m\u001b[1;33m\u001b[0m\u001b[0m\n\u001b[0m\u001b[0;32m    543\u001b[0m \u001b[1;33m\u001b[0m\u001b[0m\n\u001b[0;32m    544\u001b[0m         \u001b[1;32mreturn\u001b[0m \u001b[0mresp\u001b[0m\u001b[1;33m\u001b[0m\u001b[1;33m\u001b[0m\u001b[0m\n",
      "\u001b[1;32m~\\anaconda3\\lib\\site-packages\\requests\\sessions.py\u001b[0m in \u001b[0;36msend\u001b[1;34m(self, request, **kwargs)\u001b[0m\n\u001b[0;32m    653\u001b[0m \u001b[1;33m\u001b[0m\u001b[0m\n\u001b[0;32m    654\u001b[0m         \u001b[1;31m# Send the request\u001b[0m\u001b[1;33m\u001b[0m\u001b[1;33m\u001b[0m\u001b[1;33m\u001b[0m\u001b[0m\n\u001b[1;32m--> 655\u001b[1;33m         \u001b[0mr\u001b[0m \u001b[1;33m=\u001b[0m \u001b[0madapter\u001b[0m\u001b[1;33m.\u001b[0m\u001b[0msend\u001b[0m\u001b[1;33m(\u001b[0m\u001b[0mrequest\u001b[0m\u001b[1;33m,\u001b[0m \u001b[1;33m**\u001b[0m\u001b[0mkwargs\u001b[0m\u001b[1;33m)\u001b[0m\u001b[1;33m\u001b[0m\u001b[1;33m\u001b[0m\u001b[0m\n\u001b[0m\u001b[0;32m    656\u001b[0m \u001b[1;33m\u001b[0m\u001b[0m\n\u001b[0;32m    657\u001b[0m         \u001b[1;31m# Total elapsed time of the request (approximately)\u001b[0m\u001b[1;33m\u001b[0m\u001b[1;33m\u001b[0m\u001b[1;33m\u001b[0m\u001b[0m\n",
      "\u001b[1;32m~\\anaconda3\\lib\\site-packages\\requests\\adapters.py\u001b[0m in \u001b[0;36msend\u001b[1;34m(self, request, stream, timeout, verify, cert, proxies)\u001b[0m\n\u001b[0;32m    437\u001b[0m         \u001b[1;32mtry\u001b[0m\u001b[1;33m:\u001b[0m\u001b[1;33m\u001b[0m\u001b[1;33m\u001b[0m\u001b[0m\n\u001b[0;32m    438\u001b[0m             \u001b[1;32mif\u001b[0m \u001b[1;32mnot\u001b[0m \u001b[0mchunked\u001b[0m\u001b[1;33m:\u001b[0m\u001b[1;33m\u001b[0m\u001b[1;33m\u001b[0m\u001b[0m\n\u001b[1;32m--> 439\u001b[1;33m                 resp = conn.urlopen(\n\u001b[0m\u001b[0;32m    440\u001b[0m                     \u001b[0mmethod\u001b[0m\u001b[1;33m=\u001b[0m\u001b[0mrequest\u001b[0m\u001b[1;33m.\u001b[0m\u001b[0mmethod\u001b[0m\u001b[1;33m,\u001b[0m\u001b[1;33m\u001b[0m\u001b[1;33m\u001b[0m\u001b[0m\n\u001b[0;32m    441\u001b[0m                     \u001b[0murl\u001b[0m\u001b[1;33m=\u001b[0m\u001b[0murl\u001b[0m\u001b[1;33m,\u001b[0m\u001b[1;33m\u001b[0m\u001b[1;33m\u001b[0m\u001b[0m\n",
      "\u001b[1;32m~\\anaconda3\\lib\\site-packages\\urllib3\\connectionpool.py\u001b[0m in \u001b[0;36murlopen\u001b[1;34m(self, method, url, body, headers, retries, redirect, assert_same_host, timeout, pool_timeout, release_conn, chunked, body_pos, **response_kw)\u001b[0m\n\u001b[0;32m    697\u001b[0m \u001b[1;33m\u001b[0m\u001b[0m\n\u001b[0;32m    698\u001b[0m             \u001b[1;31m# Make the request on the httplib connection object.\u001b[0m\u001b[1;33m\u001b[0m\u001b[1;33m\u001b[0m\u001b[1;33m\u001b[0m\u001b[0m\n\u001b[1;32m--> 699\u001b[1;33m             httplib_response = self._make_request(\n\u001b[0m\u001b[0;32m    700\u001b[0m                 \u001b[0mconn\u001b[0m\u001b[1;33m,\u001b[0m\u001b[1;33m\u001b[0m\u001b[1;33m\u001b[0m\u001b[0m\n\u001b[0;32m    701\u001b[0m                 \u001b[0mmethod\u001b[0m\u001b[1;33m,\u001b[0m\u001b[1;33m\u001b[0m\u001b[1;33m\u001b[0m\u001b[0m\n",
      "\u001b[1;32m~\\anaconda3\\lib\\site-packages\\urllib3\\connectionpool.py\u001b[0m in \u001b[0;36m_make_request\u001b[1;34m(self, conn, method, url, timeout, chunked, **httplib_request_kw)\u001b[0m\n\u001b[0;32m    380\u001b[0m         \u001b[1;31m# Trigger any extra validation we need to do.\u001b[0m\u001b[1;33m\u001b[0m\u001b[1;33m\u001b[0m\u001b[1;33m\u001b[0m\u001b[0m\n\u001b[0;32m    381\u001b[0m         \u001b[1;32mtry\u001b[0m\u001b[1;33m:\u001b[0m\u001b[1;33m\u001b[0m\u001b[1;33m\u001b[0m\u001b[0m\n\u001b[1;32m--> 382\u001b[1;33m             \u001b[0mself\u001b[0m\u001b[1;33m.\u001b[0m\u001b[0m_validate_conn\u001b[0m\u001b[1;33m(\u001b[0m\u001b[0mconn\u001b[0m\u001b[1;33m)\u001b[0m\u001b[1;33m\u001b[0m\u001b[1;33m\u001b[0m\u001b[0m\n\u001b[0m\u001b[0;32m    383\u001b[0m         \u001b[1;32mexcept\u001b[0m \u001b[1;33m(\u001b[0m\u001b[0mSocketTimeout\u001b[0m\u001b[1;33m,\u001b[0m \u001b[0mBaseSSLError\u001b[0m\u001b[1;33m)\u001b[0m \u001b[1;32mas\u001b[0m \u001b[0me\u001b[0m\u001b[1;33m:\u001b[0m\u001b[1;33m\u001b[0m\u001b[1;33m\u001b[0m\u001b[0m\n\u001b[0;32m    384\u001b[0m             \u001b[1;31m# Py2 raises this as a BaseSSLError, Py3 raises it as socket timeout.\u001b[0m\u001b[1;33m\u001b[0m\u001b[1;33m\u001b[0m\u001b[1;33m\u001b[0m\u001b[0m\n",
      "\u001b[1;32m~\\anaconda3\\lib\\site-packages\\urllib3\\connectionpool.py\u001b[0m in \u001b[0;36m_validate_conn\u001b[1;34m(self, conn)\u001b[0m\n\u001b[0;32m   1008\u001b[0m         \u001b[1;31m# Force connect early to allow us to validate the connection.\u001b[0m\u001b[1;33m\u001b[0m\u001b[1;33m\u001b[0m\u001b[1;33m\u001b[0m\u001b[0m\n\u001b[0;32m   1009\u001b[0m         \u001b[1;32mif\u001b[0m \u001b[1;32mnot\u001b[0m \u001b[0mgetattr\u001b[0m\u001b[1;33m(\u001b[0m\u001b[0mconn\u001b[0m\u001b[1;33m,\u001b[0m \u001b[1;34m\"sock\"\u001b[0m\u001b[1;33m,\u001b[0m \u001b[1;32mNone\u001b[0m\u001b[1;33m)\u001b[0m\u001b[1;33m:\u001b[0m  \u001b[1;31m# AppEngine might not have  `.sock`\u001b[0m\u001b[1;33m\u001b[0m\u001b[1;33m\u001b[0m\u001b[0m\n\u001b[1;32m-> 1010\u001b[1;33m             \u001b[0mconn\u001b[0m\u001b[1;33m.\u001b[0m\u001b[0mconnect\u001b[0m\u001b[1;33m(\u001b[0m\u001b[1;33m)\u001b[0m\u001b[1;33m\u001b[0m\u001b[1;33m\u001b[0m\u001b[0m\n\u001b[0m\u001b[0;32m   1011\u001b[0m \u001b[1;33m\u001b[0m\u001b[0m\n\u001b[0;32m   1012\u001b[0m         \u001b[1;32mif\u001b[0m \u001b[1;32mnot\u001b[0m \u001b[0mconn\u001b[0m\u001b[1;33m.\u001b[0m\u001b[0mis_verified\u001b[0m\u001b[1;33m:\u001b[0m\u001b[1;33m\u001b[0m\u001b[1;33m\u001b[0m\u001b[0m\n",
      "\u001b[1;32m~\\anaconda3\\lib\\site-packages\\urllib3\\connection.py\u001b[0m in \u001b[0;36mconnect\u001b[1;34m(self)\u001b[0m\n\u001b[0;32m    351\u001b[0m     \u001b[1;32mdef\u001b[0m \u001b[0mconnect\u001b[0m\u001b[1;33m(\u001b[0m\u001b[0mself\u001b[0m\u001b[1;33m)\u001b[0m\u001b[1;33m:\u001b[0m\u001b[1;33m\u001b[0m\u001b[1;33m\u001b[0m\u001b[0m\n\u001b[0;32m    352\u001b[0m         \u001b[1;31m# Add certificate verification\u001b[0m\u001b[1;33m\u001b[0m\u001b[1;33m\u001b[0m\u001b[1;33m\u001b[0m\u001b[0m\n\u001b[1;32m--> 353\u001b[1;33m         \u001b[0mconn\u001b[0m \u001b[1;33m=\u001b[0m \u001b[0mself\u001b[0m\u001b[1;33m.\u001b[0m\u001b[0m_new_conn\u001b[0m\u001b[1;33m(\u001b[0m\u001b[1;33m)\u001b[0m\u001b[1;33m\u001b[0m\u001b[1;33m\u001b[0m\u001b[0m\n\u001b[0m\u001b[0;32m    354\u001b[0m         \u001b[0mhostname\u001b[0m \u001b[1;33m=\u001b[0m \u001b[0mself\u001b[0m\u001b[1;33m.\u001b[0m\u001b[0mhost\u001b[0m\u001b[1;33m\u001b[0m\u001b[1;33m\u001b[0m\u001b[0m\n\u001b[0;32m    355\u001b[0m         \u001b[0mtls_in_tls\u001b[0m \u001b[1;33m=\u001b[0m \u001b[1;32mFalse\u001b[0m\u001b[1;33m\u001b[0m\u001b[1;33m\u001b[0m\u001b[0m\n",
      "\u001b[1;32m~\\anaconda3\\lib\\site-packages\\urllib3\\connection.py\u001b[0m in \u001b[0;36m_new_conn\u001b[1;34m(self)\u001b[0m\n\u001b[0;32m    167\u001b[0m \u001b[1;33m\u001b[0m\u001b[0m\n\u001b[0;32m    168\u001b[0m         \u001b[1;32mtry\u001b[0m\u001b[1;33m:\u001b[0m\u001b[1;33m\u001b[0m\u001b[1;33m\u001b[0m\u001b[0m\n\u001b[1;32m--> 169\u001b[1;33m             conn = connection.create_connection(\n\u001b[0m\u001b[0;32m    170\u001b[0m                 \u001b[1;33m(\u001b[0m\u001b[0mself\u001b[0m\u001b[1;33m.\u001b[0m\u001b[0m_dns_host\u001b[0m\u001b[1;33m,\u001b[0m \u001b[0mself\u001b[0m\u001b[1;33m.\u001b[0m\u001b[0mport\u001b[0m\u001b[1;33m)\u001b[0m\u001b[1;33m,\u001b[0m \u001b[0mself\u001b[0m\u001b[1;33m.\u001b[0m\u001b[0mtimeout\u001b[0m\u001b[1;33m,\u001b[0m \u001b[1;33m**\u001b[0m\u001b[0mextra_kw\u001b[0m\u001b[1;33m\u001b[0m\u001b[1;33m\u001b[0m\u001b[0m\n\u001b[0;32m    171\u001b[0m             )\n",
      "\u001b[1;32m~\\anaconda3\\lib\\site-packages\\urllib3\\util\\connection.py\u001b[0m in \u001b[0;36mcreate_connection\u001b[1;34m(address, timeout, source_address, socket_options)\u001b[0m\n\u001b[0;32m     84\u001b[0m             \u001b[1;32mif\u001b[0m \u001b[0msource_address\u001b[0m\u001b[1;33m:\u001b[0m\u001b[1;33m\u001b[0m\u001b[1;33m\u001b[0m\u001b[0m\n\u001b[0;32m     85\u001b[0m                 \u001b[0msock\u001b[0m\u001b[1;33m.\u001b[0m\u001b[0mbind\u001b[0m\u001b[1;33m(\u001b[0m\u001b[0msource_address\u001b[0m\u001b[1;33m)\u001b[0m\u001b[1;33m\u001b[0m\u001b[1;33m\u001b[0m\u001b[0m\n\u001b[1;32m---> 86\u001b[1;33m             \u001b[0msock\u001b[0m\u001b[1;33m.\u001b[0m\u001b[0mconnect\u001b[0m\u001b[1;33m(\u001b[0m\u001b[0msa\u001b[0m\u001b[1;33m)\u001b[0m\u001b[1;33m\u001b[0m\u001b[1;33m\u001b[0m\u001b[0m\n\u001b[0m\u001b[0;32m     87\u001b[0m             \u001b[1;32mreturn\u001b[0m \u001b[0msock\u001b[0m\u001b[1;33m\u001b[0m\u001b[1;33m\u001b[0m\u001b[0m\n\u001b[0;32m     88\u001b[0m \u001b[1;33m\u001b[0m\u001b[0m\n",
      "\u001b[1;31mKeyboardInterrupt\u001b[0m: "
     ]
    }
   ],
   "source": [
    "two_star_titles = []\n",
    "\n",
    "for n in range(1,51):\n",
    "\n",
    "    scrape_url = base_url.format(n)\n",
    "    res = requests.get(scrape_url)\n",
    "    \n",
    "    soup = bs4.BeautifulSoup(res.text,\"lxml\")\n",
    "    books = soup.select(\".product_pod\")\n",
    "    \n",
    "    for book in books:\n",
    "        if len(book.select('.star-rating.Two')) != 0:\n",
    "            two_star_titles.append(book.select('a')[1]['title'])"
   ]
  },
  {
   "cell_type": "code",
   "execution_count": 7,
   "id": "0435cb8c",
   "metadata": {},
   "outputs": [
    {
     "data": {
      "text/plain": [
       "['Starving Hearts (Triangular Trade Trilogy, #1)',\n",
       " 'Libertarianism for Beginners',\n",
       " \"It's Only the Himalayas\",\n",
       " 'How Music Works',\n",
       " 'Maude (1883-1993):She Grew Up with the country',\n",
       " \"You can't bury them all: Poems\",\n",
       " 'Reasons to Stay Alive',\n",
       " 'Without Borders (Wanderlove #1)',\n",
       " 'Soul Reader',\n",
       " 'Security',\n",
       " 'Saga, Volume 5 (Saga (Collected Editions) #5)',\n",
       " 'Reskilling America: Learning to Labor in the Twenty-First Century',\n",
       " 'Political Suicide: Missteps, Peccadilloes, Bad Calls, Backroom Hijinx, Sordid Pasts, Rotten Breaks, and Just Plain Dumb Mistakes in the Annals of American Politics',\n",
       " 'Obsidian (Lux #1)',\n",
       " 'My Paris Kitchen: Recipes and Stories',\n",
       " 'Masks and Shadows',\n",
       " 'Lumberjanes, Vol. 2: Friendship to the Max (Lumberjanes #5-8)',\n",
       " 'Lumberjanes Vol. 3: A Terrible Plan (Lumberjanes #9-12)',\n",
       " 'Judo: Seven Steps to Black Belt (an Introductory Guide for Beginners)',\n",
       " 'I Hate Fairyland, Vol. 1: Madly Ever After (I Hate Fairyland (Compilations) #1-5)',\n",
       " 'Giant Days, Vol. 2 (Giant Days #5-8)',\n",
       " 'Everydata: The Misinformation Hidden in the Little Data You Consume Every Day',\n",
       " \"Don't Be a Jerk: And Other Practical Advice from Dogen, Japan's Greatest Zen Master\",\n",
       " 'Bossypants',\n",
       " 'Bitch Planet, Vol. 1: Extraordinary Machine (Bitch Planet (Collected Editions))',\n",
       " 'Avatar: The Last Airbender: Smoke and Shadow, Part 3 (Smoke and Shadow #3)',\n",
       " 'Tuesday Nights in 1980',\n",
       " 'The Psychopath Test: A Journey Through the Madness Industry',\n",
       " 'The Power of Now: A Guide to Spiritual Enlightenment',\n",
       " \"The Omnivore's Dilemma: A Natural History of Four Meals\",\n",
       " 'The Love and Lemons Cookbook: An Apple-to-Zucchini Celebration of Impromptu Cooking',\n",
       " 'The Girl on the Train',\n",
       " 'The Emerald Mystery',\n",
       " 'The Argonauts',\n",
       " 'Suddenly in Love (Lake Haven #1)',\n",
       " 'Soft Apocalypse',\n",
       " \"So You've Been Publicly Shamed\",\n",
       " 'Shoe Dog: A Memoir by the Creator of NIKE',\n",
       " 'Louisa: The Extraordinary Life of Mrs. Adams',\n",
       " 'Large Print Heart of the Pride',\n",
       " 'Grumbles',\n",
       " 'Chasing Heaven: What Dying Taught Me About Living',\n",
       " 'Becoming Wise: An Inquiry into the Mystery and Art of Living',\n",
       " 'Beauty Restored (Riley Family Legacy Novellas #3)',\n",
       " 'Batman: The Long Halloween (Batman)',\n",
       " \"Ayumi's Violin\",\n",
       " 'Wild Swans',\n",
       " \"What's It Like in Space?: Stories from Astronauts Who've Been There\",\n",
       " 'Until Friday Night (The Field Party #1)',\n",
       " 'Unbroken: A World War II Story of Survival, Resilience, and Redemption',\n",
       " 'Twenty Yawns',\n",
       " 'Through the Woods',\n",
       " 'This Is Where It Ends',\n",
       " 'The Year of Magical Thinking',\n",
       " 'The Last Mile (Amos Decker #2)',\n",
       " 'The Immortal Life of Henrietta Lacks',\n",
       " 'The Hidden Oracle (The Trials of Apollo #1)',\n",
       " 'The Guilty (Will Robie #4)',\n",
       " 'Red Hood/Arsenal, Vol. 1: Open for Business (Red Hood/Arsenal #1)',\n",
       " 'Once Was a Time',\n",
       " 'No Dream Is Too High: Life Lessons From a Man Who Walked on the Moon',\n",
       " 'Naruto (3-in-1 Edition), Vol. 14: Includes Vols. 40, 41 & 42 (Naruto: Omnibus #14)',\n",
       " 'More Than Music (Chasing the Dream #1)',\n",
       " 'Lowriders to the Center of the Earth (Lowriders in Space #2)',\n",
       " 'Eat Fat, Get Thin',\n",
       " 'Doctor Sleep (The Shining #2)',\n",
       " 'Crazy Love: Overwhelmed by a Relentless God',\n",
       " 'Carrie',\n",
       " 'Batman: Europa',\n",
       " 'Angels Walking (Angels Walking #1)',\n",
       " 'Adulthood Is a Myth: A \"Sarah\\'s Scribbles\" Collection',\n",
       " 'A Study in Scarlet (Sherlock Holmes #1)',\n",
       " 'A Series of Catastrophes and Miracles: A True Story of Love, Science, and Cancer',\n",
       " \"A People's History of the United States\",\n",
       " 'My Kitchen Year: 136 Recipes That Saved My Life',\n",
       " 'The Lonely City: Adventures in the Art of Being Alone',\n",
       " 'The Dinner Party',\n",
       " 'Stars Above (The Lunar Chronicles #4.5)',\n",
       " 'Love, Lies and Spies',\n",
       " 'Troublemaker: Surviving Hollywood and Scientology',\n",
       " 'The Widow',\n",
       " 'Setting the World on Fire: The Brief, Astonishing Life of St. Catherine of Siena',\n",
       " 'Mothering Sunday',\n",
       " 'Lilac Girls',\n",
       " '10% Happier: How I Tamed the Voice in My Head, Reduced Stress Without Losing My Edge, and Found Self-Help That Actually Works',\n",
       " 'Underlying Notes',\n",
       " 'The Flowers Lied',\n",
       " 'Modern Day Fables',\n",
       " \"Chernobyl 01:23:40: The Incredible True Story of the World's Worst Nuclear Disaster\",\n",
       " '23 Degrees South: A Tropical Tale of Changing Whether...',\n",
       " 'When Breath Becomes Air',\n",
       " 'Vagabonding: An Uncommon Guide to the Art of Long-Term World Travel',\n",
       " 'The Martian (The Martian #1)',\n",
       " \"Miller's Valley\",\n",
       " \"Love That Boy: What Two Presidents, Eight Road Trips, and My Son Taught Me About a Parent's Expectations\",\n",
       " 'Left Behind (Left Behind #1)',\n",
       " 'Howl and Other Poems',\n",
       " \"Heaven is for Real: A Little Boy's Astounding Story of His Trip to Heaven and Back\",\n",
       " \"Brazen: The Courage to Find the You That's Been Hiding\",\n",
       " '32 Yolks',\n",
       " 'Wildlife of New York: A Five-Borough Coloring Book',\n",
       " 'Unreasonable Hope: Finding Faith in the God Who Brings Purpose to Your Pain',\n",
       " 'The Art Book',\n",
       " 'Steal Like an Artist: 10 Things Nobody Told You About Being Creative',\n",
       " 'Raymie Nightingale',\n",
       " 'Like Never Before (Walker Family #2)',\n",
       " 'How to Be a Domestic Goddess: Baking and the Art of Comfort Cooking',\n",
       " 'Finding God in the Ruins: How God Redeems Pain',\n",
       " 'Chronicles, Vol. 1',\n",
       " 'A Summer In Europe',\n",
       " 'The Rise and Fall of the Third Reich: A History of Nazi Germany',\n",
       " 'The Makings of a Fatherless Child',\n",
       " 'The Fellowship of the Ring (The Lord of the Rings #1)',\n",
       " \"Tell the Wolves I'm Home\",\n",
       " 'In the Woods (Dublin Murder Squad #1)',\n",
       " 'Give It Back',\n",
       " 'Why Save the Bankers?: And Other Essays on Our Economic and Political Crisis',\n",
       " 'The Raven King (The Raven Cycle #4)',\n",
       " 'The Expatriates',\n",
       " 'The 5th Wave (The 5th Wave #1)',\n",
       " 'Peak: Secrets from the New Science of Expertise',\n",
       " 'Logan Kade (Fallen Crest High #5.5)',\n",
       " \"I Know Why the Caged Bird Sings (Maya Angelou's Autobiography #1)\",\n",
       " 'Drama',\n",
       " \"America's War for the Greater Middle East: A Military History\",\n",
       " 'A Game of Thrones (A Song of Ice and Fire #1)',\n",
       " \"The Pilgrim's Progress\",\n",
       " 'The Hound of the Baskervilles (Sherlock Holmes #5)',\n",
       " \"The Geography of Bliss: One Grump's Search for the Happiest Places in the World\",\n",
       " 'The Demonists (Demonist #1)',\n",
       " 'The Demon Prince of Momochi House, Vol. 4 (The Demon Prince of Momochi House #4)',\n",
       " 'Misery',\n",
       " 'Far From True (Promise Falls Trilogy #2)',\n",
       " 'Confessions of a Shopaholic (Shopaholic #1)',\n",
       " 'Vegan Vegetarian Omnivore: Dinner for Everyone at the Table',\n",
       " 'Two Boys Kissing',\n",
       " 'Twilight (Twilight #1)',\n",
       " 'Twenties Girl',\n",
       " 'The Tipping Point: How Little Things Can Make a Big Difference',\n",
       " 'The Stand',\n",
       " 'The Picture of Dorian Gray',\n",
       " 'The Name of God is Mercy',\n",
       " \"The Lover's Dictionary\",\n",
       " 'The Last Painting of Sara de Vos',\n",
       " 'The Guns of August',\n",
       " 'The Girl Who Played with Fire (Millennium Trilogy #2)',\n",
       " 'The Da Vinci Code (Robert Langdon #2)',\n",
       " 'The Cat in the Hat (Beginner Books B-1)',\n",
       " 'The Book Thief',\n",
       " 'The Autobiography of Malcolm X',\n",
       " \"Surely You're Joking, Mr. Feynman!: Adventures of a Curious Character\",\n",
       " 'Soldier (Talon #3)',\n",
       " 'Shopaholic & Baby (Shopaholic #5)',\n",
       " 'Seven Days in the Art World',\n",
       " 'Rework',\n",
       " 'Packing for Mars: The Curious Science of Life in the Void',\n",
       " 'Orange Is the New Black',\n",
       " 'One for the Money (Stephanie Plum #1)',\n",
       " 'Midnight Riot (Peter Grant/ Rivers of London - books #1)',\n",
       " 'Me Talk Pretty One Day',\n",
       " 'Manuscript Found in Accra',\n",
       " 'Lust & Wonder',\n",
       " \"Life, the Universe and Everything (Hitchhiker's Guide to the Galaxy #3)\",\n",
       " 'Life After Life',\n",
       " 'I Am Malala: The Girl Who Stood Up for Education and Was Shot by the Taliban',\n",
       " 'House of Lost Worlds: Dinosaurs, Dynasties, and the Story of Life on Earth',\n",
       " 'Horrible Bear!',\n",
       " 'Holidays on Ice',\n",
       " 'Girl in the Blue Coat',\n",
       " 'Fruits Basket, Vol. 3 (Fruits Basket #3)',\n",
       " 'Cosmos',\n",
       " 'Civilization and Its Discontents',\n",
       " \"Catastrophic Happiness: Finding Joy in Childhood's Messy Years\",\n",
       " 'Career of Evil (Cormoran Strike #3)',\n",
       " 'Born to Run: A Hidden Tribe, Superathletes, and the Greatest Race the World Has Never Seen',\n",
       " \"Best of My Love (Fool's Gold #20)\",\n",
       " 'Beowulf',\n",
       " 'Awkward',\n",
       " 'And Then There Were None',\n",
       " 'A Storm of Swords (A Song of Ice and Fire #3)',\n",
       " 'The Suffragettes (Little Black Classics, #96)',\n",
       " 'Vampire Girl (Vampire Girl #1)',\n",
       " 'Three Wishes (River of Time: California #1)',\n",
       " 'The Wicked + The Divine, Vol. 1: The Faust Act (The Wicked + The Divine)',\n",
       " 'The Little Prince',\n",
       " 'The Last Girl (The Dominion Trilogy #1)',\n",
       " 'Taking Shots (Assassins #1)',\n",
       " 'Settling the Score (The Summer Games #1)',\n",
       " 'Rhythm, Chord & Malykhin',\n",
       " 'One Second (Seven #7)',\n",
       " \"Old Records Never Die: One Man's Quest for His Vinyl and His Past\",\n",
       " 'Of Mice and Men',\n",
       " 'My Perfect Mistake (Over the Top #1)',\n",
       " 'Meditations',\n",
       " 'Frankenstein',\n",
       " 'Emma']"
      ]
     },
     "execution_count": 7,
     "metadata": {},
     "output_type": "execute_result"
    }
   ],
   "source": [
    "two_star_titles"
   ]
  },
  {
   "cell_type": "markdown",
   "id": "26df70b0",
   "metadata": {},
   "source": [
    "### Web Scraping Exercises\n",
    "### Complete the Tasks Below\n",
    "#### TASK: Import any libraries you think you'll need to scrape a website."
   ]
  },
  {
   "cell_type": "code",
   "execution_count": 8,
   "id": "3e3d11c5",
   "metadata": {},
   "outputs": [],
   "source": [
    "import requests"
   ]
  },
  {
   "cell_type": "code",
   "execution_count": 9,
   "id": "711293a6",
   "metadata": {},
   "outputs": [],
   "source": [
    "import bs4"
   ]
  },
  {
   "cell_type": "markdown",
   "id": "ce36abb5",
   "metadata": {},
   "source": [
    "#### ASK: Use requests library and BeautifulSoup to connect to http://quotes.toscrape.com/ and get the HMTL text from the homepage."
   ]
  },
  {
   "cell_type": "code",
   "execution_count": 11,
   "id": "fa8e2305",
   "metadata": {},
   "outputs": [],
   "source": [
    "res = requests.get(\"http://quotes.toscrape.com/\")\n",
    "soup = bs4.BeautifulSoup(res.text,\"lxml\")"
   ]
  },
  {
   "cell_type": "code",
   "execution_count": 13,
   "id": "fca45d32",
   "metadata": {},
   "outputs": [
    {
     "data": {
      "text/plain": [
       "'<!DOCTYPE html>\\n<html lang=\"en\">\\n<head>\\n<meta charset=\"utf-8\"/>\\n<title>Quotes to Scrape</title>\\n<link href=\"/static/bootstrap.min.css\" rel=\"stylesheet\"/>\\n<link href=\"/static/main.css\" rel=\"stylesheet\"/>\\n</head>\\n<body>\\n<div class=\"container\">\\n<div class=\"row header-box\">\\n<div class=\"col-md-8\">\\n<h1>\\n<a href=\"/\" style=\"text-decoration: none\">Quotes to Scrape</a>\\n</h1>\\n</div>\\n<div class=\"col-md-4\">\\n<p>\\n<a href=\"/login\">Login</a>\\n</p>\\n</div>\\n</div>\\n<div class=\"row\">\\n<div class=\"col-md-8\">\\n<div class=\"quote\" itemscope=\"\" itemtype=\"http://schema.org/CreativeWork\">\\n<span class=\"text\" itemprop=\"text\">“The world as we have created it is a process of our thinking. It cannot be changed without changing our thinking.”</span>\\n<span>by <small class=\"author\" itemprop=\"author\">Albert Einstein</small>\\n<a href=\"/author/Albert-Einstein\">(about)</a>\\n</span>\\n<div class=\"tags\">\\n            Tags:\\n            <meta class=\"keywords\" content=\"change,deep-thoughts,thinking,world\" itemprop=\"keywords\"/>\\n<a class=\"tag\" href=\"/tag/change/page/1/\">change</a>\\n<a class=\"tag\" href=\"/tag/deep-thoughts/page/1/\">deep-thoughts</a>\\n<a class=\"tag\" href=\"/tag/thinking/page/1/\">thinking</a>\\n<a class=\"tag\" href=\"/tag/world/page/1/\">world</a>\\n</div>\\n</div>\\n<div class=\"quote\" itemscope=\"\" itemtype=\"http://schema.org/CreativeWork\">\\n<span class=\"text\" itemprop=\"text\">“It is our choices, Harry, that show what we truly are, far more than our abilities.”</span>\\n<span>by <small class=\"author\" itemprop=\"author\">J.K. Rowling</small>\\n<a href=\"/author/J-K-Rowling\">(about)</a>\\n</span>\\n<div class=\"tags\">\\n            Tags:\\n            <meta class=\"keywords\" content=\"abilities,choices\" itemprop=\"keywords\"/>\\n<a class=\"tag\" href=\"/tag/abilities/page/1/\">abilities</a>\\n<a class=\"tag\" href=\"/tag/choices/page/1/\">choices</a>\\n</div>\\n</div>\\n<div class=\"quote\" itemscope=\"\" itemtype=\"http://schema.org/CreativeWork\">\\n<span class=\"text\" itemprop=\"text\">“There are only two ways to live your life. One is as though nothing is a miracle. The other is as though everything is a miracle.”</span>\\n<span>by <small class=\"author\" itemprop=\"author\">Albert Einstein</small>\\n<a href=\"/author/Albert-Einstein\">(about)</a>\\n</span>\\n<div class=\"tags\">\\n            Tags:\\n            <meta class=\"keywords\" content=\"inspirational,life,live,miracle,miracles\" itemprop=\"keywords\"/>\\n<a class=\"tag\" href=\"/tag/inspirational/page/1/\">inspirational</a>\\n<a class=\"tag\" href=\"/tag/life/page/1/\">life</a>\\n<a class=\"tag\" href=\"/tag/live/page/1/\">live</a>\\n<a class=\"tag\" href=\"/tag/miracle/page/1/\">miracle</a>\\n<a class=\"tag\" href=\"/tag/miracles/page/1/\">miracles</a>\\n</div>\\n</div>\\n<div class=\"quote\" itemscope=\"\" itemtype=\"http://schema.org/CreativeWork\">\\n<span class=\"text\" itemprop=\"text\">“The person, be it gentleman or lady, who has not pleasure in a good novel, must be intolerably stupid.”</span>\\n<span>by <small class=\"author\" itemprop=\"author\">Jane Austen</small>\\n<a href=\"/author/Jane-Austen\">(about)</a>\\n</span>\\n<div class=\"tags\">\\n            Tags:\\n            <meta class=\"keywords\" content=\"aliteracy,books,classic,humor\" itemprop=\"keywords\"/>\\n<a class=\"tag\" href=\"/tag/aliteracy/page/1/\">aliteracy</a>\\n<a class=\"tag\" href=\"/tag/books/page/1/\">books</a>\\n<a class=\"tag\" href=\"/tag/classic/page/1/\">classic</a>\\n<a class=\"tag\" href=\"/tag/humor/page/1/\">humor</a>\\n</div>\\n</div>\\n<div class=\"quote\" itemscope=\"\" itemtype=\"http://schema.org/CreativeWork\">\\n<span class=\"text\" itemprop=\"text\">“Imperfection is beauty, madness is genius and it\\'s better to be absolutely ridiculous than absolutely boring.”</span>\\n<span>by <small class=\"author\" itemprop=\"author\">Marilyn Monroe</small>\\n<a href=\"/author/Marilyn-Monroe\">(about)</a>\\n</span>\\n<div class=\"tags\">\\n            Tags:\\n            <meta class=\"keywords\" content=\"be-yourself,inspirational\" itemprop=\"keywords\"/>\\n<a class=\"tag\" href=\"/tag/be-yourself/page/1/\">be-yourself</a>\\n<a class=\"tag\" href=\"/tag/inspirational/page/1/\">inspirational</a>\\n</div>\\n</div>\\n<div class=\"quote\" itemscope=\"\" itemtype=\"http://schema.org/CreativeWork\">\\n<span class=\"text\" itemprop=\"text\">“Try not to become a man of success. Rather become a man of value.”</span>\\n<span>by <small class=\"author\" itemprop=\"author\">Albert Einstein</small>\\n<a href=\"/author/Albert-Einstein\">(about)</a>\\n</span>\\n<div class=\"tags\">\\n            Tags:\\n            <meta class=\"keywords\" content=\"adulthood,success,value\" itemprop=\"keywords\"/>\\n<a class=\"tag\" href=\"/tag/adulthood/page/1/\">adulthood</a>\\n<a class=\"tag\" href=\"/tag/success/page/1/\">success</a>\\n<a class=\"tag\" href=\"/tag/value/page/1/\">value</a>\\n</div>\\n</div>\\n<div class=\"quote\" itemscope=\"\" itemtype=\"http://schema.org/CreativeWork\">\\n<span class=\"text\" itemprop=\"text\">“It is better to be hated for what you are than to be loved for what you are not.”</span>\\n<span>by <small class=\"author\" itemprop=\"author\">André Gide</small>\\n<a href=\"/author/Andre-Gide\">(about)</a>\\n</span>\\n<div class=\"tags\">\\n            Tags:\\n            <meta class=\"keywords\" content=\"life,love\" itemprop=\"keywords\"/>\\n<a class=\"tag\" href=\"/tag/life/page/1/\">life</a>\\n<a class=\"tag\" href=\"/tag/love/page/1/\">love</a>\\n</div>\\n</div>\\n<div class=\"quote\" itemscope=\"\" itemtype=\"http://schema.org/CreativeWork\">\\n<span class=\"text\" itemprop=\"text\">“I have not failed. I\\'ve just found 10,000 ways that won\\'t work.”</span>\\n<span>by <small class=\"author\" itemprop=\"author\">Thomas A. Edison</small>\\n<a href=\"/author/Thomas-A-Edison\">(about)</a>\\n</span>\\n<div class=\"tags\">\\n            Tags:\\n            <meta class=\"keywords\" content=\"edison,failure,inspirational,paraphrased\" itemprop=\"keywords\"/>\\n<a class=\"tag\" href=\"/tag/edison/page/1/\">edison</a>\\n<a class=\"tag\" href=\"/tag/failure/page/1/\">failure</a>\\n<a class=\"tag\" href=\"/tag/inspirational/page/1/\">inspirational</a>\\n<a class=\"tag\" href=\"/tag/paraphrased/page/1/\">paraphrased</a>\\n</div>\\n</div>\\n<div class=\"quote\" itemscope=\"\" itemtype=\"http://schema.org/CreativeWork\">\\n<span class=\"text\" itemprop=\"text\">“A woman is like a tea bag; you never know how strong it is until it\\'s in hot water.”</span>\\n<span>by <small class=\"author\" itemprop=\"author\">Eleanor Roosevelt</small>\\n<a href=\"/author/Eleanor-Roosevelt\">(about)</a>\\n</span>\\n<div class=\"tags\">\\n            Tags:\\n            <meta class=\"keywords\" content=\"misattributed-eleanor-roosevelt\" itemprop=\"keywords\"/>\\n<a class=\"tag\" href=\"/tag/misattributed-eleanor-roosevelt/page/1/\">misattributed-eleanor-roosevelt</a>\\n</div>\\n</div>\\n<div class=\"quote\" itemscope=\"\" itemtype=\"http://schema.org/CreativeWork\">\\n<span class=\"text\" itemprop=\"text\">“A day without sunshine is like, you know, night.”</span>\\n<span>by <small class=\"author\" itemprop=\"author\">Steve Martin</small>\\n<a href=\"/author/Steve-Martin\">(about)</a>\\n</span>\\n<div class=\"tags\">\\n            Tags:\\n            <meta class=\"keywords\" content=\"humor,obvious,simile\" itemprop=\"keywords\"/>\\n<a class=\"tag\" href=\"/tag/humor/page/1/\">humor</a>\\n<a class=\"tag\" href=\"/tag/obvious/page/1/\">obvious</a>\\n<a class=\"tag\" href=\"/tag/simile/page/1/\">simile</a>\\n</div>\\n</div>\\n<nav>\\n<ul class=\"pager\">\\n<li class=\"next\">\\n<a href=\"/page/2/\">Next <span aria-hidden=\"true\">→</span></a>\\n</li>\\n</ul>\\n</nav>\\n</div>\\n<div class=\"col-md-4 tags-box\">\\n<h2>Top Ten tags</h2>\\n<span class=\"tag-item\">\\n<a class=\"tag\" href=\"/tag/love/\" style=\"font-size: 28px\">love</a>\\n</span>\\n<span class=\"tag-item\">\\n<a class=\"tag\" href=\"/tag/inspirational/\" style=\"font-size: 26px\">inspirational</a>\\n</span>\\n<span class=\"tag-item\">\\n<a class=\"tag\" href=\"/tag/life/\" style=\"font-size: 26px\">life</a>\\n</span>\\n<span class=\"tag-item\">\\n<a class=\"tag\" href=\"/tag/humor/\" style=\"font-size: 24px\">humor</a>\\n</span>\\n<span class=\"tag-item\">\\n<a class=\"tag\" href=\"/tag/books/\" style=\"font-size: 22px\">books</a>\\n</span>\\n<span class=\"tag-item\">\\n<a class=\"tag\" href=\"/tag/reading/\" style=\"font-size: 14px\">reading</a>\\n</span>\\n<span class=\"tag-item\">\\n<a class=\"tag\" href=\"/tag/friendship/\" style=\"font-size: 10px\">friendship</a>\\n</span>\\n<span class=\"tag-item\">\\n<a class=\"tag\" href=\"/tag/friends/\" style=\"font-size: 8px\">friends</a>\\n</span>\\n<span class=\"tag-item\">\\n<a class=\"tag\" href=\"/tag/truth/\" style=\"font-size: 8px\">truth</a>\\n</span>\\n<span class=\"tag-item\">\\n<a class=\"tag\" href=\"/tag/simile/\" style=\"font-size: 6px\">simile</a>\\n</span>\\n</div>\\n</div>\\n</div>\\n<footer class=\"footer\">\\n<div class=\"container\">\\n<p class=\"text-muted\">\\n                Quotes by: <a href=\"https://www.goodreads.com/quotes\">GoodReads.com</a>\\n</p>\\n<p class=\"copyright\">\\n                Made with <span class=\"sh-red\">❤</span> by <a href=\"https://scrapinghub.com\">Scrapinghub</a>\\n</p>\\n</div>\\n</footer>\\n</body>\\n</html>'"
      ]
     },
     "execution_count": 13,
     "metadata": {},
     "output_type": "execute_result"
    }
   ],
   "source": [
    "str_soup = str(soup)\n",
    "str_soup"
   ]
  },
  {
   "cell_type": "markdown",
   "id": "77aa727f",
   "metadata": {},
   "source": [
    "#### TASK: Get the names of all the authors on the first page."
   ]
  },
  {
   "cell_type": "code",
   "execution_count": 14,
   "id": "9c6569cc",
   "metadata": {},
   "outputs": [],
   "source": [
    "#.format needs to be used for paticular page name\n",
    "base_url = 'https://quotes.toscrape.com/page/{}/'"
   ]
  },
  {
   "cell_type": "code",
   "execution_count": 67,
   "id": "1c4374e2",
   "metadata": {},
   "outputs": [],
   "source": [
    "span = soup.select(\".author\")"
   ]
  },
  {
   "cell_type": "code",
   "execution_count": 93,
   "id": "12c7798a",
   "metadata": {},
   "outputs": [],
   "source": [
    "pages = soup.select(\".pager\")"
   ]
  },
  {
   "cell_type": "code",
   "execution_count": 103,
   "id": "5ea789bd",
   "metadata": {},
   "outputs": [],
   "source": [
    "a = str(pages[0])"
   ]
  },
  {
   "cell_type": "code",
   "execution_count": 104,
   "id": "089eac2f",
   "metadata": {},
   "outputs": [
    {
     "data": {
      "text/plain": [
       "'<ul class=\"pager\">\\n<li class=\"next\">\\n<a href=\"/page/2/\">Next <span aria-hidden=\"true\">→</span></a>\\n</li>\\n</ul>'"
      ]
     },
     "execution_count": 104,
     "metadata": {},
     "output_type": "execute_result"
    }
   ],
   "source": [
    "a"
   ]
  },
  {
   "cell_type": "code",
   "execution_count": 105,
   "id": "c11915de",
   "metadata": {},
   "outputs": [
    {
     "data": {
      "text/plain": [
       "True"
      ]
     },
     "execution_count": 105,
     "metadata": {},
     "output_type": "execute_result"
    }
   ],
   "source": [
    "'Next' in a"
   ]
  },
  {
   "cell_type": "code",
   "execution_count": 106,
   "id": "4e26a97c",
   "metadata": {},
   "outputs": [],
   "source": [
    "res = requests.get(\"http://quotes.toscrape.com/page/10/\")\n",
    "soup = bs4.BeautifulSoup(res.text,\"lxml\")"
   ]
  },
  {
   "cell_type": "code",
   "execution_count": 108,
   "id": "5d95f53b",
   "metadata": {},
   "outputs": [],
   "source": [
    "pages = soup.select(\".pager\")"
   ]
  },
  {
   "cell_type": "code",
   "execution_count": 109,
   "id": "c261f74d",
   "metadata": {},
   "outputs": [],
   "source": [
    "a = str(pages)"
   ]
  },
  {
   "cell_type": "code",
   "execution_count": 110,
   "id": "6652eb81",
   "metadata": {},
   "outputs": [
    {
     "data": {
      "text/plain": [
       "'[<ul class=\"pager\">\\n<li class=\"previous\">\\n<a href=\"/page/9/\"><span aria-hidden=\"true\">←</span> Previous</a>\\n</li>\\n</ul>]'"
      ]
     },
     "execution_count": 110,
     "metadata": {},
     "output_type": "execute_result"
    }
   ],
   "source": [
    "a"
   ]
  },
  {
   "cell_type": "code",
   "execution_count": 114,
   "id": "561a31b3",
   "metadata": {},
   "outputs": [
    {
     "data": {
      "text/plain": [
       "True"
      ]
     },
     "execution_count": 114,
     "metadata": {},
     "output_type": "execute_result"
    }
   ],
   "source": [
    "'aria-hidden=\"true\"' in a"
   ]
  },
  {
   "cell_type": "code",
   "execution_count": 68,
   "id": "ecb4533f",
   "metadata": {},
   "outputs": [],
   "source": [
    "a =span[0]\n"
   ]
  },
  {
   "cell_type": "code",
   "execution_count": 69,
   "id": "337aeb34",
   "metadata": {},
   "outputs": [
    {
     "data": {
      "text/plain": [
       "<small class=\"author\" itemprop=\"author\">Albert Einstein</small>"
      ]
     },
     "execution_count": 69,
     "metadata": {},
     "output_type": "execute_result"
    }
   ],
   "source": [
    "a"
   ]
  },
  {
   "cell_type": "code",
   "execution_count": 71,
   "id": "9c9f22fa",
   "metadata": {},
   "outputs": [],
   "source": [
    "authors = set()\n",
    "for name in soup.select(\".author\"):\n",
    "    authors.add(name.text)"
   ]
  },
  {
   "cell_type": "code",
   "execution_count": 72,
   "id": "b81d0c06",
   "metadata": {},
   "outputs": [
    {
     "data": {
      "text/plain": [
       "{'Albert Einstein',\n",
       " 'André Gide',\n",
       " 'Eleanor Roosevelt',\n",
       " 'J.K. Rowling',\n",
       " 'Jane Austen',\n",
       " 'Marilyn Monroe',\n",
       " 'Steve Martin',\n",
       " 'Thomas A. Edison'}"
      ]
     },
     "execution_count": 72,
     "metadata": {},
     "output_type": "execute_result"
    }
   ],
   "source": [
    "authors"
   ]
  },
  {
   "cell_type": "markdown",
   "id": "511eca19",
   "metadata": {},
   "source": [
    "#### TASK: Create a list of all the quotes on the first page."
   ]
  },
  {
   "cell_type": "code",
   "execution_count": 75,
   "id": "c93fbe87",
   "metadata": {},
   "outputs": [],
   "source": [
    "span = soup.select(\".text\")"
   ]
  },
  {
   "cell_type": "code",
   "execution_count": 77,
   "id": "de08d893",
   "metadata": {},
   "outputs": [],
   "source": [
    "quotes =[]\n",
    "for quote in span:\n",
    "    quotes.append(quote.text)"
   ]
  },
  {
   "cell_type": "code",
   "execution_count": 78,
   "id": "82f0b946",
   "metadata": {},
   "outputs": [
    {
     "data": {
      "text/plain": [
       "['“The world as we have created it is a process of our thinking. It cannot be changed without changing our thinking.”',\n",
       " '“It is our choices, Harry, that show what we truly are, far more than our abilities.”',\n",
       " '“There are only two ways to live your life. One is as though nothing is a miracle. The other is as though everything is a miracle.”',\n",
       " '“The person, be it gentleman or lady, who has not pleasure in a good novel, must be intolerably stupid.”',\n",
       " \"“Imperfection is beauty, madness is genius and it's better to be absolutely ridiculous than absolutely boring.”\",\n",
       " '“Try not to become a man of success. Rather become a man of value.”',\n",
       " '“It is better to be hated for what you are than to be loved for what you are not.”',\n",
       " \"“I have not failed. I've just found 10,000 ways that won't work.”\",\n",
       " \"“A woman is like a tea bag; you never know how strong it is until it's in hot water.”\",\n",
       " '“A day without sunshine is like, you know, night.”']"
      ]
     },
     "execution_count": 78,
     "metadata": {},
     "output_type": "execute_result"
    }
   ],
   "source": [
    "quotes"
   ]
  },
  {
   "cell_type": "markdown",
   "id": "2c6e86a9",
   "metadata": {},
   "source": [
    "#### TASK: Inspect the site and use Beautiful Soup to extract the top ten tags from the requests text shown on the top right from the home page (e.g Love,Inspirational,Life, etc...). HINT: Keep in mind there are also tags underneath each quote, try to find a class only present in the top right tags, perhaps check the span."
   ]
  },
  {
   "cell_type": "code",
   "execution_count": 85,
   "id": "e1ec3356",
   "metadata": {},
   "outputs": [],
   "source": [
    "top_ten = soup.select(\".tag-item\")"
   ]
  },
  {
   "cell_type": "code",
   "execution_count": 88,
   "id": "1f6b5d62",
   "metadata": {},
   "outputs": [
    {
     "data": {
      "text/plain": [
       "[<a class=\"tag\" href=\"/tag/love/\" style=\"font-size: 28px\">love</a>]"
      ]
     },
     "execution_count": 88,
     "metadata": {},
     "output_type": "execute_result"
    }
   ],
   "source": [
    "top_ten[0]('a')"
   ]
  },
  {
   "cell_type": "code",
   "execution_count": 90,
   "id": "3216d230",
   "metadata": {},
   "outputs": [],
   "source": [
    "top_tag = []"
   ]
  },
  {
   "cell_type": "code",
   "execution_count": 91,
   "id": "0f85a848",
   "metadata": {},
   "outputs": [],
   "source": [
    "for i in range(10):\n",
    "    res = top_ten[i]('a')\n",
    "    \n",
    "    for tagged in res:\n",
    "        top_tag.append(tagged.text)"
   ]
  },
  {
   "cell_type": "code",
   "execution_count": 92,
   "id": "e76ce3a0",
   "metadata": {},
   "outputs": [
    {
     "data": {
      "text/plain": [
       "['love',\n",
       " 'inspirational',\n",
       " 'life',\n",
       " 'humor',\n",
       " 'books',\n",
       " 'reading',\n",
       " 'friendship',\n",
       " 'friends',\n",
       " 'truth',\n",
       " 'simile']"
      ]
     },
     "execution_count": 92,
     "metadata": {},
     "output_type": "execute_result"
    }
   ],
   "source": [
    "top_tag"
   ]
  },
  {
   "cell_type": "markdown",
   "id": "701f46dd",
   "metadata": {},
   "source": [
    "#### TASK: Notice how there is more than one page, and subsequent pages look like this http://quotes.toscrape.com/page/2/. Use what you know about for loops and string concatenation to loop through all the pages and get all the unique authors on the website."
   ]
  },
  {
   "cell_type": "code",
   "execution_count": 115,
   "id": "ddd218f6",
   "metadata": {},
   "outputs": [],
   "source": [
    "base_url = 'https://quotes.toscrape.com/page/{}/'"
   ]
  },
  {
   "cell_type": "code",
   "execution_count": null,
   "id": "3c55065f",
   "metadata": {},
   "outputs": [],
   "source": []
  },
  {
   "cell_type": "code",
   "execution_count": 118,
   "id": "63f8f6a9",
   "metadata": {},
   "outputs": [],
   "source": [
    "authors = set()\n",
    "for i in range(10):\n",
    "    scrap_url = base_url.format(i)\n",
    "    res = requests.get(scrap_url)\n",
    "    soup = bs4.BeautifulSoup(res.text,\"lxml\")\n",
    "    span = soup.select(\".author\")\n",
    "    \n",
    "    for name in span:\n",
    "        authors.add(name.text)\n",
    "    "
   ]
  },
  {
   "cell_type": "code",
   "execution_count": 119,
   "id": "4315fef7",
   "metadata": {},
   "outputs": [
    {
     "data": {
      "text/plain": [
       "{'Albert Einstein',\n",
       " 'Alexandre Dumas fils',\n",
       " 'Alfred Tennyson',\n",
       " 'Allen Saunders',\n",
       " 'André Gide',\n",
       " 'Ayn Rand',\n",
       " 'Bob Marley',\n",
       " 'C.S. Lewis',\n",
       " 'Charles Bukowski',\n",
       " 'Charles M. Schulz',\n",
       " 'Douglas Adams',\n",
       " 'Dr. Seuss',\n",
       " 'Eleanor Roosevelt',\n",
       " 'Elie Wiesel',\n",
       " 'Ernest Hemingway',\n",
       " 'Friedrich Nietzsche',\n",
       " 'Garrison Keillor',\n",
       " 'George Bernard Shaw',\n",
       " 'George Carlin',\n",
       " 'George Eliot',\n",
       " 'George R.R. Martin',\n",
       " 'Haruki Murakami',\n",
       " 'Helen Keller',\n",
       " 'J.D. Salinger',\n",
       " 'J.K. Rowling',\n",
       " 'J.R.R. Tolkien',\n",
       " 'James Baldwin',\n",
       " 'Jane Austen',\n",
       " 'Jim Henson',\n",
       " 'John Lennon',\n",
       " 'Jorge Luis Borges',\n",
       " 'Marilyn Monroe',\n",
       " 'Mark Twain',\n",
       " 'Martin Luther King Jr.',\n",
       " 'Mother Teresa',\n",
       " 'Pablo Neruda',\n",
       " 'Ralph Waldo Emerson',\n",
       " 'Stephenie Meyer',\n",
       " 'Steve Martin',\n",
       " 'Suzanne Collins',\n",
       " 'Terry Pratchett',\n",
       " 'Thomas A. Edison',\n",
       " 'W.C. Fields',\n",
       " 'William Nicholson'}"
      ]
     },
     "execution_count": 119,
     "metadata": {},
     "output_type": "execute_result"
    }
   ],
   "source": [
    "authors"
   ]
  },
  {
   "cell_type": "code",
   "execution_count": 152,
   "id": "e923fb5a",
   "metadata": {},
   "outputs": [],
   "source": [
    "base_url = 'https://quotes.toscrape.com/page/{}/'"
   ]
  },
  {
   "cell_type": "code",
   "execution_count": 160,
   "id": "a2fa9694",
   "metadata": {},
   "outputs": [],
   "source": [
    "while_authors = set()"
   ]
  },
  {
   "cell_type": "code",
   "execution_count": 165,
   "id": "add6fa36",
   "metadata": {},
   "outputs": [],
   "source": [
    "play = True\n",
    "while play:\n",
    "    \n",
    "        \n",
    "\n",
    "    scrap_url = base_url.format(i)\n",
    "    res = requests.get(scrap_url)\n",
    "    soup = bs4.BeautifulSoup(res.text,\"lxml\")\n",
    "    pager = soup.select(\".pager\")\n",
    "    if \"Next\" not in str(pager):\n",
    "        break\n",
    "            \n",
    "    span = soup.select(\".author\")\n",
    "    \n",
    "    for name in span:\n",
    "        authors.add(name.text)\n",
    "    i += 1\n",
    "        "
   ]
  },
  {
   "cell_type": "code",
   "execution_count": 166,
   "id": "6daef7bb",
   "metadata": {},
   "outputs": [
    {
     "data": {
      "text/plain": [
       "{'Albert Einstein',\n",
       " 'Alexandre Dumas fils',\n",
       " 'Alfred Tennyson',\n",
       " 'Allen Saunders',\n",
       " 'André Gide',\n",
       " 'Ayn Rand',\n",
       " 'Bob Marley',\n",
       " 'C.S. Lewis',\n",
       " 'Charles Bukowski',\n",
       " 'Charles M. Schulz',\n",
       " 'Douglas Adams',\n",
       " 'Dr. Seuss',\n",
       " 'Eleanor Roosevelt',\n",
       " 'Elie Wiesel',\n",
       " 'Ernest Hemingway',\n",
       " 'Friedrich Nietzsche',\n",
       " 'Garrison Keillor',\n",
       " 'George Bernard Shaw',\n",
       " 'George Carlin',\n",
       " 'George Eliot',\n",
       " 'George R.R. Martin',\n",
       " 'Haruki Murakami',\n",
       " 'Helen Keller',\n",
       " 'J.D. Salinger',\n",
       " 'J.K. Rowling',\n",
       " 'J.R.R. Tolkien',\n",
       " 'James Baldwin',\n",
       " 'Jane Austen',\n",
       " 'Jim Henson',\n",
       " 'John Lennon',\n",
       " 'Jorge Luis Borges',\n",
       " 'Marilyn Monroe',\n",
       " 'Mark Twain',\n",
       " 'Martin Luther King Jr.',\n",
       " 'Mother Teresa',\n",
       " 'Pablo Neruda',\n",
       " 'Ralph Waldo Emerson',\n",
       " 'Stephenie Meyer',\n",
       " 'Steve Martin',\n",
       " 'Suzanne Collins',\n",
       " 'Terry Pratchett',\n",
       " 'Thomas A. Edison',\n",
       " 'W.C. Fields',\n",
       " 'William Nicholson'}"
      ]
     },
     "execution_count": 166,
     "metadata": {},
     "output_type": "execute_result"
    }
   ],
   "source": [
    "while_authors"
   ]
  },
  {
   "cell_type": "code",
   "execution_count": null,
   "id": "9558c6dd",
   "metadata": {},
   "outputs": [],
   "source": []
  }
 ],
 "metadata": {
  "kernelspec": {
   "display_name": "Python 3",
   "language": "python",
   "name": "python3"
  },
  "language_info": {
   "codemirror_mode": {
    "name": "ipython",
    "version": 3
   },
   "file_extension": ".py",
   "mimetype": "text/x-python",
   "name": "python",
   "nbconvert_exporter": "python",
   "pygments_lexer": "ipython3",
   "version": "3.8.8"
  }
 },
 "nbformat": 4,
 "nbformat_minor": 5
}
