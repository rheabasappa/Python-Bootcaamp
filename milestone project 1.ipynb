{
 "cells": [
  {
   "cell_type": "markdown",
   "id": "0b4a5746",
   "metadata": {},
   "source": [
    "# Intro to warmup project exercises"
   ]
  },
  {
   "cell_type": "markdown",
   "id": "931aa591",
   "metadata": {},
   "source": [
    "# Display Information"
   ]
  },
  {
   "cell_type": "code",
   "execution_count": 1,
   "id": "1a2db164",
   "metadata": {},
   "outputs": [],
   "source": [
    "def display(row1,row2,row3):\n",
    "    print(row1)\n",
    "    print(row2)\n",
    "    print(row3)"
   ]
  },
  {
   "cell_type": "code",
   "execution_count": 2,
   "id": "1a97d79d",
   "metadata": {},
   "outputs": [],
   "source": [
    "row1 = [1,2,3]\n",
    "row2 = [3,4,5]\n",
    "row3 = [6,7,8]"
   ]
  },
  {
   "cell_type": "code",
   "execution_count": 5,
   "id": "03b1f297",
   "metadata": {},
   "outputs": [],
   "source": [
    "row1 = [' ',' ',' ']\n",
    "row2 = [' ',' ',' ']\n",
    "row3 = [' ',' ',' ']"
   ]
  },
  {
   "cell_type": "code",
   "execution_count": 6,
   "id": "49eac5ab",
   "metadata": {},
   "outputs": [
    {
     "name": "stdout",
     "output_type": "stream",
     "text": [
      "[' ', ' ', ' ']\n",
      "[' ', ' ', ' ']\n",
      "[' ', ' ', ' ']\n"
     ]
    }
   ],
   "source": [
    "display(row1,row2,row3)"
   ]
  },
  {
   "cell_type": "code",
   "execution_count": 7,
   "id": "9f3367b4",
   "metadata": {},
   "outputs": [],
   "source": [
    "row2[1] = 'X'"
   ]
  },
  {
   "cell_type": "code",
   "execution_count": 8,
   "id": "d8be0d99",
   "metadata": {},
   "outputs": [
    {
     "name": "stdout",
     "output_type": "stream",
     "text": [
      "[' ', ' ', ' ']\n",
      "[' ', 'X', ' ']\n",
      "[' ', ' ', ' ']\n"
     ]
    }
   ],
   "source": [
    "display(row1,row2,row3)"
   ]
  },
  {
   "cell_type": "markdown",
   "id": "4f0e4734",
   "metadata": {},
   "source": [
    "# Accepting user input"
   ]
  },
  {
   "cell_type": "code",
   "execution_count": 12,
   "id": "2b4e6c28",
   "metadata": {},
   "outputs": [
    {
     "name": "stdout",
     "output_type": "stream",
     "text": [
      "Please enter a value 2\n"
     ]
    }
   ],
   "source": [
    "result = int(input(\"Please enter a value \"))"
   ]
  },
  {
   "cell_type": "code",
   "execution_count": 13,
   "id": "13370075",
   "metadata": {},
   "outputs": [
    {
     "data": {
      "text/plain": [
       "2"
      ]
     },
     "execution_count": 13,
     "metadata": {},
     "output_type": "execute_result"
    }
   ],
   "source": [
    "result"
   ]
  },
  {
   "cell_type": "code",
   "execution_count": 14,
   "id": "128e6935",
   "metadata": {},
   "outputs": [
    {
     "name": "stdout",
     "output_type": "stream",
     "text": [
      "Please enter a value 2\n"
     ]
    }
   ],
   "source": [
    "result = input(\"Please enter a value \")"
   ]
  },
  {
   "cell_type": "code",
   "execution_count": 15,
   "id": "93714b80",
   "metadata": {},
   "outputs": [
    {
     "data": {
      "text/plain": [
       "'2'"
      ]
     },
     "execution_count": 15,
     "metadata": {},
     "output_type": "execute_result"
    }
   ],
   "source": [
    "result"
   ]
  },
  {
   "cell_type": "markdown",
   "id": "4382d4a1",
   "metadata": {},
   "source": [
    "# Validating user input"
   ]
  },
  {
   "cell_type": "code",
   "execution_count": 18,
   "id": "3247782d",
   "metadata": {},
   "outputs": [],
   "source": [
    "def user_choice():\n",
    "    choice = int(input(\"enter a number betwween 0 aand 10 : \"))\n",
    "    \n",
    "    return choice"
   ]
  },
  {
   "cell_type": "code",
   "execution_count": 20,
   "id": "1f692547",
   "metadata": {},
   "outputs": [
    {
     "name": "stdout",
     "output_type": "stream",
     "text": [
      "enter a number betwween 0 aand 102\n"
     ]
    },
    {
     "data": {
      "text/plain": [
       "2"
      ]
     },
     "execution_count": 20,
     "metadata": {},
     "output_type": "execute_result"
    }
   ],
   "source": [
    "user_choice()"
   ]
  },
  {
   "cell_type": "code",
   "execution_count": 21,
   "id": "5733c476",
   "metadata": {},
   "outputs": [
    {
     "data": {
      "text/plain": [
       "True"
      ]
     },
     "execution_count": 21,
     "metadata": {},
     "output_type": "execute_result"
    }
   ],
   "source": [
    "n = '100'\n",
    "n.isdigit()"
   ]
  },
  {
   "cell_type": "code",
   "execution_count": 22,
   "id": "984e8970",
   "metadata": {},
   "outputs": [
    {
     "data": {
      "text/plain": [
       "False"
      ]
     },
     "execution_count": 22,
     "metadata": {},
     "output_type": "execute_result"
    }
   ],
   "source": [
    "n = 'rhea'\n",
    "n.isdigit()"
   ]
  },
  {
   "cell_type": "code",
   "execution_count": 23,
   "id": "7a39a7f1",
   "metadata": {},
   "outputs": [],
   "source": [
    "def us():\n",
    "    choice = 'wrong'\n",
    "    \n",
    "    while choice.isdigit() == False:\n",
    "        choice = input(\"enter a valid number \")\n",
    "    return int(choice)"
   ]
  },
  {
   "cell_type": "code",
   "execution_count": 24,
   "id": "fada72b6",
   "metadata": {},
   "outputs": [
    {
     "name": "stdout",
     "output_type": "stream",
     "text": [
      "enter a valid number nine\n",
      "enter a valid number 3\n"
     ]
    },
    {
     "data": {
      "text/plain": [
       "3"
      ]
     },
     "execution_count": 24,
     "metadata": {},
     "output_type": "execute_result"
    }
   ],
   "source": [
    "us()"
   ]
  },
  {
   "cell_type": "code",
   "execution_count": null,
   "id": "a5950e51",
   "metadata": {},
   "outputs": [],
   "source": [
    "def user_choice():\n",
    "    \n",
    "    choice ='WRONG'\n",
    "    within_range = False\n",
    "    \n",
    "    while choice.isdigit() == False or within_range == False:\n",
    "        \n",
    "    \n",
    "    \n",
    "        choice = input(\"Please enter a number (0-10): \")\n",
    "        \n",
    "        if choice.isdigit() == False:\n",
    "            print(\"Sorry that is not a digit!\")\n",
    "            \n",
    "        if choice.isdigit() == True:\n",
    "            if int(choice) in range(0,10):\n",
    "                within_range = True\n",
    "            else:\n",
    "                within_range = False\n",
    "        \n",
    "    "
   ]
  },
  {
   "cell_type": "code",
   "execution_count": 31,
   "id": "e84583bb",
   "metadata": {},
   "outputs": [],
   "source": [
    "def us():\n",
    "    \n",
    "    #initial choice\n",
    "    choice = 'wrong'\n",
    "    #acceptable range\n",
    "    result = [0,1,2]\n",
    "    #within range\n",
    "    within_range = False\n",
    "    \n",
    "    while choice.isdigit() == False or within_range == False:\n",
    "        \n",
    "        choice  = input(\"Please enter a number\")\n",
    "        \n",
    "        if choice.isdigit() == False:\n",
    "            print(\"sorry entere digit is not a number\")\n",
    "            \n",
    "        if choice.isdigit() == True:\n",
    "            if int(choice) in result:\n",
    "                within_range = True\n",
    "            else:\n",
    "                print(\"out of acceptable range\")\n",
    "                within_range = False\n",
    "                \n",
    "                \n",
    "    return int(choice)\n",
    "    "
   ]
  },
  {
   "cell_type": "code",
   "execution_count": 33,
   "id": "20089dab",
   "metadata": {},
   "outputs": [
    {
     "name": "stdout",
     "output_type": "stream",
     "text": [
      "Please enter a number4\n",
      "out of acceptable range\n",
      "Please enter a number3\n",
      "out of acceptable range\n",
      "Please enter a number1\n"
     ]
    },
    {
     "data": {
      "text/plain": [
       "1"
      ]
     },
     "execution_count": 33,
     "metadata": {},
     "output_type": "execute_result"
    }
   ],
   "source": [
    "us()"
   ]
  },
  {
   "cell_type": "markdown",
   "id": "0f5ff304",
   "metadata": {},
   "source": [
    "# Simple User Interaction"
   ]
  },
  {
   "cell_type": "code",
   "execution_count": 34,
   "id": "b6410805",
   "metadata": {},
   "outputs": [],
   "source": [
    "game_list = [0,1,2]\n",
    "\n",
    "def display_game(game_list):\n",
    "    print(\"here is the current list:\")\n",
    "    print(game_list)"
   ]
  },
  {
   "cell_type": "code",
   "execution_count": 35,
   "id": "b7aba335",
   "metadata": {},
   "outputs": [
    {
     "name": "stdout",
     "output_type": "stream",
     "text": [
      "here is the current list\n",
      "[0, 1, 2]\n"
     ]
    }
   ],
   "source": [
    "display_game(game_list)"
   ]
  },
  {
   "cell_type": "code",
   "execution_count": 43,
   "id": "86ef864a",
   "metadata": {},
   "outputs": [],
   "source": [
    "def position_choice():\n",
    "    choice = 'wrong'\n",
    "    \n",
    "    while choice not in ['0','1','2']:\n",
    "        choice = input(\"pick a position 0,1,2 : \")\n",
    "        \n",
    "        if choice not in ['0','1','2']:\n",
    "            print(\"sorry invalid choice : \")\n",
    "            \n",
    "    return int(choice)"
   ]
  },
  {
   "cell_type": "code",
   "execution_count": 44,
   "id": "8cbabb88",
   "metadata": {},
   "outputs": [
    {
     "name": "stdout",
     "output_type": "stream",
     "text": [
      "pick a position 0,1,2 : 2\n"
     ]
    },
    {
     "data": {
      "text/plain": [
       "2"
      ]
     },
     "execution_count": 44,
     "metadata": {},
     "output_type": "execute_result"
    }
   ],
   "source": [
    "position_choice()"
   ]
  },
  {
   "cell_type": "code",
   "execution_count": 45,
   "id": "d4ceba2f",
   "metadata": {},
   "outputs": [],
   "source": [
    "def replacement_choice(game_list,position):\n",
    "    user_placement = input(\"enter a string to place at the position : \")\n",
    "    \n",
    "    game_list[position] = user_placement\n",
    "    \n",
    "    return game_list"
   ]
  },
  {
   "cell_type": "code",
   "execution_count": 46,
   "id": "94ded85b",
   "metadata": {},
   "outputs": [
    {
     "name": "stdout",
     "output_type": "stream",
     "text": [
      "enter a string to place at the position : rhea\n"
     ]
    },
    {
     "data": {
      "text/plain": [
       "[0, 'rhea', 2]"
      ]
     },
     "execution_count": 46,
     "metadata": {},
     "output_type": "execute_result"
    }
   ],
   "source": [
    "replacement_choice(game_list,1)"
   ]
  },
  {
   "cell_type": "code",
   "execution_count": 56,
   "id": "6c9826e8",
   "metadata": {},
   "outputs": [],
   "source": [
    "def game_onchoice():\n",
    "    choice = 'wrong'\n",
    "    \n",
    "    while choice not in ['Y','N']:\n",
    "        choice = input(\"pick a position (Y or N): \")\n",
    "        \n",
    "        if choice not in ['Y','N'] :\n",
    "            print(\"sorry I dont understand your choice \")\n",
    "            \n",
    "    if choice == 'Y':\n",
    "        return True\n",
    "    else:\n",
    "        return False"
   ]
  },
  {
   "cell_type": "code",
   "execution_count": 58,
   "id": "521dff73",
   "metadata": {},
   "outputs": [
    {
     "name": "stdout",
     "output_type": "stream",
     "text": [
      "pick a position (Y or N): Y\n"
     ]
    },
    {
     "data": {
      "text/plain": [
       "True"
      ]
     },
     "execution_count": 58,
     "metadata": {},
     "output_type": "execute_result"
    }
   ],
   "source": [
    "game_onchoice()"
   ]
  },
  {
   "cell_type": "code",
   "execution_count": 59,
   "id": "09fe9cf6",
   "metadata": {},
   "outputs": [
    {
     "name": "stdout",
     "output_type": "stream",
     "text": [
      "here is the current list\n",
      "[0, 1, 2]\n",
      "pick a position 0,1,2 : 1\n",
      "enter a string to place at the position : rhea\n",
      "here is the current list\n",
      "[0, 'rhea', 2]\n",
      "pick a position (Y or N): Y\n",
      "here is the current list\n",
      "[0, 'rhea', 2]\n",
      "pick a position 0,1,2 : 1\n",
      "enter a string to place at the position : shash\n",
      "here is the current list\n",
      "[0, 'shash', 2]\n",
      "pick a position (Y or N): N\n"
     ]
    }
   ],
   "source": [
    "game_on = True\n",
    "game_list = [0,1,2]\n",
    "\n",
    "while game_on:\n",
    "    \n",
    "    display_game(game_list)\n",
    "    position = position_choice()\n",
    "    \n",
    "    game_list = replacement_choice(game_list,position)\n",
    "    \n",
    "    display_game(game_list)\n",
    "    \n",
    "    game_on = game_onchoice()\n",
    "    "
   ]
  },
  {
   "cell_type": "markdown",
   "id": "077d6b0f",
   "metadata": {},
   "source": [
    "# Milestone Project 1\n"
   ]
  },
  {
   "cell_type": "markdown",
   "id": "8a7f90b6",
   "metadata": {},
   "source": [
    "Your assignment: Create a Tic Tac Toe game. You are free to use any IDE you like.\n",
    "\n",
    "\n",
    "Here are the requirements:\n",
    "\n",
    "\n",
    "2 players should be able to play the game (both sitting at the same computer)\n",
    "\n",
    "The board should be printed out every time a player makes a move\n",
    "\n",
    "You should be able to accept input of the player position and then place a symbol on the board\n",
    "\n",
    "Feel free to use Google to help you figure anything out (but don't just Google \"Tic Tac Toe in Python\" otherwise you won't\n",
    "learn anything!) Keep in mind that this project can take anywhere between several hours to several days.\n",
    "\n",
    "\n",
    "There are 4 Jupyter Notebooks related to this assignment:\n",
    "\n",
    "\n",
    "This Assignment Notebook\n",
    "\n",
    "A \"Walkthrough Steps Workbook\" Notebook\n",
    "\n",
    "A \"Complete Walkthrough Solution\" Notebook\n",
    "\n",
    "An \"Advanced Solution\" Notebook\n",
    "\n",
    "I encourage you to just try to start the project on your own without referencing any of the notebooks. If you get stuck, check out the next lecture which is a text lecture with helpful hints and steps. If you're still stuck after that, then check out the Walkthrough Steps Workbook, which breaks up the project in steps for you to solve. Still stuck? Then check out the Complete Walkthrough Solution video for more help on approaching the project!\n",
    "\n",
    "\n",
    "There are parts of this that will be a struggle...and that is good! I have complete faith that if you have made it this far through the course you have all the tools and knowledge to tackle this project. Remember, it's totally open book, so take your time, do a little research, and remember:\n"
   ]
  },
  {
   "cell_type": "markdown",
   "id": "365332d5",
   "metadata": {},
   "source": [
    "### Step 1: Write a function that can print out a board. Set up your board as a list, where each index 1-9 corresponds with a number on a number pad, so you get a 3 by 3 board representation."
   ]
  },
  {
   "cell_type": "code",
   "execution_count": 1,
   "id": "cda2afd2",
   "metadata": {},
   "outputs": [],
   "source": [
    "from IPython.display import clear_output\n",
    "\n",
    "def display_board(board):\n",
    "    \n",
    "    clear_output()\n",
    "    \n",
    "    print(board[7]+' | '+board[8]+ ' | '+ board[9])\n",
    "    \n",
    "    print('---------')\n",
    " \n",
    "    print(board[4]+' | '+board[5]+ ' | '+ board[6])\n",
    "    \n",
    "    print('---------')\n",
    "    \n",
    "    print(board[1]+' | '+board[2]+ ' | '+ board[3])\n",
    "    "
   ]
  },
  {
   "cell_type": "markdown",
   "id": "bd7b1282",
   "metadata": {},
   "source": [
    "### Step 2: Write a function that can take in a player input and assign their marker as 'X' or 'O'. Think about using while loops to continually ask until you get a correct answer."
   ]
  },
  {
   "cell_type": "code",
   "execution_count": 2,
   "id": "c1081e99",
   "metadata": {},
   "outputs": [],
   "source": [
    "def player_input():\n",
    "    marker = ''\n",
    "    \n",
    "    while not (marker == 'X' or marker == 'O'):\n",
    "        marker = input('Player 1: Do you want to be X or O? ').upper()\n",
    "\n",
    "    if marker == 'X':\n",
    "        return ('X', 'O')\n",
    "    else:\n",
    "        return ('O', 'X')\n",
    "    \n",
    "        \n",
    "        \n",
    "        \n"
   ]
  },
  {
   "cell_type": "code",
   "execution_count": 3,
   "id": "5f57ebfe",
   "metadata": {},
   "outputs": [],
   "source": [
    "def place_marker(board, marker, position):\n",
    "    \n",
    "    board[position] = marker\n",
    "    "
   ]
  },
  {
   "cell_type": "markdown",
   "id": "8e9ce039",
   "metadata": {},
   "source": [
    "### Step 4: Write a function that takes in a board and a mark (X or O) and then checks to see if that mark has won."
   ]
  },
  {
   "cell_type": "code",
   "execution_count": 4,
   "id": "131ff1b9",
   "metadata": {},
   "outputs": [],
   "source": [
    "def win_check(board, mark):\n",
    "    \n",
    "    \n",
    "    return ((board[7] == mark and board[8] == mark and board[9] == mark) or # across the top\n",
    "    (board[4] == mark and board[5] == mark and board[6] == mark) or # across the middle\n",
    "    (board[1] == mark and board[2] == mark and board[3] == mark) or # across the bottom\n",
    "    (board[7] == mark and board[4] == mark and board[1] == mark) or # down the middle\n",
    "    (board[8] == mark and board[5] == mark and board[2] == mark) or # down the middle\n",
    "    (board[9] == mark and board[6] == mark and board[3] == mark) or # down the right side\n",
    "    (board[7] == mark and board[5] == mark and board[3] == mark) or # diagonal\n",
    "    (board[9] == mark and board[5] == mark and board[1] == mark)) # diagonal"
   ]
  },
  {
   "cell_type": "markdown",
   "id": "50d5474e",
   "metadata": {},
   "source": [
    "### Step 5: Write a function that uses the random module to randomly decide which player goes first. You may want to lookup random.randint() Return a string of which player went first."
   ]
  },
  {
   "cell_type": "code",
   "execution_count": 5,
   "id": "488ed539",
   "metadata": {},
   "outputs": [],
   "source": [
    "import random\n",
    "\n",
    "def choose_first():\n",
    "    if random.randint(1,2)== 1:\n",
    "        return 'Player 1'\n",
    "    else:\n",
    "        return 'Player 2'\n",
    "    \n",
    "    \n",
    "    "
   ]
  },
  {
   "cell_type": "markdown",
   "id": "7755f03b",
   "metadata": {},
   "source": [
    "### Step 6: Write a function that returns a boolean indicating whether a space on the board is freely available."
   ]
  },
  {
   "cell_type": "code",
   "execution_count": 6,
   "id": "d70f4abb",
   "metadata": {},
   "outputs": [],
   "source": [
    "def space_check(board, position):\n",
    "    \n",
    "    return board[position] == ' '\n",
    "        "
   ]
  },
  {
   "cell_type": "markdown",
   "id": "086dccc1",
   "metadata": {},
   "source": [
    "\n",
    "\n",
    "\n",
    "\n",
    "\n",
    "\n",
    "\n",
    "\n",
    "### Step 7: Write a function that checks if the board is full and returns a boolean value. True if full, False otherwise."
   ]
  },
  {
   "cell_type": "code",
   "execution_count": 7,
   "id": "b48c96a6",
   "metadata": {},
   "outputs": [],
   "source": [
    "def full_board_check(board):\n",
    "    \n",
    "    \n",
    "    for i in range(1,10):\n",
    "        if space_check(board, i):\n",
    "            return True\n",
    "    return False\n",
    "    "
   ]
  },
  {
   "cell_type": "markdown",
   "id": "eccca69c",
   "metadata": {},
   "source": [
    "### Step 8: Write a function that asks for a player's next position (as a number 1-9) and then uses the function from step 6 to check if it's a free position. If it is, then return the position for later use."
   ]
  },
  {
   "cell_type": "code",
   "execution_count": 8,
   "id": "aeea7c47",
   "metadata": {},
   "outputs": [],
   "source": [
    "def player_choice(board):\n",
    "    \n",
    "    position = 0\n",
    "    \n",
    "    while position not in [1,2,3,4,5,6,7,8,9] or not space_check(board, position):\n",
    "        position = int(input('Choose your next position: (1-9) '))\n",
    "        \n",
    "    return position"
   ]
  },
  {
   "cell_type": "markdown",
   "id": "c8d8e0ab",
   "metadata": {},
   "source": [
    "### Step 9: Write a function that asks the player if they want to play again and returns a boolean True if they do want to play again."
   ]
  },
  {
   "cell_type": "code",
   "execution_count": 9,
   "id": "86f39e0b",
   "metadata": {},
   "outputs": [],
   "source": [
    "def replay():\n",
    "    \n",
    "    ans = 'None'\n",
    "    \n",
    "    while ans not in ['Y','N']:\n",
    "        ans = input(\"Enter Y if you want to keep playing and N if you want to stop the game : \")\n",
    "        \n",
    "    if ans == 'Y':\n",
    "        return True\n",
    "    else:\n",
    "        return False\n",
    "        "
   ]
  },
  {
   "cell_type": "markdown",
   "id": "6dc80579",
   "metadata": {},
   "source": [
    "### Step 10: Here comes the hard part! Use while loops and the functions you've made to run the game!"
   ]
  },
  {
   "cell_type": "code",
   "execution_count": null,
   "id": "d837356a",
   "metadata": {},
   "outputs": [
    {
     "name": "stdout",
     "output_type": "stream",
     "text": [
      "X | O | X\n",
      "---------\n",
      "X | O | X\n",
      "---------\n",
      "O | X | O\n",
      "tie game\n"
     ]
    }
   ],
   "source": [
    "print(\"welcome to tic tac toe game\")\n",
    "\n",
    "#while loop to keep running the game\n",
    "\n",
    "while True:\n",
    "    \n",
    "    #play the game\n",
    "    #set the board,who is firrst aand choose marker\n",
    "    theboard = [' ']*10\n",
    "    player1_marker,player2_marker = player_input()\n",
    "    \n",
    "    turn = choose_first()\n",
    "    print(\"{} will go first\".format(turn))\n",
    "    \n",
    "    play_game = input(\"reaady to play Y or N ? \")\n",
    "    if play_game == 'Y':\n",
    "        game_on = True\n",
    "    else:\n",
    "        game_on = False\n",
    "        \n",
    "    \n",
    "    ##game play\n",
    "    while game_on:\n",
    "        if turn == 'Player 1':\n",
    "            \n",
    "            ###player1 turn\n",
    "            \n",
    "            #show the board\n",
    "            display_board(theboard)\n",
    "            #choose position\n",
    "            position = player_choice(theboard)\n",
    "            \n",
    "            #place the maarker on the position\n",
    "            place_marker(theboard,player1_marker,position)\n",
    "            \n",
    "            #check for win\n",
    "            if win_check(theboard,player1_marker):\n",
    "                display_board(theboard)\n",
    "                print(\"player 1 has won\")\n",
    "                game_on = False\n",
    "            \n",
    "            #check for tie\n",
    "            else:\n",
    "                if not full_board_check(theboard):\n",
    "                    display_board(theboard)\n",
    "                    print(\"tie game\")\n",
    "                    game_on = False\n",
    "                else:\n",
    "                    turn = 'Player 2'\n",
    "            \n",
    "            #no tie no win next plyers turn\n",
    "            \n",
    "            \n",
    "        else:\n",
    "            \n",
    "            #show the board\n",
    "            display_board(theboard)\n",
    "            #choose position\n",
    "            position = player_choice(theboard)\n",
    "            \n",
    "            #place the maarker on the position\n",
    "            place_marker(theboard,player2_marker,position)\n",
    "            \n",
    "            #check for win\n",
    "            if win_check(theboard,player2_marker):\n",
    "                display_board(theboard)\n",
    "                print(\"player 2 has won\")\n",
    "                game_on = False\n",
    "            \n",
    "            #check for tie\n",
    "            else:\n",
    "                if not full_board_check(theboard):\n",
    "                    display_board(theboard)\n",
    "                    print(\"tie game\")\n",
    "                    game_on = False\n",
    "                else:\n",
    "                    turn = 'Player 1'\n",
    "                \n",
    "            #no tie no win next plyers turn\n",
    "        \n",
    "    \n",
    "    \n",
    "         \n",
    "    \n",
    "    \n",
    "    ###plaayer2 turn\n",
    "\n",
    "    \n",
    "    \n",
    "    if not replay():\n",
    "        break\n",
    "\n",
    "#brrekout of the while loop on replay"
   ]
  },
  {
   "cell_type": "code",
   "execution_count": null,
   "id": "15869d8e",
   "metadata": {},
   "outputs": [],
   "source": []
  }
 ],
 "metadata": {
  "kernelspec": {
   "display_name": "Python 3",
   "language": "python",
   "name": "python3"
  },
  "language_info": {
   "codemirror_mode": {
    "name": "ipython",
    "version": 3
   },
   "file_extension": ".py",
   "mimetype": "text/x-python",
   "name": "python",
   "nbconvert_exporter": "python",
   "pygments_lexer": "ipython3",
   "version": "3.8.8"
  }
 },
 "nbformat": 4,
 "nbformat_minor": 5
}
