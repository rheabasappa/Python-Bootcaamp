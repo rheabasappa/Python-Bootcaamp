{
 "cells": [
  {
   "cell_type": "markdown",
   "id": "60da5044",
   "metadata": {},
   "source": [
    "## Black Jack game "
   ]
  },
  {
   "cell_type": "markdown",
   "id": "546fdd68",
   "metadata": {},
   "source": [
    "## Independent coding "
   ]
  },
  {
   "cell_type": "code",
   "execution_count": 1,
   "id": "ff6d12b5",
   "metadata": {},
   "outputs": [],
   "source": [
    "#creating suit,rank and value\n",
    "\n",
    "#tuple of suits\n",
    "suits = ('hearts','diamonds','spades','clubs')\n",
    "\n",
    "#keeping ace = 11 (must be changed later)\n",
    "#tuple of ranks\n",
    "ranks = (\"two\",'three','four','five','six','seven','eight','nine','ten','jack','queen','king','ace')\n",
    "\n",
    "#dictonary of values\n",
    "value = {\"two\":2,'three':3,'four':4,'five':5,'six':6,'seven':7,'eight':8,'nine':9,'ten':10,'jack':10,'queen':10,'king':10,'ace':11}\n",
    "\n"
   ]
  },
  {
   "cell_type": "code",
   "execution_count": 2,
   "id": "ab65efcd",
   "metadata": {},
   "outputs": [],
   "source": [
    "#class card\n",
    "#suits,ranks and values\n",
    "#prints \n",
    "\n",
    "class Card():\n",
    "    \n",
    "    #initialize\n",
    "    def __init__(self,suit,rank):\n",
    "        self.suit = suit\n",
    "        self.rank = rank\n",
    "        self.value = value[rank]\n",
    "        \n",
    "    #to print\n",
    "    def __str__(self):\n",
    "        return self.rank + \" of \" + self.suit"
   ]
  },
  {
   "cell_type": "code",
   "execution_count": 3,
   "id": "785e9225",
   "metadata": {},
   "outputs": [],
   "source": [
    "#class deck\n",
    "#creates 52 cards of class card \n",
    "#stores them as a list\n",
    "#shuffles them\n",
    "\n",
    "#import random library to use shuffle on a list\n",
    "import random\n",
    "\n",
    "class Deck():\n",
    "    \n",
    "    #initialize\n",
    "    def __init__(self):\n",
    "        #create an empty list\n",
    "        self.all_cards = []\n",
    "        \n",
    "        #append all 52 possible combination of new cards to this empty list\n",
    "        for suit in suits:\n",
    "            for rank in ranks:\n",
    "                self.all_cards.append(Card(suit,rank))\n",
    "                \n",
    "        #thus the self.all_cards is now a list with all 52 cards\n",
    "        \n",
    "    #shuffle these cards\n",
    "    def shuffle(self):\n",
    "        random.shuffle(self.all_cards)\n",
    "        \n",
    "    def deal_one_card(self):\n",
    "        return self.all_cards.pop()"
   ]
  },
  {
   "cell_type": "code",
   "execution_count": 4,
   "id": "9d11d511",
   "metadata": {},
   "outputs": [],
   "source": [
    "#An initial global variable bet must be considered against which bets need to be measured \n",
    "\n"
   ]
  },
  {
   "cell_type": "code",
   "execution_count": 4,
   "id": "5d1449d1",
   "metadata": {},
   "outputs": [],
   "source": [
    "#class for human player\n",
    "#input is name and bet\n",
    "#it stores the current list it has been dealt aand shows it\n",
    "#performs action hit - appends new card to its list\n",
    "#Performs stay does nothing\n",
    "#it also checks if it has enough to bet and returns a bool value\n",
    "\n",
    "class HumanPlayer():\n",
    "    \n",
    "    #initialize\n",
    "    def __init__(self,name,bet):\n",
    "        self.name = name\n",
    "        self.bet = bet\n",
    "        self.total_money = total_money\n",
    "        self.current_list = []\n",
    "        \n",
    "    #check for sufficient bet\n",
    "    def check_bet(self):\n",
    "        if self.bet >= self.total_money:\n",
    "            return True\n",
    "        else:\n",
    "            return False\n",
    "        \n",
    "    #action performed is hit\n",
    "    def hit(self,new_card):\n",
    "        self.current_list.append(new_card)\n",
    "        \n",
    "    #action performed is stay\n",
    "    def stay(self):\n",
    "        self.current_list\n",
    "        \n",
    "    #print the name, bet \n",
    "    def display_who(self):\n",
    "        return self.name + \" has bet \"+ str(self.bet) \n",
    "    "
   ]
  },
  {
   "cell_type": "code",
   "execution_count": 5,
   "id": "23576284",
   "metadata": {},
   "outputs": [],
   "source": [
    "#class computerplayer\n",
    "#has only current list and no input\n",
    "\n",
    "#only action it performs is hit\n",
    "\n",
    "class ComputerPlayer():\n",
    "    \n",
    "    #initialize\n",
    "    def __init__(self):\n",
    "        self.current_list = []\n",
    "        \n",
    "    \n",
    "    #hit action\n",
    "    def hit(self,new_card):\n",
    "        self.current_list.append(new_card)\n",
    "\n",
    "\n"
   ]
  },
  {
   "cell_type": "code",
   "execution_count": 6,
   "id": "0eed4a04",
   "metadata": {},
   "outputs": [],
   "source": [
    "#game Logic\n",
    "#setup the game\n",
    "\n",
    "#create a deck of 52 cards\n",
    "new_deck = Deck()\n",
    "\n",
    "#shuffle the cards in the deck\n",
    "new_deck.shuffle()"
   ]
  },
  {
   "cell_type": "code",
   "execution_count": 7,
   "id": "fc088ed6",
   "metadata": {},
   "outputs": [
    {
     "name": "stdout",
     "output_type": "stream",
     "text": [
      "How much total money do you have between 500 - 1500 : 1500\n"
     ]
    }
   ],
   "source": [
    "#Ask the player how much total money they have between 500 to 1500\n",
    "total_money = int(input(\"How much total money do you have between 500 - 1500 : \"))"
   ]
  },
  {
   "cell_type": "code",
   "execution_count": 24,
   "id": "6d9daac3",
   "metadata": {},
   "outputs": [
    {
     "name": "stdout",
     "output_type": "stream",
     "text": [
      "you have sufficient bet\n"
     ]
    }
   ],
   "source": [
    "#create human player and check their bet\n",
    "\n",
    "human = HumanPlayer(\"rhea\",100)\n",
    "\n",
    "if human.check_bet:\n",
    "    print(\"you have sufficient bet\")\n",
    "    game_on = True\n",
    "else:\n",
    "    print(\"you do not have sufficient bet\")\n",
    "    game_on = False"
   ]
  },
  {
   "cell_type": "code",
   "execution_count": 25,
   "id": "23899844",
   "metadata": {},
   "outputs": [
    {
     "name": "stdout",
     "output_type": "stream",
     "text": [
      "continue\n"
     ]
    }
   ],
   "source": [
    "if game_on:\n",
    "    print(\"continue\")\n",
    "    \n",
    "else:\n",
    "    print(\"sstop\")"
   ]
  },
  {
   "cell_type": "code",
   "execution_count": 9,
   "id": "696ff9fd",
   "metadata": {},
   "outputs": [],
   "source": [
    "computer = ComputerPlayer()"
   ]
  },
  {
   "cell_type": "code",
   "execution_count": 10,
   "id": "947c6400",
   "metadata": {
    "scrolled": true
   },
   "outputs": [],
   "source": [
    "#dealing two cards to human and computer\n",
    "for x in range(2):\n",
    "    human.hit(new_deck.deal_one_card())#\n",
    "    computer.hit(new_deck.deal_one_card())\n",
    "    \n"
   ]
  },
  {
   "cell_type": "code",
   "execution_count": 11,
   "id": "54197b91",
   "metadata": {},
   "outputs": [
    {
     "name": "stdout",
     "output_type": "stream",
     "text": [
      "Cards given to human\n",
      "king of diamonds\n",
      "five of hearts\n",
      "----------------------\n",
      "first card given to computer\n",
      "three of hearts\n",
      "-----------------------\n"
     ]
    }
   ],
   "source": [
    "#display cards dealt for humans\n",
    "print(\"Cards given to human\")\n",
    "for card_object in human.current_list:\n",
    "    print(card_object)\n",
    "print(\"----------------------\")\n",
    "print(\"first card given to computer\")\n",
    "face_card = computer.current_list[0]\n",
    "print(face_card)\n",
    "print(\"-----------------------\")"
   ]
  },
  {
   "cell_type": "code",
   "execution_count": 12,
   "id": "751f786e",
   "metadata": {},
   "outputs": [
    {
     "name": "stdout",
     "output_type": "stream",
     "text": [
      "type H for hit or S for stay : S\n",
      "you are choosing to not do anything\n",
      "cards with you are : \n",
      "king of diamonds\n",
      "five of hearts\n"
     ]
    }
   ],
   "source": [
    "#take input from the human for action\n",
    "\n",
    "action = 'none'\n",
    "while action not in ['H','S']:\n",
    "    \n",
    "    action = input(\"type H for hit or S for stay : \")\n",
    "if action == 'H':\n",
    "    new_card = new_deck.deal_one_card()\n",
    "    human.hit(new_card)\n",
    "    print(\"hit gives the card : {}\".format(new_card))\n",
    "    print(\"---------------------------------\")\n",
    "    print(\"cards with you are : \")\n",
    "    for card_object in human.current_list:\n",
    "        \n",
    "        print(card_object)\n",
    "    #check for win/bust before giving turn to computer\n",
    "    \n",
    "    \n",
    "    \n",
    "else:\n",
    "    print(\"you are choosing to not do anything\")\n",
    "    print(\"cards with you are : \")\n",
    "    for card_object in human.current_list:\n",
    "        \n",
    "        print(card_object)\n",
    "        \n",
    "            #turn given to computer"
   ]
  },
  {
   "cell_type": "code",
   "execution_count": 18,
   "id": "3661478c",
   "metadata": {},
   "outputs": [],
   "source": [
    "def player_win_21():\n",
    "    total = 0\n",
    "    for card_object in human.current_list:\n",
    "        \n",
    "        total += card_object.value\n",
    "        \n",
    "        if total == 21:\n",
    "            return True\n",
    "        else:\n",
    "            return False"
   ]
  },
  {
   "cell_type": "code",
   "execution_count": 19,
   "id": "338beac2",
   "metadata": {},
   "outputs": [
    {
     "name": "stdout",
     "output_type": "stream",
     "text": [
      "False\n"
     ]
    }
   ],
   "source": [
    "print(player_win_21())"
   ]
  },
  {
   "cell_type": "code",
   "execution_count": 21,
   "id": "eada253b",
   "metadata": {},
   "outputs": [],
   "source": [
    "def player_bust():\n",
    "    total = 0\n",
    "    for card_object in human.current_list:\n",
    "        total += card_object.value\n",
    "        \n",
    "        if total > 21:\n",
    "            return True\n",
    "        else:\n",
    "            return False"
   ]
  },
  {
   "cell_type": "code",
   "execution_count": 20,
   "id": "4fb7cd59",
   "metadata": {},
   "outputs": [],
   "source": [
    "def computer_bust():\n",
    "    total = 0\n",
    "    for card_object in computer.current_list:\n",
    "        \n",
    "        total += card_object.value\n",
    "        \n",
    "        if total > 21:\n",
    "            return True\n",
    "        else:\n",
    "            return False\n",
    "        \n",
    "        "
   ]
  },
  {
   "cell_type": "code",
   "execution_count": 16,
   "id": "d3eb30c8",
   "metadata": {},
   "outputs": [],
   "source": [
    "def computer_win_21():\n",
    "    total = 0\n",
    "    \n",
    "    for card_object in computer.current_list:\n",
    "        \n",
    "        total += card_object.value\n",
    "        \n",
    "        if total == 21:\n",
    "            return True\n",
    "        else:\n",
    "            return False\n",
    "    "
   ]
  },
  {
   "cell_type": "code",
   "execution_count": 22,
   "id": "36bbe017",
   "metadata": {},
   "outputs": [],
   "source": [
    "def who_won():\n",
    "    total_human = 0\n",
    "    total_computer = 0\n",
    "    \n",
    "    for card_object in human.current_list:\n",
    "        total_human += card_object.value\n",
    "        \n",
    "    for card_object in computer.current_list:\n",
    "        total_computer += card_object.value\n",
    "        \n",
    "    if total_human>total_computer:\n",
    "        print(\"Human player has won\")\n",
    "        \n",
    "    else:\n",
    "        print(\"computer dealer has won\")\n",
    "    "
   ]
  },
  {
   "cell_type": "code",
   "execution_count": 23,
   "id": "eeb2bbab",
   "metadata": {},
   "outputs": [
    {
     "name": "stdout",
     "output_type": "stream",
     "text": [
      "Human player has won\n"
     ]
    }
   ],
   "source": [
    "who_won()"
   ]
  },
  {
   "cell_type": "markdown",
   "id": "288c5c1d",
   "metadata": {},
   "source": [
    "## All the necessary classes and functions have been designed now lets arrange the game "
   ]
  },
  {
   "cell_type": "code",
   "execution_count": 1,
   "id": "102de390",
   "metadata": {},
   "outputs": [],
   "source": [
    "#creating suit,rank and value\n",
    "\n",
    "#tuple of suits\n",
    "suits = ('hearts','diamonds','spades','clubs')\n",
    "\n",
    "#keeping ace = 11 (must be changed later)\n",
    "#tuple of ranks\n",
    "ranks = (\"two\",'three','four','five','six','seven','eight','nine','ten','jack','queen','king','ace')\n",
    "\n",
    "#dictonary of values\n",
    "value = {\"two\":2,'three':3,'four':4,'five':5,'six':6,'seven':7,'eight':8,'nine':9,'ten':10,'jack':10,'queen':10,'king':10,'ace':11}\n",
    "\n"
   ]
  },
  {
   "cell_type": "code",
   "execution_count": 2,
   "id": "00e9ac53",
   "metadata": {},
   "outputs": [],
   "source": [
    "#class card\n",
    "#suits,ranks and values\n",
    "#prints \n",
    "\n",
    "class Card():\n",
    "    \n",
    "    #initialize\n",
    "    def __init__(self,suit,rank):\n",
    "        self.suit = suit\n",
    "        self.rank = rank\n",
    "        self.value = value[rank]\n",
    "        \n",
    "    #to print\n",
    "    def __str__(self):\n",
    "        return self.rank + \" of \" + self.suit"
   ]
  },
  {
   "cell_type": "code",
   "execution_count": 3,
   "id": "1a6fbf7d",
   "metadata": {},
   "outputs": [],
   "source": [
    "#class deck\n",
    "#creates 52 cards of class card \n",
    "#stores them as a list\n",
    "#shuffles them\n",
    "\n",
    "#import random library to use shuffle on a list\n",
    "import random\n",
    "\n",
    "class Deck():\n",
    "    \n",
    "    #initialize\n",
    "    def __init__(self):\n",
    "        #create an empty list\n",
    "        self.all_cards = []\n",
    "        \n",
    "        #append all 52 possible combination of new cards to this empty list\n",
    "        for suit in suits:\n",
    "            for rank in ranks:\n",
    "                self.all_cards.append(Card(suit,rank))\n",
    "                \n",
    "        #thus the self.all_cards is now a list with all 52 cards\n",
    "        \n",
    "    #shuffle these cards\n",
    "    def shuffle(self):\n",
    "        random.shuffle(self.all_cards)\n",
    "        \n",
    "    def deal_one_card(self):\n",
    "        return self.all_cards.pop()"
   ]
  },
  {
   "cell_type": "code",
   "execution_count": 4,
   "id": "6574bb14",
   "metadata": {},
   "outputs": [],
   "source": [
    "#class for human player\n",
    "#input is name and bet\n",
    "#it stores the current list it has been dealt aand shows it\n",
    "#performs action hit - appends new card to its list\n",
    "#Performs stay does nothing\n",
    "#it also checks if it has enough to bet and returns a bool value\n",
    "\n",
    "class HumanPlayer():\n",
    "    \n",
    "    #initialize\n",
    "    def __init__(self,name,bet):\n",
    "        self.name = name\n",
    "        self.bet = bet\n",
    "        self.total_money = total_money\n",
    "        self.current_list = []\n",
    "        \n",
    "    #check for sufficient bet\n",
    "    def check_bet(self):\n",
    "        if self.bet >= self.total_money:\n",
    "            return True\n",
    "        else:\n",
    "            return False\n",
    "        \n",
    "    #action performed is hit\n",
    "    def hit(self,new_card):\n",
    "        self.current_list.append(new_card)\n",
    "        \n",
    "    #action performed is stay\n",
    "    def stay(self):\n",
    "        self.current_list\n",
    "        \n",
    "    #print the name, bet \n",
    "    def display_who(self):\n",
    "        return self.name + \" has bet \"+ str(self.bet) \n",
    "    "
   ]
  },
  {
   "cell_type": "code",
   "execution_count": 5,
   "id": "7a807a22",
   "metadata": {},
   "outputs": [],
   "source": [
    "#class computerplayer\n",
    "#has only current list and no input\n",
    "\n",
    "#only action it performs is hit\n",
    "\n",
    "class ComputerPlayer():\n",
    "    \n",
    "    #initialize\n",
    "    def __init__(self):\n",
    "        self.current_list = []\n",
    "        \n",
    "    \n",
    "    #hit action\n",
    "    def hit(self,new_card):\n",
    "        self.current_list.append(new_card)\n"
   ]
  },
  {
   "cell_type": "code",
   "execution_count": 6,
   "id": "5c8aca1b",
   "metadata": {},
   "outputs": [],
   "source": [
    "def player_win_21():\n",
    "    total = 0\n",
    "    for card_object in human.current_list:\n",
    "        \n",
    "        total += card_object.value\n",
    "        \n",
    "        if total == 21:\n",
    "            return True\n",
    "        else:\n",
    "            return False\n",
    "\n",
    "        \n",
    "def player_bust():\n",
    "    total = 0\n",
    "    for card_object in human.current_list:\n",
    "        total += card_object.value\n",
    "        \n",
    "        if total > 21:\n",
    "            return True\n",
    "        else:\n",
    "            return False\n",
    "        \n",
    "        \n",
    "def computer_bust():\n",
    "    total = 0\n",
    "    for card_object in computer.current_list:\n",
    "        \n",
    "        total += card_object.value\n",
    "        \n",
    "        if total > 21:\n",
    "            return True\n",
    "        else:\n",
    "            return False\n",
    "        \n",
    "        \n",
    "        \n",
    "def computer_win_21():\n",
    "    total = 0\n",
    "    \n",
    "    for card_object in computer.current_list:\n",
    "        \n",
    "        total += card_object.value\n",
    "        \n",
    "        if total == 21:\n",
    "            return True\n",
    "        else:\n",
    "            return False\n",
    "\n",
    "        \n",
    "def who_won():\n",
    "    total_human = 0\n",
    "    total_computer = 0\n",
    "    \n",
    "    for card_object in human.current_list:\n",
    "        total_human += card_object.value\n",
    "        \n",
    "    for card_object in computer.current_list:\n",
    "        total_computer += card_object.value\n",
    "        \n",
    "    if total_human>total_computer:\n",
    "        print(\"Human player has won\")\n",
    "        \n",
    "    else:\n",
    "        print(\"computer dealer has won\")\n",
    "    "
   ]
  },
  {
   "cell_type": "code",
   "execution_count": 7,
   "id": "facdbdfa",
   "metadata": {},
   "outputs": [
    {
     "name": "stdout",
     "output_type": "stream",
     "text": [
      "How much total money do you have between 500 - 1500 : 1000\n"
     ]
    }
   ],
   "source": [
    "#set up initial game logic\n",
    "#create a deck of 52 cards\n",
    "new_deck = Deck()\n",
    "\n",
    "#shuffle the cards in the deck\n",
    "new_deck.shuffle()\n",
    "\n",
    "#Ask the player how much total money they have between 500 to 1500\n",
    "total_money = int(input(\"How much total money do you have between 500 - 1500 : \"))\n",
    "\n"
   ]
  },
  {
   "cell_type": "code",
   "execution_count": 8,
   "id": "5985d82b",
   "metadata": {},
   "outputs": [
    {
     "name": "stdout",
     "output_type": "stream",
     "text": [
      "you have sufficient bet\n"
     ]
    }
   ],
   "source": [
    "#create human player and check their bet\n",
    "\n",
    "human = HumanPlayer(\"rhea\",100)\n",
    "\n",
    "if human.check_bet:\n",
    "    print(\"you have sufficient bet\")\n",
    "    bet_placed = True\n",
    "else:\n",
    "    print(\"you do not have sufficient bet\")\n",
    "    bet_placed = False\n",
    "        \n",
    "    \n",
    "    \n",
    "    \n",
    "    "
   ]
  },
  {
   "cell_type": "code",
   "execution_count": 11,
   "id": "005b9aee",
   "metadata": {},
   "outputs": [
    {
     "name": "stdout",
     "output_type": "stream",
     "text": [
      "Cards given to human are : \n",
      "eight of clubs\n",
      "five of diamonds\n",
      "seven of diamonds\n",
      "ace of diamonds\n",
      "ten of spades\n",
      "four of hearts\n",
      "----------------------\n",
      "face card of computer : \n",
      "queen of clubs\n",
      "-----------------------\n",
      "round is 1\n",
      "human player has won\n"
     ]
    }
   ],
   "source": [
    "if bet_placed:\n",
    "    \n",
    "    \n",
    "    computer = ComputerPlayer()\n",
    "    \n",
    "    #dealing two cards to human and computer\n",
    "    for x in range(2):\n",
    "        human.hit(new_deck.deal_one_card())#\n",
    "        computer.hit(new_deck.deal_one_card())\n",
    "        \n",
    "        \n",
    "    #display cards dealt for humans\n",
    "    print(\"Cards given to human are : \")\n",
    "    for card_object in human.current_list:\n",
    "        print(card_object)\n",
    "    print(\"----------------------\")\n",
    "    print(\"face card of computer : \")\n",
    "    face_card = computer.current_list[0]\n",
    "    print(face_card)\n",
    "    print(\"-----------------------\")\n",
    "    \n",
    "    #start the game\n",
    "    game_on = True\n",
    "    round_number = 0\n",
    "    while game_on:\n",
    "        round_number += 1\n",
    "        print(\"round is {}\".format(round_number))\n",
    "        #check if player has won\n",
    "        if  player_win_21:\n",
    "            print(\"human player has won\")\n",
    "            game_on = False\n",
    "            \n",
    "        elif player_bust:\n",
    "            print(\"player has gone bust\")\n",
    "            game_on = False\n",
    "            \n",
    "        else:\n",
    "            turn = \"hu\"\n",
    "            \n",
    "            if turn == \"hu\":\n",
    "                \n",
    "                #take input from the human for action\n",
    "\n",
    "                action = 'none'\n",
    "                while action not in ['H','S']:\n",
    "                    \n",
    "    \n",
    "                    action = input(\"type H for hit or S for stay : \")\n",
    "                if action == 'H':\n",
    "                    new_card = new_deck.deal_one_card()\n",
    "                    human.hit(new_card)\n",
    "                    print(\"hit gives the card : {}\".format(new_card))\n",
    "                    print(\"---------------------------------\")\n",
    "                    print(\"cards with you are : \")\n",
    "                    for card_object in human.current_list:\n",
    "                        print(card_object)\n",
    "                    #check for win/bust before giving turn to computer\n",
    "                    if player_win_21:\n",
    "                        print(\"human player has won\")\n",
    "                        game_on = False\n",
    "            \n",
    "                    elif player_bust:\n",
    "                        print(\"player has gone bust\")\n",
    "                        game_on = False\n",
    "            \n",
    "                    else:\n",
    "                        turn = \"cu\"\n",
    "                else:\n",
    "                    print(\"you are choosing to not do anything\")\n",
    "                    print(\"cards with you are : \")\n",
    "                    for card_object in human.current_list:\n",
    "                        print(card_object)\n",
    "        \n",
    "                        #turn given to computer\n",
    "                    if player_win_21:\n",
    "                        print(\"human player has won\")\n",
    "                        game_on = False\n",
    "            \n",
    "                    elif player_bust:\n",
    "                        print(\"player has gone bust\")\n",
    "                        game_on = False\n",
    "            \n",
    "                    else:\n",
    "                        turn = \"cu\"\n",
    "        \n",
    "                        \n",
    "            else:\n",
    "                cu_on = True\n",
    "                while cu_on:\n",
    "                    new_card = new_deck.deal_one_card()\n",
    "                    computer.hit(new_card)\n",
    "                    \n",
    "                    if computer_win_21:\n",
    "                        print(\"computer has won\")\n",
    "                        cu_on = False\n",
    "                        game_on = False\n",
    "                    elif computer_bust:\n",
    "                        \n",
    "                        print(\"computer has lost, human has won\")\n",
    "                        cu_on = False\n",
    "                        game_on = False\n",
    "                        \n",
    "                    else:\n",
    "                        print(\"computer dealer hit again\")\n",
    "                        cu_on = True\n",
    "    \n",
    "    \n",
    "               \n",
    "        \n",
    "    \n",
    "        \n",
    "else:\n",
    "    print(\"Please place sufficient bets\")\n",
    "    \n",
    "    \n",
    "    "
   ]
  },
  {
   "cell_type": "markdown",
   "id": "f10bc94c",
   "metadata": {},
   "source": [
    "## Code along"
   ]
  },
  {
   "cell_type": "markdown",
   "id": "723c6ee2",
   "metadata": {},
   "source": [
    "#### The Game\n",
    "Imports and Global Variables\n",
    "\n",
    "Step 1: Import the random module. This will be used to shuffle the deck prior to dealing. Then, declare variables to store suits, ranks and values. You can develop your own system, or copy ours below. Finally, declare a Boolean value to be used to control while loops. This is a common practice used to control the flow of the game.\n",
    "\n",
    "\n",
    "suits = ('Hearts', 'Diamonds', 'Spades', 'Clubs')\n",
    "\n",
    "ranks = ('Two', 'Three', 'Four', 'Five', 'Six', 'Seven', 'Eight', 'Nine', 'Ten', 'Jack', 'Queen', 'King', 'Ace')\n",
    "\n",
    "values = {'Two':2, 'Three':3, 'Four':4, 'Five':5, 'Six':6, 'Seven':7, 'Eight':8, 'Nine':9, 'Ten':10, 'Jack':10,\n",
    "         'Queen':10, 'King':10, 'Ace':11}"
   ]
  },
  {
   "cell_type": "code",
   "execution_count": 1,
   "id": "f3efadc0",
   "metadata": {},
   "outputs": [],
   "source": [
    "import random\n",
    "\n",
    "suits = ('Hearts', 'Diamonds', 'Spades', 'Clubs')\n",
    "ranks = ('Two', 'Three', 'Four', 'Five', 'Six', 'Seven', 'Eight', 'Nine', 'Ten', 'Jack', 'Queen', 'King', 'Ace')\n",
    "values = {'Two':2, 'Three':3, 'Four':4, 'Five':5, 'Six':6, 'Seven':7, 'Eight':8, 'Nine':9, 'Ten':10, 'Jack':10, 'Queen':10, 'King':10, 'Ace':11}\n",
    "\n",
    "playing = True"
   ]
  },
  {
   "cell_type": "markdown",
   "id": "f3c7c555",
   "metadata": {},
   "source": [
    "##### Step 2: Create a Card Class\n",
    "A Card object really only needs two attributes: suit and rank. You might add an attribute for \"value\" - we chose to handle value later when developing our Hand class.\n",
    "\n",
    "In addition to the Card's __init__ method, consider adding a __str__ method that, when asked to print a Card, returns a string in the form \"Two of Hearts\""
   ]
  },
  {
   "cell_type": "code",
   "execution_count": 2,
   "id": "3b739a53",
   "metadata": {},
   "outputs": [],
   "source": [
    "class Card:\n",
    "    \n",
    "    def __init__(self,suit,rank):\n",
    "        self.suit = suit\n",
    "        self.rank = rank\n",
    "        \n",
    "    \n",
    "    def __str__(self):\n",
    "        return self.rank + \" of \" + self.suit"
   ]
  },
  {
   "cell_type": "markdown",
   "id": "0fe3bebb",
   "metadata": {},
   "source": [
    "##### Step 3: Create a Deck Class\n",
    "Here we might store 52 card objects in a list that can later be shuffled. First, though, we need to instantiate all 52 unique card objects and add them to our list. So long as the Card class definition appears in our code, we can build Card objects inside our Deck __init__ method. Consider iterating over sequences of suits and ranks to build out each card. This might appear inside a Deck class __init__ method:\n",
    "\n",
    "\n",
    "for suit in suits:\n",
    "\n",
    "    for rank in ranks:\n",
    "    \n",
    "\n",
    "In addition to an __init__ method we'll want to add methods to shuffle our deck, and to deal out cards during gameplay.\n",
    "\n",
    "\n",
    "OPTIONAL: We may never need to print the contents of the deck during gameplay, but having the ability to see the cards inside it may help troubleshoot any problems that occur during development. With this in mind, consider adding a __str__ method to the class definition.\n"
   ]
  },
  {
   "cell_type": "code",
   "execution_count": 3,
   "id": "58db680d",
   "metadata": {},
   "outputs": [],
   "source": [
    "class Deck:\n",
    "    \n",
    "    def __init__(self):\n",
    "        self.deck = []  # start with an empty list\n",
    "        for suit in suits:\n",
    "            for rank in ranks:\n",
    "                self.deck.append(Card(suit,rank))\n",
    "    \n",
    "    def __str__(self):\n",
    "        deck_comp = ''\n",
    "        for card in self.deck:\n",
    "            deck_comp += \"\\n\" + card.__str__()\n",
    "        return \"the deck has : \"+ deck_comp\n",
    "\n",
    "    def shuffle(self):\n",
    "        random.shuffle(self.deck)\n",
    "        \n",
    "    def deal(self):\n",
    "        return self.deck.pop()"
   ]
  },
  {
   "cell_type": "code",
   "execution_count": 17,
   "id": "32c691ff",
   "metadata": {},
   "outputs": [
    {
     "name": "stdout",
     "output_type": "stream",
     "text": [
      "the deck has : \n",
      "Six of Diamonds\n",
      "Five of Hearts\n",
      "Nine of Diamonds\n",
      "Nine of Hearts\n",
      "Ten of Diamonds\n",
      "Ten of Spades\n",
      "Ten of Hearts\n",
      "Ace of Diamonds\n",
      "Seven of Clubs\n",
      "Four of Hearts\n",
      "King of Clubs\n",
      "Jack of Spades\n",
      "Five of Spades\n",
      "King of Hearts\n",
      "Five of Clubs\n",
      "King of Spades\n",
      "Three of Clubs\n",
      "Three of Spades\n",
      "Four of Spades\n",
      "Five of Diamonds\n",
      "Queen of Hearts\n",
      "Two of Diamonds\n",
      "Jack of Hearts\n",
      "Ace of Clubs\n",
      "Six of Hearts\n",
      "Jack of Diamonds\n",
      "Nine of Spades\n",
      "Queen of Diamonds\n",
      "Eight of Hearts\n",
      "Eight of Clubs\n",
      "Nine of Clubs\n",
      "Three of Hearts\n",
      "Seven of Diamonds\n",
      "Jack of Clubs\n",
      "Queen of Spades\n",
      "Seven of Hearts\n",
      "Queen of Clubs\n",
      "Eight of Diamonds\n",
      "Six of Spades\n",
      "Three of Diamonds\n",
      "Two of Spades\n",
      "Eight of Spades\n",
      "Ace of Hearts\n",
      "King of Diamonds\n",
      "Ten of Clubs\n",
      "Four of Clubs\n",
      "Four of Diamonds\n",
      "Two of Clubs\n",
      "Six of Clubs\n",
      "Ace of Spades\n",
      "Seven of Spades\n",
      "Two of Hearts\n"
     ]
    }
   ],
   "source": [
    "test_deck = Deck()\n",
    "test_deck.shuffle()\n",
    "print(test_deck)"
   ]
  },
  {
   "cell_type": "markdown",
   "id": "ed495c17",
   "metadata": {},
   "source": [
    "#### Step 4: Create a Hand Class\n",
    "In addition to holding Card objects dealt from the Deck, the Hand class may be used to calculate the value of those cards using the values dictionary defined above. It may also need to adjust for the value of Aces when appropriate"
   ]
  },
  {
   "cell_type": "code",
   "execution_count": 4,
   "id": "cc996210",
   "metadata": {},
   "outputs": [],
   "source": [
    "class Hand:\n",
    "    def __init__(self):\n",
    "        self.cards = []  # start with an empty list as we did in the Deck class\n",
    "        self.value = 0   # start with zero value\n",
    "        self.aces = 0    # add an attribute to keep track of aces\n",
    "    \n",
    "    def add_card(self,card):\n",
    "        self.cards.append(card)\n",
    "        self.value = self.value + values[card.rank]\n",
    "        \n",
    "        #track aces\n",
    "        if card.rank == \"Ace\":\n",
    "            self.aces += 1\n",
    "    \n",
    "    def adjust_for_ace(self):\n",
    "        \n",
    "        while self.value > 21 and self.aces:\n",
    "            self.value -= 10\n",
    "            self.aces -= 1\n",
    "        "
   ]
  },
  {
   "cell_type": "code",
   "execution_count": 31,
   "id": "03f7f147",
   "metadata": {},
   "outputs": [
    {
     "name": "stdout",
     "output_type": "stream",
     "text": [
      "Seven of Clubs\n",
      "7\n"
     ]
    }
   ],
   "source": [
    "test_deck = Deck()\n",
    "test_deck.shuffle()\n",
    "test_player = Hand()\n",
    "pulled_card = test_deck.deal()\n",
    "print(pulled_card)\n",
    "test_player.add_card(pulled_card)\n",
    "print(test_player.value)"
   ]
  },
  {
   "cell_type": "code",
   "execution_count": 32,
   "id": "b727914f",
   "metadata": {},
   "outputs": [
    {
     "data": {
      "text/plain": [
       "7"
      ]
     },
     "execution_count": 32,
     "metadata": {},
     "output_type": "execute_result"
    }
   ],
   "source": [
    "test_player.value"
   ]
  },
  {
   "cell_type": "markdown",
   "id": "83877e8b",
   "metadata": {},
   "source": [
    "##### Step 5: Create a Chips Class\n",
    "In addition to decks of cards and hands, we need to keep track of a Player's starting chips, bets, and ongoing winnings. This could be done using global variables, but in the spirit of object oriented programming, let's make a Chips class instead!"
   ]
  },
  {
   "cell_type": "code",
   "execution_count": 5,
   "id": "7454d0a2",
   "metadata": {},
   "outputs": [],
   "source": [
    "class Chips:\n",
    "    \n",
    "    def __init__(self):\n",
    "        self.total = 100  # This can be set to a default value or supplied by a user input\n",
    "        self.bet = 0\n",
    "        \n",
    "    def win_bet(self):\n",
    "        self.total += self.bet\n",
    "    \n",
    "    def lose_bet(self):\n",
    "        self.total -= self.bet"
   ]
  },
  {
   "cell_type": "markdown",
   "id": "2f38b5eb",
   "metadata": {},
   "source": [
    "#### Function Defintions\n",
    "\n",
    "A lot of steps are going to be repetitive. That's where functions come in! The following steps are guidelines - add or remove functions as needed in your own program.\n",
    "\n",
    "\n",
    "##### Step 6: Write a function for taking bets\n",
    "Since we're asking the user for an integer value, this would be a good place to use try/except. Remember to check that a Player's bet can be covered by their available chips."
   ]
  },
  {
   "cell_type": "code",
   "execution_count": 6,
   "id": "d562d2de",
   "metadata": {},
   "outputs": [],
   "source": [
    "def take_bet(chips):\n",
    "    while True:\n",
    "        try:\n",
    "            chips.bet = int(input('How many chips would you like to bet? '))\n",
    "        except ValueError:\n",
    "            print('Sorry, a bet must be an integer!')\n",
    "        else:\n",
    "            if chips.bet > chips.total:\n",
    "                print(\"Sorry, your bet can't exceed\",chips.total)\n",
    "            else:\n",
    "                break\n",
    "        \n",
    "    \n",
    "    "
   ]
  },
  {
   "cell_type": "markdown",
   "id": "ae0a34cb",
   "metadata": {},
   "source": [
    "##### Step 7: Write a function for taking hits\n",
    "Either player can take hits until they bust. This function will be called during gameplay anytime a Player requests a hit, or a Dealer's hand is less than 17. It should take in Deck and Hand objects as arguments, and deal one card off the deck and add it to the Hand. You may want it to check for aces in the event that a player's hand exceeds 21."
   ]
  },
  {
   "cell_type": "code",
   "execution_count": 7,
   "id": "45c099a0",
   "metadata": {},
   "outputs": [],
   "source": [
    "def hit(deck,hand):\n",
    "    \n",
    "    single_card = deck.deal()\n",
    "    hand.add_card(single_card)\n",
    "    hand.adjust_for_ace()"
   ]
  },
  {
   "cell_type": "markdown",
   "id": "2f54d2f6",
   "metadata": {},
   "source": [
    "##### Step 8: Write a function prompting the Player to Hit or Stand\n",
    "\n",
    "This function should accept the deck and the player's hand as arguments, and assign playing as a global variable.\n",
    "\n",
    "If the Player Hits, employ the hit() function above. If the Player Stands, set the playing variable to False - this will control the behavior of a while loop later on in our code."
   ]
  },
  {
   "cell_type": "code",
   "execution_count": 8,
   "id": "7de73b62",
   "metadata": {},
   "outputs": [],
   "source": [
    "def hit_or_stand(deck,hand):\n",
    "    global playing  # to control an upcoming while loop\n",
    "    \n",
    "    while True:\n",
    "        \n",
    "        x = input(\"Enter H for hit or S for stay\")\n",
    "        \n",
    "        if x == 'H':\n",
    "            hit(deck,hand)\n",
    "            \n",
    "        elif x == 'S':\n",
    "            print(\"Player stand, dealer's turn\")\n",
    "            playing = False\n",
    "            \n",
    "        else:\n",
    "            print(\"Please enter H or S only\")\n",
    "            continue\n",
    "        break"
   ]
  },
  {
   "cell_type": "markdown",
   "id": "3dd7e65d",
   "metadata": {},
   "source": [
    "##### Step 9: Write functions to display cards\n",
    "\n",
    "When the game starts, and after each time Player takes a card, the dealer's first card is hidden and all of Player's cards are visible. At the end of the hand all cards are shown, and you may want to show each hand's total value. Write a function for each of these scenarios."
   ]
  },
  {
   "cell_type": "code",
   "execution_count": 22,
   "id": "7fa0754b",
   "metadata": {},
   "outputs": [],
   "source": [
    "def show_some(player,dealer):\n",
    "    \n",
    "    print(\"\\n Dealer's hand \")\n",
    "    print(\"First card hidden\")\n",
    "    \n",
    "    print(dealer.cards[1])\n",
    "    print(\"\\n Player's hand\")\n",
    "    for card in player.cards:\n",
    "        print(card)\n",
    "        \n",
    "    \n",
    "    \n",
    "    \n",
    "def show_all(player,dealer):\n",
    "    \n",
    "    print(\"\\n Dealer's hand \")\n",
    "    for card in dealer.cards:\n",
    "        print(card)\n",
    "        \n",
    "    print(\"Value of dealers hand is : {}\".format(dealer.value))\n",
    "    print(\"\\n Player's hand\")\n",
    "    for card in player.cards:\n",
    "        print(card)\n",
    "    print(\"Value of players hand is : {}\".format(player.value))\n",
    "        \n",
    "    "
   ]
  },
  {
   "cell_type": "markdown",
   "id": "9bada2aa",
   "metadata": {},
   "source": [
    "##### Step 10: Write functions to handle end of game scenarios\n",
    "Remember to pass player's hand, dealer's hand and chips as needed."
   ]
  },
  {
   "cell_type": "code",
   "execution_count": 23,
   "id": "412b23cf",
   "metadata": {},
   "outputs": [],
   "source": [
    "def player_busts(player,dealer,chips):\n",
    "    print(\"BUST PLAYER\")\n",
    "    chips.lose_bet()\n",
    "\n",
    "def player_wins(player,dealer,chips):\n",
    "    print(\"PLAYER WIN\")\n",
    "    chips.win_bet()\n",
    "\n",
    "def dealer_busts(player,dealer,chips):\n",
    "    print(\"PLAYER WIN, Dealer bust\")\n",
    "    chips.win_bet()\n",
    "    \n",
    "def dealer_wins(player,dealer,chips):\n",
    "    print(\"BUST PLAYER\")\n",
    "    chips.lose_bet()\n",
    "    \n",
    "def push(player,dealer):\n",
    "    print(\"dealer and player tie!, PUSH\")"
   ]
  },
  {
   "cell_type": "markdown",
   "id": "da8dee11",
   "metadata": {},
   "source": [
    "### And now on to the game!!"
   ]
  },
  {
   "cell_type": "code",
   "execution_count": 25,
   "id": "9b91ba96",
   "metadata": {},
   "outputs": [
    {
     "name": "stdout",
     "output_type": "stream",
     "text": [
      "welcome to Black Jack\n",
      "How many chips would you like to bet? 10\n",
      "\n",
      " Dealer's hand \n",
      "First card hidden\n",
      "Ten of Hearts\n",
      "\n",
      " Player's hand\n",
      "Two of Clubs\n",
      "Four of Clubs\n",
      "Enter H for hit or S for stayH\n",
      "\n",
      " Dealer's hand \n",
      "First card hidden\n",
      "Ten of Hearts\n",
      "\n",
      " Player's hand\n",
      "Two of Clubs\n",
      "Four of Clubs\n",
      "King of Spades\n",
      "Enter H for hit or S for stayS\n",
      "Player stand, dealer's turn\n",
      "\n",
      " Dealer's hand \n",
      "First card hidden\n",
      "Ten of Hearts\n",
      "\n",
      " Player's hand\n",
      "Two of Clubs\n",
      "Four of Clubs\n",
      "King of Spades\n",
      "\n",
      " Dealer's hand \n",
      "King of Hearts\n",
      "Ten of Hearts\n",
      "Value of dealers hand is : 20\n",
      "\n",
      " Player's hand\n",
      "Two of Clubs\n",
      "Four of Clubs\n",
      "King of Spades\n",
      "Value of players hand is : 16\n",
      "BUST PLAYER\n",
      "\n",
      " \n",
      "Players total chips are at : 90\n",
      "Play again: Y for yes, N for no : N\n",
      "Thanks for playing\n"
     ]
    }
   ],
   "source": [
    "while True:\n",
    "    # Print an opening statement\n",
    "    print(\"welcome to Black Jack\")\n",
    "\n",
    "    \n",
    "    # Create & shuffle the deck, deal two cards to each player\n",
    "    deck = Deck()\n",
    "    deck.shuffle()\n",
    "    \n",
    "        \n",
    "    player_hand = Hand()\n",
    "    player_hand.add_card(deck.deal())\n",
    "    player_hand.add_card(deck.deal())\n",
    "    \n",
    "    dealer_hand = Hand()\n",
    "    dealer_hand.add_card(deck.deal())\n",
    "    dealer_hand.add_card(deck.deal())\n",
    "    \n",
    "    # Set up the Player's chips\n",
    "    \n",
    "    player_chips = Chips()\n",
    "    # Prompt the Player for their bet\n",
    "    take_bet(player_chips)\n",
    "\n",
    "    \n",
    "    # Show cards (but keep one dealer card hidden)\n",
    "    show_some(player_hand,dealer_hand)\n",
    "    \n",
    "    while playing:  # recall this variable from our hit_or_stand function\n",
    "        \n",
    "        # Prompt for Player to Hit or Stand\n",
    "        hit_or_stand(deck,player_hand)\n",
    "        \n",
    "        # Show cards (but keep one dealer card hidden)\n",
    "        \n",
    "        show_some(player_hand,dealer_hand)\n",
    "        \n",
    "        # If player's hand exceeds 21, run player_busts() and break out of loop\n",
    "        if player_hand.value > 21:\n",
    "            player_busts(player_hand,dealer_hand,player_chips)\n",
    "\n",
    "            break\n",
    "\n",
    "    # If Player hasn't busted, play Dealer's hand until Dealer reaches 17\n",
    "    if player_hand.value <= 21:\n",
    "        while dealer_hand.value < 17:\n",
    "            hit(deck,dealer)\n",
    "    \n",
    "        # Show all cards\n",
    "        show_all(player_hand,dealer_hand)\n",
    "    \n",
    "        # Run different winning scenarios\n",
    "        if dealer_hand.value >= 21:\n",
    "            dealer_busts(player_hand,dealer_hand,player_chips)\n",
    "            \n",
    "        elif dealer_hand.value > player_hand.value:\n",
    "            dealer_wins(player_hand,dealer_hand,player_chips)\n",
    "        elif dealer_hand.value < player_hand.value:\n",
    "            player_wins(player_hand,dealer_hand,player_chips)\n",
    "        else:\n",
    "            push(player_hand,dealer_hand)\n",
    "    \n",
    "    # Inform Player of their chips total \n",
    "    print(\"\\n \\nPlayers total chips are at : {}\".format(player_chips.total))\n",
    "    # Ask to play again\n",
    "    new_game = input(\"Play again: Y for yes, N for no : \")\n",
    "    if new_game == 'Y':\n",
    "        playing = True\n",
    "    else:\n",
    "        print(\"Thanks for playing\")\n",
    "        break"
   ]
  },
  {
   "cell_type": "code",
   "execution_count": null,
   "id": "a1f0a320",
   "metadata": {},
   "outputs": [],
   "source": []
  }
 ],
 "metadata": {
  "kernelspec": {
   "display_name": "Python 3",
   "language": "python",
   "name": "python3"
  },
  "language_info": {
   "codemirror_mode": {
    "name": "ipython",
    "version": 3
   },
   "file_extension": ".py",
   "mimetype": "text/x-python",
   "name": "python",
   "nbconvert_exporter": "python",
   "pygments_lexer": "ipython3",
   "version": "3.8.8"
  }
 },
 "nbformat": 4,
 "nbformat_minor": 5
}
