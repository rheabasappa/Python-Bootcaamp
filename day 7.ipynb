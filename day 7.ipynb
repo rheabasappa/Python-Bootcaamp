{
 "cells": [
  {
   "cell_type": "markdown",
   "id": "866058e2",
   "metadata": {},
   "source": [
    "## Object Oriented Programming"
   ]
  },
  {
   "cell_type": "markdown",
   "id": "aaa38b54",
   "metadata": {},
   "source": [
    "### Introduction"
   ]
  },
  {
   "cell_type": "markdown",
   "id": "995e94e6",
   "metadata": {},
   "source": [
    "#### Syntax\n"
   ]
  },
  {
   "cell_type": "markdown",
   "id": "6ffd0f05",
   "metadata": {},
   "source": [
    "class <Name of Clsss>():\n",
    "    \n",
    "    def __init__(self,param1,param2):\n",
    "          self.param1 = param1\n",
    "          self.param2 = param2\n",
    "    \n",
    "    def <some more methods>(self):\n",
    "          print(self.param1)"
   ]
  },
  {
   "cell_type": "markdown",
   "id": "ab2d8d15",
   "metadata": {},
   "source": [
    "### Attributes and Class Keywords"
   ]
  },
  {
   "cell_type": "code",
   "execution_count": 1,
   "id": "2de03988",
   "metadata": {},
   "outputs": [],
   "source": [
    "class Sample():\n",
    "    pass"
   ]
  },
  {
   "cell_type": "code",
   "execution_count": 2,
   "id": "235c76aa",
   "metadata": {},
   "outputs": [],
   "source": [
    "mysample = Sample() "
   ]
  },
  {
   "cell_type": "code",
   "execution_count": 3,
   "id": "f1b05c92",
   "metadata": {},
   "outputs": [
    {
     "data": {
      "text/plain": [
       "__main__.Sample"
      ]
     },
     "execution_count": 3,
     "metadata": {},
     "output_type": "execute_result"
    }
   ],
   "source": [
    "type(mysample)"
   ]
  },
  {
   "cell_type": "markdown",
   "id": "6fefbb71",
   "metadata": {},
   "source": [
    "one attribute"
   ]
  },
  {
   "cell_type": "code",
   "execution_count": 4,
   "id": "0cd2c9de",
   "metadata": {},
   "outputs": [],
   "source": [
    "class Dog():\n",
    "    def __init__(self,breed):\n",
    "        self.breed = breed"
   ]
  },
  {
   "cell_type": "code",
   "execution_count": 5,
   "id": "4807c14c",
   "metadata": {},
   "outputs": [
    {
     "ename": "TypeError",
     "evalue": "__init__() missing 1 required positional argument: 'breed'",
     "output_type": "error",
     "traceback": [
      "\u001b[1;31m---------------------------------------------------------------------------\u001b[0m",
      "\u001b[1;31mTypeError\u001b[0m                                 Traceback (most recent call last)",
      "\u001b[1;32m<ipython-input-5-e65b7830537d>\u001b[0m in \u001b[0;36m<module>\u001b[1;34m\u001b[0m\n\u001b[1;32m----> 1\u001b[1;33m \u001b[0mmydog\u001b[0m \u001b[1;33m=\u001b[0m \u001b[0mDog\u001b[0m\u001b[1;33m(\u001b[0m\u001b[1;33m)\u001b[0m\u001b[1;33m\u001b[0m\u001b[1;33m\u001b[0m\u001b[0m\n\u001b[0m",
      "\u001b[1;31mTypeError\u001b[0m: __init__() missing 1 required positional argument: 'breed'"
     ]
    }
   ],
   "source": [
    "mydog = Dog()"
   ]
  },
  {
   "cell_type": "code",
   "execution_count": 6,
   "id": "34f0dcf0",
   "metadata": {},
   "outputs": [],
   "source": [
    "mydog = Dog(breed = 'Lab')"
   ]
  },
  {
   "cell_type": "code",
   "execution_count": 7,
   "id": "71db1b02",
   "metadata": {},
   "outputs": [
    {
     "data": {
      "text/plain": [
       "__main__.Dog"
      ]
     },
     "execution_count": 7,
     "metadata": {},
     "output_type": "execute_result"
    }
   ],
   "source": [
    "type(mydog)"
   ]
  },
  {
   "cell_type": "code",
   "execution_count": 8,
   "id": "f720a6c9",
   "metadata": {},
   "outputs": [
    {
     "data": {
      "text/plain": [
       "'Lab'"
      ]
     },
     "execution_count": 8,
     "metadata": {},
     "output_type": "execute_result"
    }
   ],
   "source": [
    "mydog.breed"
   ]
  },
  {
   "cell_type": "markdown",
   "id": "3bf32232",
   "metadata": {},
   "source": [
    "Multiple attributes"
   ]
  },
  {
   "cell_type": "code",
   "execution_count": 9,
   "id": "b0711c7e",
   "metadata": {},
   "outputs": [],
   "source": [
    "class Dog():\n",
    "    def __init__(self,breed,name,spots):\n",
    "        #expects string\n",
    "        self.breed = breed\n",
    "        self.name = name\n",
    "        \n",
    "        #expects Boolean\n",
    "        self.spots = spots"
   ]
  },
  {
   "cell_type": "code",
   "execution_count": 10,
   "id": "f1c04a3c",
   "metadata": {},
   "outputs": [],
   "source": [
    "mydog = Dog('lab','sammy',False)"
   ]
  },
  {
   "cell_type": "code",
   "execution_count": 11,
   "id": "75cfc388",
   "metadata": {},
   "outputs": [
    {
     "data": {
      "text/plain": [
       "'sammy'"
      ]
     },
     "execution_count": 11,
     "metadata": {},
     "output_type": "execute_result"
    }
   ],
   "source": [
    "mydog.name"
   ]
  },
  {
   "cell_type": "code",
   "execution_count": 12,
   "id": "c4bf40ac",
   "metadata": {},
   "outputs": [
    {
     "data": {
      "text/plain": [
       "False"
      ]
     },
     "execution_count": 12,
     "metadata": {},
     "output_type": "execute_result"
    }
   ],
   "source": [
    "mydog.spots"
   ]
  },
  {
   "cell_type": "code",
   "execution_count": 13,
   "id": "3603e5f2",
   "metadata": {},
   "outputs": [
    {
     "data": {
      "text/plain": [
       "'lab'"
      ]
     },
     "execution_count": 13,
     "metadata": {},
     "output_type": "execute_result"
    }
   ],
   "source": [
    "mydog.breed"
   ]
  },
  {
   "cell_type": "markdown",
   "id": "bb0c051a",
   "metadata": {},
   "source": [
    "### Class object attributes and methods"
   ]
  },
  {
   "cell_type": "code",
   "execution_count": 14,
   "id": "d898dd11",
   "metadata": {},
   "outputs": [],
   "source": [
    "class Dog():\n",
    "    \n",
    "    #class object attriibute\n",
    "    #same for any instance of class\n",
    "    species = 'mammal'\n",
    "    \n",
    "    \n",
    "    #User defined attributes\n",
    "    def __init__(self,breed,name,spots):\n",
    "        #expects string\n",
    "        self.breed = breed\n",
    "        self.name = name\n",
    "        \n",
    "        #expects Boolean\n",
    "        self.spots = spots"
   ]
  },
  {
   "cell_type": "code",
   "execution_count": 15,
   "id": "8490ac82",
   "metadata": {},
   "outputs": [],
   "source": [
    "mydog = Dog('lab','sammy',False)"
   ]
  },
  {
   "cell_type": "code",
   "execution_count": 16,
   "id": "836db43e",
   "metadata": {},
   "outputs": [
    {
     "data": {
      "text/plain": [
       "__main__.Dog"
      ]
     },
     "execution_count": 16,
     "metadata": {},
     "output_type": "execute_result"
    }
   ],
   "source": [
    "type(mydog)"
   ]
  },
  {
   "cell_type": "code",
   "execution_count": 17,
   "id": "4aa44b44",
   "metadata": {},
   "outputs": [
    {
     "data": {
      "text/plain": [
       "'mammal'"
      ]
     },
     "execution_count": 17,
     "metadata": {},
     "output_type": "execute_result"
    }
   ],
   "source": [
    "mydog.species"
   ]
  },
  {
   "cell_type": "markdown",
   "id": "175e226f",
   "metadata": {},
   "source": [
    "#### Methods"
   ]
  },
  {
   "cell_type": "code",
   "execution_count": 34,
   "id": "7b422559",
   "metadata": {},
   "outputs": [],
   "source": [
    "class Dog():\n",
    "    \n",
    "    #class object attriibute\n",
    "    #same for any instance of class\n",
    "    species = 'mammal'\n",
    "    \n",
    "    \n",
    "    #User defined attributes\n",
    "    def __init__(self,breed,name):\n",
    "        #expects string\n",
    "        self.breed = breed\n",
    "        self.name = name\n",
    "        \n",
    "        #expects Boolean\n",
    "        \n",
    "        \n",
    "    #Operations/Actions ------> Method\n",
    "    def bark(self,age):\n",
    "        print(\"Woof my name is {} and my age is {}\".format(self.name,age))"
   ]
  },
  {
   "cell_type": "code",
   "execution_count": 35,
   "id": "64b52331",
   "metadata": {},
   "outputs": [],
   "source": [
    "mydog = Dog('lab','Frankie')"
   ]
  },
  {
   "cell_type": "code",
   "execution_count": 36,
   "id": "0574d902",
   "metadata": {},
   "outputs": [
    {
     "data": {
      "text/plain": [
       "'lab'"
      ]
     },
     "execution_count": 36,
     "metadata": {},
     "output_type": "execute_result"
    }
   ],
   "source": [
    "mydog.breed"
   ]
  },
  {
   "cell_type": "code",
   "execution_count": 37,
   "id": "f4e0c028",
   "metadata": {},
   "outputs": [
    {
     "data": {
      "text/plain": [
       "'Frankie'"
      ]
     },
     "execution_count": 37,
     "metadata": {},
     "output_type": "execute_result"
    }
   ],
   "source": [
    "mydog.name"
   ]
  },
  {
   "cell_type": "markdown",
   "id": "ad9d9844",
   "metadata": {},
   "source": [
    "method call must have attribute and open and close parthesis"
   ]
  },
  {
   "cell_type": "code",
   "execution_count": 38,
   "id": "300d36af",
   "metadata": {},
   "outputs": [
    {
     "data": {
      "text/plain": [
       "<bound method Dog.bark of <__main__.Dog object at 0x00000278C7640DC0>>"
      ]
     },
     "execution_count": 38,
     "metadata": {},
     "output_type": "execute_result"
    }
   ],
   "source": [
    "mydog.bark"
   ]
  },
  {
   "cell_type": "code",
   "execution_count": 40,
   "id": "60003cc2",
   "metadata": {},
   "outputs": [
    {
     "name": "stdout",
     "output_type": "stream",
     "text": [
      "Woof my name is Frankie and my age is 10\n"
     ]
    }
   ],
   "source": [
    "mydog.bark(10)"
   ]
  },
  {
   "cell_type": "markdown",
   "id": "05a31a7c",
   "metadata": {},
   "source": [
    "#### Circle class"
   ]
  },
  {
   "cell_type": "code",
   "execution_count": 64,
   "id": "3701870d",
   "metadata": {},
   "outputs": [],
   "source": [
    "class Circle():\n",
    "    \n",
    "    #class object attribute\n",
    "    pie = 3.14\n",
    "    \n",
    "    def __init__(self,radius = 1):\n",
    "        self.radius = radius\n",
    "        self.area = radius*radius*self.pie #since pie is a class object attribute it can also be called using Circle.pie \n",
    "        \n",
    "    #method\n",
    "    def GetCircumeference(self):\n",
    "        return 2*self.pie*self.radius\n",
    "    \n",
    "    \n",
    "    "
   ]
  },
  {
   "cell_type": "code",
   "execution_count": 65,
   "id": "57898143",
   "metadata": {},
   "outputs": [],
   "source": [
    "circle = Circle(30)"
   ]
  },
  {
   "cell_type": "code",
   "execution_count": 66,
   "id": "ff471db0",
   "metadata": {},
   "outputs": [
    {
     "data": {
      "text/plain": [
       "3.14"
      ]
     },
     "execution_count": 66,
     "metadata": {},
     "output_type": "execute_result"
    }
   ],
   "source": [
    "circle.pie"
   ]
  },
  {
   "cell_type": "code",
   "execution_count": 67,
   "id": "00dd0779",
   "metadata": {},
   "outputs": [
    {
     "data": {
      "text/plain": [
       "30"
      ]
     },
     "execution_count": 67,
     "metadata": {},
     "output_type": "execute_result"
    }
   ],
   "source": [
    "circle.radius"
   ]
  },
  {
   "cell_type": "code",
   "execution_count": 68,
   "id": "6aea8749",
   "metadata": {},
   "outputs": [
    {
     "data": {
      "text/plain": [
       "2826.0"
      ]
     },
     "execution_count": 68,
     "metadata": {},
     "output_type": "execute_result"
    }
   ],
   "source": [
    "circle.area"
   ]
  },
  {
   "cell_type": "code",
   "execution_count": 69,
   "id": "20adeb32",
   "metadata": {},
   "outputs": [
    {
     "data": {
      "text/plain": [
       "188.4"
      ]
     },
     "execution_count": 69,
     "metadata": {},
     "output_type": "execute_result"
    }
   ],
   "source": [
    "circle.GetCircumeference()"
   ]
  },
  {
   "cell_type": "markdown",
   "id": "8ff592af",
   "metadata": {},
   "source": [
    "### Inheritance and Polymorphism"
   ]
  },
  {
   "cell_type": "code",
   "execution_count": 85,
   "id": "7464aba8",
   "metadata": {},
   "outputs": [],
   "source": [
    "#base Class\n",
    "\n",
    "class Animal():\n",
    "    \n",
    "    def __init__(self):\n",
    "        print(\"animal Created\")\n",
    "        \n",
    "    def whoami(self):\n",
    "        print(\"i am an animal\")\n",
    "        \n",
    "    def eat(self):\n",
    "        print(\"I am eating\")"
   ]
  },
  {
   "cell_type": "code",
   "execution_count": 86,
   "id": "bda1fac4",
   "metadata": {},
   "outputs": [
    {
     "name": "stdout",
     "output_type": "stream",
     "text": [
      "animal Created\n"
     ]
    }
   ],
   "source": [
    "myanimal = Animal()"
   ]
  },
  {
   "cell_type": "code",
   "execution_count": 87,
   "id": "eef373dd",
   "metadata": {},
   "outputs": [
    {
     "name": "stdout",
     "output_type": "stream",
     "text": [
      "I am eating\n"
     ]
    }
   ],
   "source": [
    "myanimal.eat()"
   ]
  },
  {
   "cell_type": "code",
   "execution_count": 88,
   "id": "ff9fc473",
   "metadata": {},
   "outputs": [
    {
     "name": "stdout",
     "output_type": "stream",
     "text": [
      "i am an animal\n"
     ]
    }
   ],
   "source": [
    "myanimal.whoami()"
   ]
  },
  {
   "cell_type": "markdown",
   "id": "627607a4",
   "metadata": {},
   "source": [
    "#### Inheritance"
   ]
  },
  {
   "cell_type": "code",
   "execution_count": 105,
   "id": "f95e98e7",
   "metadata": {},
   "outputs": [],
   "source": [
    "#Derieved class\n",
    "\n",
    "class Dog(Animal):\n",
    "    \n",
    "    def __init__(self,name):\n",
    "        print(\"dog created\")\n",
    "        Animal.__init__(self)\n",
    "        self.name = name\n",
    "        \n",
    "        \n",
    "    #Rewriting 'whoami' method in the base class     \n",
    "    def whoami(self):\n",
    "        print(\"I am a dog\")\n",
    "        \n",
    "    #We can also add methods in the derieved class\n",
    "    \n",
    "    def bark(self):\n",
    "        print(\"Woof, My name is {}\".format(self.name))\n",
    "        \n",
    "        "
   ]
  },
  {
   "cell_type": "code",
   "execution_count": 106,
   "id": "4ab89db9",
   "metadata": {},
   "outputs": [
    {
     "name": "stdout",
     "output_type": "stream",
     "text": [
      "dog created\n",
      "animal Created\n"
     ]
    }
   ],
   "source": [
    "mydog = Dog(\"Sammy\")"
   ]
  },
  {
   "cell_type": "code",
   "execution_count": 107,
   "id": "2aeec6cf",
   "metadata": {},
   "outputs": [
    {
     "name": "stdout",
     "output_type": "stream",
     "text": [
      "I am eating\n"
     ]
    }
   ],
   "source": [
    "mydog.eat()"
   ]
  },
  {
   "cell_type": "code",
   "execution_count": 108,
   "id": "0c0a791e",
   "metadata": {},
   "outputs": [
    {
     "name": "stdout",
     "output_type": "stream",
     "text": [
      "I am a dog\n"
     ]
    }
   ],
   "source": [
    "mydog.whoami()"
   ]
  },
  {
   "cell_type": "code",
   "execution_count": 109,
   "id": "5fe71e54",
   "metadata": {},
   "outputs": [
    {
     "name": "stdout",
     "output_type": "stream",
     "text": [
      "Woof, My name is Sammy\n"
     ]
    }
   ],
   "source": [
    "mydog.bark()"
   ]
  },
  {
   "cell_type": "markdown",
   "id": "3dfd5302",
   "metadata": {},
   "source": [
    "#### Polymorphism"
   ]
  },
  {
   "cell_type": "code",
   "execution_count": 115,
   "id": "fc29ee68",
   "metadata": {},
   "outputs": [],
   "source": [
    "class Dog():\n",
    "    \n",
    "    def __init__(self,name):\n",
    "        self.name = name\n",
    "        \n",
    "    def speak(self):\n",
    "        return self.name + \" Says woof\"\n",
    "    "
   ]
  },
  {
   "cell_type": "code",
   "execution_count": 116,
   "id": "8d642397",
   "metadata": {},
   "outputs": [],
   "source": [
    "class Cat():\n",
    "    \n",
    "    def __init__(self,name):\n",
    "        self.name = name\n",
    "        \n",
    "    def speak(self):\n",
    "        return self.name + \" Says Meow\"\n",
    "    "
   ]
  },
  {
   "cell_type": "code",
   "execution_count": 117,
   "id": "4be09a13",
   "metadata": {},
   "outputs": [],
   "source": [
    "niko = Dog(\"Niko\")\n",
    "felix = Cat(\"Felix\")"
   ]
  },
  {
   "cell_type": "code",
   "execution_count": 118,
   "id": "372997d6",
   "metadata": {},
   "outputs": [
    {
     "name": "stdout",
     "output_type": "stream",
     "text": [
      "Niko Says woof\n"
     ]
    }
   ],
   "source": [
    "print(niko.speak())"
   ]
  },
  {
   "cell_type": "code",
   "execution_count": 119,
   "id": "63f6a315",
   "metadata": {},
   "outputs": [
    {
     "name": "stdout",
     "output_type": "stream",
     "text": [
      "Felix Says Meow\n"
     ]
    }
   ],
   "source": [
    "print(felix.speak())"
   ]
  },
  {
   "cell_type": "code",
   "execution_count": 120,
   "id": "9d4b5a5a",
   "metadata": {},
   "outputs": [
    {
     "name": "stdout",
     "output_type": "stream",
     "text": [
      "<class '__main__.Dog'>\n",
      "Niko Says woof\n",
      "<class '__main__.Cat'>\n",
      "Felix Says Meow\n"
     ]
    }
   ],
   "source": [
    "#For loop\n",
    "\n",
    "for pet in [niko,felix]:\n",
    "    print(type(pet))\n",
    "    print(pet.speak())"
   ]
  },
  {
   "cell_type": "code",
   "execution_count": 121,
   "id": "c4024500",
   "metadata": {},
   "outputs": [],
   "source": [
    "#through function\n",
    "\n",
    "def pet_speak(pet):\n",
    "    print(pet.speak())"
   ]
  },
  {
   "cell_type": "code",
   "execution_count": 122,
   "id": "7659f301",
   "metadata": {},
   "outputs": [
    {
     "name": "stdout",
     "output_type": "stream",
     "text": [
      "Niko Says woof\n"
     ]
    }
   ],
   "source": [
    "pet_speak(niko)"
   ]
  },
  {
   "cell_type": "code",
   "execution_count": 123,
   "id": "e8528c4d",
   "metadata": {},
   "outputs": [
    {
     "name": "stdout",
     "output_type": "stream",
     "text": [
      "Felix Says Meow\n"
     ]
    }
   ],
   "source": [
    "pet_speak(felix)"
   ]
  },
  {
   "cell_type": "code",
   "execution_count": 124,
   "id": "770c72ea",
   "metadata": {},
   "outputs": [],
   "source": [
    "class Animal():\n",
    "    \n",
    "    def __init__(self,name):\n",
    "        self.name = name\n",
    "        \n",
    "    def speak(self):\n",
    "        raise NotImplementedError(\"Sub class must implement this abstract method\")\n",
    "        "
   ]
  },
  {
   "cell_type": "code",
   "execution_count": 125,
   "id": "0551ce8b",
   "metadata": {},
   "outputs": [],
   "source": [
    "animal = Animal('Rhea')"
   ]
  },
  {
   "cell_type": "code",
   "execution_count": 126,
   "id": "ea196df3",
   "metadata": {},
   "outputs": [
    {
     "ename": "NotImplementedError",
     "evalue": "Sub class must implement this abstract method",
     "output_type": "error",
     "traceback": [
      "\u001b[1;31m---------------------------------------------------------------------------\u001b[0m",
      "\u001b[1;31mNotImplementedError\u001b[0m                       Traceback (most recent call last)",
      "\u001b[1;32m<ipython-input-126-9b0e37c92765>\u001b[0m in \u001b[0;36m<module>\u001b[1;34m\u001b[0m\n\u001b[1;32m----> 1\u001b[1;33m \u001b[0manimal\u001b[0m\u001b[1;33m.\u001b[0m\u001b[0mspeak\u001b[0m\u001b[1;33m(\u001b[0m\u001b[1;33m)\u001b[0m\u001b[1;33m\u001b[0m\u001b[1;33m\u001b[0m\u001b[0m\n\u001b[0m",
      "\u001b[1;32m<ipython-input-124-a5c496174054>\u001b[0m in \u001b[0;36mspeak\u001b[1;34m(self)\u001b[0m\n\u001b[0;32m      5\u001b[0m \u001b[1;33m\u001b[0m\u001b[0m\n\u001b[0;32m      6\u001b[0m     \u001b[1;32mdef\u001b[0m \u001b[0mspeak\u001b[0m\u001b[1;33m(\u001b[0m\u001b[0mself\u001b[0m\u001b[1;33m)\u001b[0m\u001b[1;33m:\u001b[0m\u001b[1;33m\u001b[0m\u001b[1;33m\u001b[0m\u001b[0m\n\u001b[1;32m----> 7\u001b[1;33m         \u001b[1;32mraise\u001b[0m \u001b[0mNotImplementedError\u001b[0m\u001b[1;33m(\u001b[0m\u001b[1;34m\"Sub class must implement this abstract method\"\u001b[0m\u001b[1;33m)\u001b[0m\u001b[1;33m\u001b[0m\u001b[1;33m\u001b[0m\u001b[0m\n\u001b[0m\u001b[0;32m      8\u001b[0m \u001b[1;33m\u001b[0m\u001b[0m\n",
      "\u001b[1;31mNotImplementedError\u001b[0m: Sub class must implement this abstract method"
     ]
    }
   ],
   "source": [
    "animal.speak()"
   ]
  },
  {
   "cell_type": "code",
   "execution_count": 127,
   "id": "f5ef422d",
   "metadata": {},
   "outputs": [],
   "source": [
    "class Dog(Animal):\n",
    "    \n",
    "    def speak(self):\n",
    "        return self.name + \" Says woof\""
   ]
  },
  {
   "cell_type": "code",
   "execution_count": 128,
   "id": "7f7a6cd7",
   "metadata": {},
   "outputs": [],
   "source": [
    "class Cat(Animal):\n",
    "    \n",
    "    def speak(self):\n",
    "        return self.name + \" Says Meow\""
   ]
  },
  {
   "cell_type": "code",
   "execution_count": 129,
   "id": "615c1211",
   "metadata": {},
   "outputs": [],
   "source": [
    "niko = Dog(\"Niko\")\n",
    "felix = Cat(\"Felix\")"
   ]
  },
  {
   "cell_type": "code",
   "execution_count": 130,
   "id": "af5103fd",
   "metadata": {},
   "outputs": [
    {
     "data": {
      "text/plain": [
       "'Niko Says woof'"
      ]
     },
     "execution_count": 130,
     "metadata": {},
     "output_type": "execute_result"
    }
   ],
   "source": [
    "niko.speak()"
   ]
  },
  {
   "cell_type": "code",
   "execution_count": 131,
   "id": "c6110697",
   "metadata": {},
   "outputs": [
    {
     "data": {
      "text/plain": [
       "'Felix Says Meow'"
      ]
     },
     "execution_count": 131,
     "metadata": {},
     "output_type": "execute_result"
    }
   ],
   "source": [
    "felix.speak()"
   ]
  },
  {
   "cell_type": "markdown",
   "id": "b340db1d",
   "metadata": {},
   "source": [
    "### Special Methods"
   ]
  },
  {
   "cell_type": "code",
   "execution_count": 132,
   "id": "2fd16307",
   "metadata": {},
   "outputs": [
    {
     "data": {
      "text/plain": [
       "3"
      ]
     },
     "execution_count": 132,
     "metadata": {},
     "output_type": "execute_result"
    }
   ],
   "source": [
    "mylist = [1,2,3]\n",
    "len(mylist)"
   ]
  },
  {
   "cell_type": "code",
   "execution_count": 133,
   "id": "fd475e53",
   "metadata": {},
   "outputs": [],
   "source": [
    "class Sample():\n",
    "    pass"
   ]
  },
  {
   "cell_type": "code",
   "execution_count": 135,
   "id": "eed8c868",
   "metadata": {},
   "outputs": [],
   "source": [
    "sample = Sample()"
   ]
  },
  {
   "cell_type": "code",
   "execution_count": 136,
   "id": "3ec0cf36",
   "metadata": {},
   "outputs": [
    {
     "ename": "TypeError",
     "evalue": "object of type 'Sample' has no len()",
     "output_type": "error",
     "traceback": [
      "\u001b[1;31m---------------------------------------------------------------------------\u001b[0m",
      "\u001b[1;31mTypeError\u001b[0m                                 Traceback (most recent call last)",
      "\u001b[1;32m<ipython-input-136-cf1f528d305d>\u001b[0m in \u001b[0;36m<module>\u001b[1;34m\u001b[0m\n\u001b[1;32m----> 1\u001b[1;33m \u001b[0mlen\u001b[0m\u001b[1;33m(\u001b[0m\u001b[0msample\u001b[0m\u001b[1;33m)\u001b[0m\u001b[1;33m\u001b[0m\u001b[1;33m\u001b[0m\u001b[0m\n\u001b[0m",
      "\u001b[1;31mTypeError\u001b[0m: object of type 'Sample' has no len()"
     ]
    }
   ],
   "source": [
    "len(sample)"
   ]
  },
  {
   "cell_type": "code",
   "execution_count": 137,
   "id": "1b305a96",
   "metadata": {},
   "outputs": [
    {
     "name": "stdout",
     "output_type": "stream",
     "text": [
      "<__main__.Sample object at 0x00000278C7DB5490>\n"
     ]
    }
   ],
   "source": [
    "print(sample)"
   ]
  },
  {
   "cell_type": "code",
   "execution_count": 138,
   "id": "09acbd9a",
   "metadata": {},
   "outputs": [
    {
     "name": "stdout",
     "output_type": "stream",
     "text": [
      "[1, 2, 3]\n"
     ]
    }
   ],
   "source": [
    "print(mylist)"
   ]
  },
  {
   "cell_type": "code",
   "execution_count": 139,
   "id": "ace99993",
   "metadata": {},
   "outputs": [],
   "source": [
    "class Book():\n",
    "    \n",
    "    def __init__(self,title,author,pages):\n",
    "        self.title = title\n",
    "        self.author = author\n",
    "        self.pages = pages\n",
    "        "
   ]
  },
  {
   "cell_type": "code",
   "execution_count": 140,
   "id": "e73d4a38",
   "metadata": {},
   "outputs": [],
   "source": [
    "book = Book(\"python rocks\",\"Jose\",132)"
   ]
  },
  {
   "cell_type": "code",
   "execution_count": 142,
   "id": "138cc708",
   "metadata": {},
   "outputs": [
    {
     "name": "stdout",
     "output_type": "stream",
     "text": [
      "<__main__.Book object at 0x00000278C7AF2AC0>\n"
     ]
    }
   ],
   "source": [
    "print(book)"
   ]
  },
  {
   "cell_type": "code",
   "execution_count": 154,
   "id": "f1345322",
   "metadata": {},
   "outputs": [],
   "source": [
    "class Book():\n",
    "    \n",
    "    def __init__(self,title,author,pages):\n",
    "        self.title = title\n",
    "        self.author = author\n",
    "        self.pages = pages\n",
    "        \n",
    "    def __str__(self):\n",
    "        return f\"{self.title} by author {self.author} has {self.pages} pages\"\n",
    "    \n",
    "    def __len__(self):\n",
    "        return self.pages\n",
    "    \n",
    "    def __del__(self):\n",
    "        print(\"book object has been deleted\")"
   ]
  },
  {
   "cell_type": "code",
   "execution_count": 155,
   "id": "2dbf03fa",
   "metadata": {},
   "outputs": [],
   "source": [
    "book = Book(\"python rocks\",\"Jose\",132)"
   ]
  },
  {
   "cell_type": "code",
   "execution_count": 156,
   "id": "59f73ed4",
   "metadata": {},
   "outputs": [
    {
     "name": "stdout",
     "output_type": "stream",
     "text": [
      "python rocks by author Jose has 132 pages\n"
     ]
    }
   ],
   "source": [
    "print(book)"
   ]
  },
  {
   "cell_type": "code",
   "execution_count": 157,
   "id": "8c41d838",
   "metadata": {},
   "outputs": [
    {
     "data": {
      "text/plain": [
       "'python rocks by author Jose has 132 pages'"
      ]
     },
     "execution_count": 157,
     "metadata": {},
     "output_type": "execute_result"
    }
   ],
   "source": [
    "str(book)"
   ]
  },
  {
   "cell_type": "code",
   "execution_count": 158,
   "id": "08623803",
   "metadata": {},
   "outputs": [
    {
     "data": {
      "text/plain": [
       "132"
      ]
     },
     "execution_count": 158,
     "metadata": {},
     "output_type": "execute_result"
    }
   ],
   "source": [
    "len(book)"
   ]
  },
  {
   "cell_type": "code",
   "execution_count": 159,
   "id": "7f2e5d9b",
   "metadata": {},
   "outputs": [
    {
     "name": "stdout",
     "output_type": "stream",
     "text": [
      "book object has been deleted\n"
     ]
    }
   ],
   "source": [
    "#delete variable\n",
    "\n",
    "del book"
   ]
  },
  {
   "cell_type": "code",
   "execution_count": 160,
   "id": "f07a9cee",
   "metadata": {},
   "outputs": [
    {
     "ename": "NameError",
     "evalue": "name 'book' is not defined",
     "output_type": "error",
     "traceback": [
      "\u001b[1;31m---------------------------------------------------------------------------\u001b[0m",
      "\u001b[1;31mNameError\u001b[0m                                 Traceback (most recent call last)",
      "\u001b[1;32m<ipython-input-160-92f3aa8bac21>\u001b[0m in \u001b[0;36m<module>\u001b[1;34m\u001b[0m\n\u001b[1;32m----> 1\u001b[1;33m \u001b[0mbook\u001b[0m\u001b[1;33m\u001b[0m\u001b[1;33m\u001b[0m\u001b[0m\n\u001b[0m",
      "\u001b[1;31mNameError\u001b[0m: name 'book' is not defined"
     ]
    }
   ],
   "source": [
    "book"
   ]
  },
  {
   "cell_type": "markdown",
   "id": "82503dbf",
   "metadata": {},
   "source": [
    "## Homework"
   ]
  },
  {
   "cell_type": "markdown",
   "id": "63767e43",
   "metadata": {},
   "source": [
    "### Problem 1\n",
    "Fill in the Line class methods to accept coordinates as a pair of tuples and return the slope and distance of the line."
   ]
  },
  {
   "cell_type": "code",
   "execution_count": 161,
   "id": "9e4b6e0d",
   "metadata": {},
   "outputs": [],
   "source": [
    "import math"
   ]
  },
  {
   "cell_type": "code",
   "execution_count": 170,
   "id": "1b60b9e8",
   "metadata": {},
   "outputs": [],
   "source": [
    "class Line:\n",
    "    \n",
    "    def __init__(self,coor1,coor2):\n",
    "        self.coor1 = coor1\n",
    "        self.coor2 = coor2\n",
    "        \n",
    "    \n",
    "    def distance(self):\n",
    "        x1,y1 = self.coor1\n",
    "        x2,y2 = self.coor2\n",
    "        a = (x2 - x1)**2\n",
    "        b = (y2 - y1)**2\n",
    "        d = math.sqrt(a+b)\n",
    "        return d\n",
    "        \n",
    "        \n",
    "    \n",
    "    def slope(self):\n",
    "        x1,y1 = self.coor1\n",
    "        x2,y2 = self.coor2\n",
    "        m = (y2 - y1)/(x2  - x1)\n",
    "        return m\n",
    "        "
   ]
  },
  {
   "cell_type": "code",
   "execution_count": 171,
   "id": "7ecf039f",
   "metadata": {},
   "outputs": [],
   "source": [
    "coordinate1 = (3,2)\n",
    "coordinate2 = (8,10)\n",
    "\n",
    "li = Line(coordinate1,coordinate2)"
   ]
  },
  {
   "cell_type": "code",
   "execution_count": 172,
   "id": "598ea1bb",
   "metadata": {},
   "outputs": [
    {
     "data": {
      "text/plain": [
       "9.433981132056603"
      ]
     },
     "execution_count": 172,
     "metadata": {},
     "output_type": "execute_result"
    }
   ],
   "source": [
    "li.distance()"
   ]
  },
  {
   "cell_type": "code",
   "execution_count": 174,
   "id": "0eea853c",
   "metadata": {},
   "outputs": [
    {
     "data": {
      "text/plain": [
       "1.6"
      ]
     },
     "execution_count": 174,
     "metadata": {},
     "output_type": "execute_result"
    }
   ],
   "source": [
    "li.slope()"
   ]
  },
  {
   "cell_type": "markdown",
   "id": "dc8dd057",
   "metadata": {},
   "source": [
    "### Problem 2\n",
    "Fill in the class"
   ]
  },
  {
   "cell_type": "code",
   "execution_count": 175,
   "id": "96889b86",
   "metadata": {},
   "outputs": [],
   "source": [
    "class Cylinder:\n",
    "    \n",
    "    #object class attribute\n",
    "    pie = 3.14\n",
    "    \n",
    "    def __init__(self,height=1,radius=1):\n",
    "        self.height = height\n",
    "        self.radius = radius\n",
    "        \n",
    "    def volume(self):\n",
    "        return self.pie*self.radius*self.radius*self.height\n",
    "    \n",
    "    def surface_area(self):\n",
    "        a = self.radius + self.height\n",
    "        return 2*self.pie*self.radius*a\n"
   ]
  },
  {
   "cell_type": "code",
   "execution_count": 176,
   "id": "e2377d25",
   "metadata": {},
   "outputs": [],
   "source": [
    "# EXAMPLE OUTPUT\n",
    "c = Cylinder(2,3)"
   ]
  },
  {
   "cell_type": "code",
   "execution_count": 177,
   "id": "9dd48084",
   "metadata": {},
   "outputs": [
    {
     "data": {
      "text/plain": [
       "56.519999999999996"
      ]
     },
     "execution_count": 177,
     "metadata": {},
     "output_type": "execute_result"
    }
   ],
   "source": [
    "c.volume()"
   ]
  },
  {
   "cell_type": "code",
   "execution_count": 178,
   "id": "1bde42cc",
   "metadata": {},
   "outputs": [
    {
     "data": {
      "text/plain": [
       "94.2"
      ]
     },
     "execution_count": 178,
     "metadata": {},
     "output_type": "execute_result"
    }
   ],
   "source": [
    "c.surface_area()"
   ]
  },
  {
   "cell_type": "markdown",
   "id": "74137520",
   "metadata": {},
   "source": [
    "## Challenge Problem"
   ]
  },
  {
   "cell_type": "markdown",
   "id": "5b78c9d2",
   "metadata": {},
   "source": [
    "### For this challenge, create a bank account class that has two attributes:\n",
    "\n",
    "owner\n",
    "\n",
    "balance\n",
    "\n",
    "and two methods:\n",
    "\n",
    "\n",
    "deposit\n",
    "\n",
    "withdraw\n",
    "\n",
    "As an added requirement, withdrawals may not exceed the available balance.\n",
    "\n",
    "\n",
    "Instantiate your class, make several deposits and withdrawals, and test to make sure the account can't be overdrawn.\n"
   ]
  },
  {
   "cell_type": "code",
   "execution_count": 32,
   "id": "3df79416",
   "metadata": {},
   "outputs": [],
   "source": [
    "class Account:\n",
    "    \n",
    "    \n",
    "    #This object has two atributes\n",
    "    \n",
    "    def __init__(self,owner,balance):\n",
    "        self.owner = owner\n",
    "        self.balance = balance\n",
    "        \n",
    "    #To print the object we use __str__ special method\n",
    "    \n",
    "    def __str__(self):\n",
    "        return \"Account Owner : \"+self.owner +\" \" + \"and\" + \" \"+ \"Account Balance : \"+ \"self.balance\"\n",
    "    \n",
    "    #Deposit method -----> adds vaalue to the initial balance\n",
    "    def deposit(self,amount):\n",
    "        self.balance = self.balance + amount\n",
    "        print(\"previous balance: {} and {} has been deposited\".format(self.balance,amount))\n",
    "        \n",
    "        \n",
    "    #Withdraw method ------> subtracts the value from the balance\n",
    "    def withdraw(self,amount):\n",
    "        if amount>self.balance:\n",
    "            print(\"withdrawls may not exceed available balance \")\n",
    "        else: \n",
    "            \n",
    "        \n",
    "            self.balance = self.balance - amount\n",
    "            print(\"previous balance: {} and {} has been withdrawn\".format(self.balance,amount))\n",
    "    "
   ]
  },
  {
   "cell_type": "code",
   "execution_count": 25,
   "id": "dc65cbc3",
   "metadata": {},
   "outputs": [],
   "source": [
    "# 1. Instantiate the class\n",
    "acct1 = Account('Jose',100)"
   ]
  },
  {
   "cell_type": "code",
   "execution_count": 26,
   "id": "010b1ae9",
   "metadata": {},
   "outputs": [
    {
     "name": "stdout",
     "output_type": "stream",
     "text": [
      "Account Owner : Jose and Account Balance : self.balance\n"
     ]
    }
   ],
   "source": [
    "# 2. Print the object\n",
    "print(acct1)"
   ]
  },
  {
   "cell_type": "code",
   "execution_count": 27,
   "id": "c367ce7b",
   "metadata": {},
   "outputs": [
    {
     "data": {
      "text/plain": [
       "'Jose'"
      ]
     },
     "execution_count": 27,
     "metadata": {},
     "output_type": "execute_result"
    }
   ],
   "source": [
    "# 3. Show the account owner attribute\n",
    "acct1.owner"
   ]
  },
  {
   "cell_type": "code",
   "execution_count": 28,
   "id": "e11eebec",
   "metadata": {},
   "outputs": [
    {
     "data": {
      "text/plain": [
       "100"
      ]
     },
     "execution_count": 28,
     "metadata": {},
     "output_type": "execute_result"
    }
   ],
   "source": [
    "# 4. Show the account balance attribute\n",
    "acct1.balance\n"
   ]
  },
  {
   "cell_type": "code",
   "execution_count": 29,
   "id": "6dda799c",
   "metadata": {},
   "outputs": [
    {
     "name": "stdout",
     "output_type": "stream",
     "text": [
      "previous balance: 150 and 50 has been deposited\n"
     ]
    }
   ],
   "source": [
    "# 5. Make a series of deposits and withdrawals\n",
    "acct1.deposit(50)"
   ]
  },
  {
   "cell_type": "code",
   "execution_count": 30,
   "id": "3f8cbdda",
   "metadata": {},
   "outputs": [
    {
     "name": "stdout",
     "output_type": "stream",
     "text": [
      "previous balance: 75 and 75 has been withdrawn\n"
     ]
    }
   ],
   "source": [
    "acct1.withdraw(75)"
   ]
  },
  {
   "cell_type": "code",
   "execution_count": 31,
   "id": "8af36e81",
   "metadata": {},
   "outputs": [
    {
     "name": "stdout",
     "output_type": "stream",
     "text": [
      "withdrawls may not exceed available baalance \n"
     ]
    }
   ],
   "source": [
    "# 6. Make a withdrawal that exceeds the available balance\n",
    "acct1.withdraw(500)"
   ]
  },
  {
   "cell_type": "markdown",
   "id": "651ceb84",
   "metadata": {},
   "source": [
    "## Modules and Packages"
   ]
  },
  {
   "cell_type": "markdown",
   "id": "65a567f4",
   "metadata": {},
   "source": [
    "### Pip install and PyPi"
   ]
  },
  {
   "cell_type": "markdown",
   "id": "d6ad55a8",
   "metadata": {},
   "source": [
    "#To install the package\n",
    "\n",
    "pip install <Name of the package>\n",
    "    \n",
    "python\n",
    "    \n",
    "import <Name of the package>"
   ]
  },
  {
   "cell_type": "markdown",
   "id": "25938dd2",
   "metadata": {},
   "source": [
    "### Modules and Packages"
   ]
  },
  {
   "cell_type": "markdown",
   "id": "ce3e560e",
   "metadata": {},
   "source": [
    "### If __name__ = \"__main__\":\n",
    "\n",
    "------------------\n",
    "------------------\n",
    "------------------"
   ]
  },
  {
   "cell_type": "markdown",
   "id": "9ba35105",
   "metadata": {},
   "source": [
    "## Errors and Exception Handling"
   ]
  },
  {
   "cell_type": "markdown",
   "id": "913dae19",
   "metadata": {},
   "source": [
    "### Try Except and Final"
   ]
  },
  {
   "cell_type": "code",
   "execution_count": 1,
   "id": "d0e231be",
   "metadata": {},
   "outputs": [],
   "source": [
    "def add(n1,n2):\n",
    "    return n1+n2"
   ]
  },
  {
   "cell_type": "code",
   "execution_count": 2,
   "id": "bbf62dd0",
   "metadata": {},
   "outputs": [],
   "source": [
    "n1 = 10"
   ]
  },
  {
   "cell_type": "code",
   "execution_count": 3,
   "id": "0567de8e",
   "metadata": {},
   "outputs": [
    {
     "name": "stdout",
     "output_type": "stream",
     "text": [
      "please provide a number3\n"
     ]
    }
   ],
   "source": [
    "n2 = input(\"please provide a number\")"
   ]
  },
  {
   "cell_type": "code",
   "execution_count": 5,
   "id": "e4b4042e",
   "metadata": {},
   "outputs": [
    {
     "ename": "TypeError",
     "evalue": "unsupported operand type(s) for +: 'int' and 'str'",
     "output_type": "error",
     "traceback": [
      "\u001b[1;31m---------------------------------------------------------------------------\u001b[0m",
      "\u001b[1;31mTypeError\u001b[0m                                 Traceback (most recent call last)",
      "\u001b[1;32m<ipython-input-5-89587a24dc13>\u001b[0m in \u001b[0;36m<module>\u001b[1;34m\u001b[0m\n\u001b[1;32m----> 1\u001b[1;33m \u001b[0madd\u001b[0m\u001b[1;33m(\u001b[0m\u001b[0mn1\u001b[0m\u001b[1;33m,\u001b[0m\u001b[0mn2\u001b[0m\u001b[1;33m)\u001b[0m\u001b[1;33m\u001b[0m\u001b[1;33m\u001b[0m\u001b[0m\n\u001b[0m\u001b[0;32m      2\u001b[0m \u001b[0mprint\u001b[0m\u001b[1;33m(\u001b[0m\u001b[1;34m\"something happened\"\u001b[0m\u001b[1;33m)\u001b[0m\u001b[1;33m\u001b[0m\u001b[1;33m\u001b[0m\u001b[0m\n",
      "\u001b[1;32m<ipython-input-1-ca1c06c84372>\u001b[0m in \u001b[0;36madd\u001b[1;34m(n1, n2)\u001b[0m\n\u001b[0;32m      1\u001b[0m \u001b[1;32mdef\u001b[0m \u001b[0madd\u001b[0m\u001b[1;33m(\u001b[0m\u001b[0mn1\u001b[0m\u001b[1;33m,\u001b[0m\u001b[0mn2\u001b[0m\u001b[1;33m)\u001b[0m\u001b[1;33m:\u001b[0m\u001b[1;33m\u001b[0m\u001b[1;33m\u001b[0m\u001b[0m\n\u001b[1;32m----> 2\u001b[1;33m     \u001b[1;32mreturn\u001b[0m \u001b[0mn1\u001b[0m\u001b[1;33m+\u001b[0m\u001b[0mn2\u001b[0m\u001b[1;33m\u001b[0m\u001b[1;33m\u001b[0m\u001b[0m\n\u001b[0m",
      "\u001b[1;31mTypeError\u001b[0m: unsupported operand type(s) for +: 'int' and 'str'"
     ]
    }
   ],
   "source": [
    "add(n1,n2)\n",
    "print(\"something happened\")"
   ]
  },
  {
   "cell_type": "code",
   "execution_count": 6,
   "id": "0fa34add",
   "metadata": {},
   "outputs": [],
   "source": [
    "try:\n",
    "    #attempt this code\n",
    "    #may have error\n",
    "    result = 10+10\n",
    "except:\n",
    "    print(\"adding isn't being done correctly\")"
   ]
  },
  {
   "cell_type": "code",
   "execution_count": 9,
   "id": "099ed656",
   "metadata": {},
   "outputs": [
    {
     "ename": "SyntaxError",
     "evalue": "unexpected EOF while parsing (<ipython-input-9-7fb99d55787f>, line 6)",
     "output_type": "error",
     "traceback": [
      "\u001b[1;36m  File \u001b[1;32m\"<ipython-input-9-7fb99d55787f>\"\u001b[1;36m, line \u001b[1;32m6\u001b[0m\n\u001b[1;33m    print(\"adding isn't being done correctly\")\u001b[0m\n\u001b[1;37m                                              ^\u001b[0m\n\u001b[1;31mSyntaxError\u001b[0m\u001b[1;31m:\u001b[0m unexpected EOF while parsing\n"
     ]
    }
   ],
   "source": [
    "try:\n",
    "    #attempt this code\n",
    "    #may have error\n",
    "    result = 10+\"10\"\n",
    "#except:\n",
    "    print(\"adding isn't being done correctly\")"
   ]
  },
  {
   "cell_type": "code",
   "execution_count": 11,
   "id": "6a9a2f70",
   "metadata": {},
   "outputs": [
    {
     "name": "stdout",
     "output_type": "stream",
     "text": [
      "adding isn't being done correctly\n"
     ]
    }
   ],
   "source": [
    "try:\n",
    "    #attempt this code\n",
    "    #may have error\n",
    "    result = 10+\"10\"\n",
    "except:\n",
    "    print(\"adding isn't being done correctly\")\n",
    "else:\n",
    "    print(result)\n",
    "    print(\"add went well\")"
   ]
  },
  {
   "cell_type": "code",
   "execution_count": 12,
   "id": "014769a3",
   "metadata": {},
   "outputs": [
    {
     "name": "stdout",
     "output_type": "stream",
     "text": [
      "20\n",
      "add went well\n"
     ]
    }
   ],
   "source": [
    "try:\n",
    "    #attempt this code\n",
    "    #may have error\n",
    "    result = 10+10\n",
    "except:\n",
    "    print(\"adding isn't being done correctly\")\n",
    "else:\n",
    "    print(result)\n",
    "    print(\"add went well\")"
   ]
  },
  {
   "cell_type": "code",
   "execution_count": 17,
   "id": "8f2c2615",
   "metadata": {},
   "outputs": [
    {
     "name": "stdout",
     "output_type": "stream",
     "text": [
      "I always run\n"
     ]
    }
   ],
   "source": [
    "try:\n",
    "    \n",
    "    #open a file\n",
    "    f = open('testfile','w')\n",
    "    f.write(\"write a test line\")\n",
    "       \n",
    "except OSError:\n",
    "    print(\"there is an os error\")\n",
    "except :\n",
    "    print(\"All other error\")\n",
    "    \n",
    "finally:\n",
    "    print(\"I always run\")\n",
    "    "
   ]
  },
  {
   "cell_type": "code",
   "execution_count": 18,
   "id": "652041a3",
   "metadata": {},
   "outputs": [
    {
     "name": "stdout",
     "output_type": "stream",
     "text": [
      "All other error\n",
      "I always run\n"
     ]
    }
   ],
   "source": [
    "try:\n",
    "    \n",
    "    #open a file\n",
    "    f = open('testfile','ww')\n",
    "    f.write(\"write a test line\")\n",
    "       \n",
    "except OSError:\n",
    "    print(\"there is an os error\")\n",
    "except :\n",
    "    print(\"All other error\")\n",
    "    \n",
    "finally:\n",
    "    print(\"I always run\")\n",
    "    "
   ]
  },
  {
   "cell_type": "code",
   "execution_count": 19,
   "id": "0eb71a9c",
   "metadata": {},
   "outputs": [
    {
     "name": "stdout",
     "output_type": "stream",
     "text": [
      "there is an os error\n",
      "I always run\n"
     ]
    }
   ],
   "source": [
    "try:\n",
    "    \n",
    "    #open a file\n",
    "    f = open('testfile','r')\n",
    "    f.write(\"write a test line\")\n",
    "       \n",
    "except OSError:\n",
    "    print(\"there is an os error\")\n",
    "except :\n",
    "    print(\"All other error\")\n",
    "    \n",
    "finally:\n",
    "    print(\"I always run\")\n",
    "    "
   ]
  },
  {
   "cell_type": "code",
   "execution_count": 26,
   "id": "a67e566f",
   "metadata": {},
   "outputs": [],
   "source": [
    "def ask_for_int():\n",
    "    try:\n",
    "        result = int(input(\"please provide a number : \"))\n",
    "        print(\"that is a number\")\n",
    "        \n",
    "    except:\n",
    "        print(\"that is not a number\")\n",
    "        \n",
    "    finally:\n",
    "        print(\"finally is executed\")"
   ]
  },
  {
   "cell_type": "code",
   "execution_count": 27,
   "id": "7d4316a6",
   "metadata": {},
   "outputs": [
    {
     "name": "stdout",
     "output_type": "stream",
     "text": [
      "please provide a number : '2'\n",
      "that is not a number\n",
      "finally is executed\n"
     ]
    }
   ],
   "source": [
    "ask_for_int()"
   ]
  },
  {
   "cell_type": "code",
   "execution_count": 28,
   "id": "ed079fb2",
   "metadata": {},
   "outputs": [
    {
     "name": "stdout",
     "output_type": "stream",
     "text": [
      "please provide a number : 2\n",
      "that is a number\n",
      "finally is executed\n"
     ]
    }
   ],
   "source": [
    "ask_for_int()"
   ]
  },
  {
   "cell_type": "code",
   "execution_count": 33,
   "id": "cb7f7cad",
   "metadata": {},
   "outputs": [],
   "source": [
    "def ask_for_int():\n",
    "    #will be executing till we encounter break\n",
    "    while True:\n",
    "        \n",
    "        try:\n",
    "            result = int(input(\"please provide a number : \"))\n",
    "            print(\"that is a number\")\n",
    "            \n",
    "        \n",
    "        #iif error occurs at try, we do the expect block\n",
    "        #while will be true, since its continue\n",
    "        except:\n",
    "            print(\"that is not a number\")\n",
    "            continue\n",
    "        \n",
    "        #else error is not encountered\n",
    "        #break out of while loop\n",
    "        else:\n",
    "            print(\"yes thank you\")\n",
    "            break\n",
    "    \n",
    "        \n",
    "        finally:\n",
    "             print(\"I am going to ask you again \\n\")\n",
    "                \n",
    "    print(\"finished\")"
   ]
  },
  {
   "cell_type": "code",
   "execution_count": 34,
   "id": "46351a85",
   "metadata": {},
   "outputs": [
    {
     "name": "stdout",
     "output_type": "stream",
     "text": [
      "please provide a number : rhea\n",
      "that is not a number\n",
      "I am going to ask you again \n",
      "\n",
      "please provide a number : shash\n",
      "that is not a number\n",
      "I am going to ask you again \n",
      "\n",
      "please provide a number : 2\n",
      "that is a number\n",
      "yes thank you\n",
      "I am going to ask you again \n",
      "\n",
      "finished\n"
     ]
    }
   ],
   "source": [
    "ask_for_int()"
   ]
  },
  {
   "cell_type": "markdown",
   "id": "09e6e21f",
   "metadata": {},
   "source": [
    "### Homework "
   ]
  },
  {
   "cell_type": "markdown",
   "id": "e2234aef",
   "metadata": {},
   "source": [
    "#### Problem 1"
   ]
  },
  {
   "cell_type": "code",
   "execution_count": 36,
   "id": "2fb27529",
   "metadata": {},
   "outputs": [
    {
     "name": "stdout",
     "output_type": "stream",
     "text": [
      "cannot square strings\n",
      "cannot square strings\n",
      "cannot square strings\n"
     ]
    }
   ],
   "source": [
    "for i in ['a','b','c']:\n",
    "    try:\n",
    "        print(i**2)\n",
    "    except:\n",
    "        print(\"cannot square strings\")"
   ]
  },
  {
   "cell_type": "code",
   "execution_count": 37,
   "id": "2f84cc73",
   "metadata": {},
   "outputs": [
    {
     "name": "stdout",
     "output_type": "stream",
     "text": [
      "cannot square strings\n"
     ]
    }
   ],
   "source": [
    "try:\n",
    "    for i in ['a','b','c']:\n",
    "        print(i**2)\n",
    "except:\n",
    "    print(\"cannot square strings\")"
   ]
  },
  {
   "cell_type": "markdown",
   "id": "5ed4d029",
   "metadata": {},
   "source": [
    "#### Problem 2 "
   ]
  },
  {
   "cell_type": "code",
   "execution_count": 43,
   "id": "db4f9ead",
   "metadata": {},
   "outputs": [
    {
     "name": "stdout",
     "output_type": "stream",
     "text": [
      "cannot perform the action\n",
      "all done!\n"
     ]
    }
   ],
   "source": [
    "x = 5\n",
    "y = 0\n",
    "\n",
    "#z = x/y\n",
    "try:\n",
    "    z = x/y\n",
    "    print(z)\n",
    "except ZeroDivisionError:\n",
    "    print(\"cannot perform the action\")\n",
    "finally:\n",
    "    print(\"all done!\")"
   ]
  },
  {
   "cell_type": "markdown",
   "id": "7a49fe71",
   "metadata": {},
   "source": [
    "#### Problem 3"
   ]
  },
  {
   "cell_type": "markdown",
   "id": "ff071833",
   "metadata": {},
   "source": [
    "write a function that takes an integer input and prints the square of it. Use while loop with try ,except and else blocks"
   ]
  },
  {
   "cell_type": "code",
   "execution_count": 52,
   "id": "ee19e192",
   "metadata": {},
   "outputs": [],
   "source": [
    "def ask():\n",
    "    \n",
    "    while True:\n",
    "        try:\n",
    "            number = int(input(\"Please enter a number to square : \"))\n",
    "            print(\"number is {}\".format(number))\n",
    "            \n",
    "        except:\n",
    "            print(\"You have not entered a valid number \")\n",
    "            print(\"I am going to ask you again \\n\")\n",
    "            continue\n",
    "        \n",
    "        else:\n",
    "            sq = number **2\n",
    "            print(\"The square of {} is {}\".format(number,sq))\n",
    "            break"
   ]
  },
  {
   "cell_type": "code",
   "execution_count": 53,
   "id": "57c4954d",
   "metadata": {},
   "outputs": [
    {
     "name": "stdout",
     "output_type": "stream",
     "text": [
      "Please enter a number to square : r\n",
      "You have not entered a valid number \n",
      "I am going to ask you again \n",
      "\n",
      "Please enter a number to square : 2\n",
      "number is 2\n",
      "The square of 2 is 4\n"
     ]
    }
   ],
   "source": [
    "ask()"
   ]
  },
  {
   "cell_type": "markdown",
   "id": "d60b5dc0",
   "metadata": {},
   "source": [
    "## Testing Tools\n",
    "\n",
    "1) Pylint\n",
    "\n",
    "2) Unittest"
   ]
  },
  {
   "cell_type": "markdown",
   "id": "23d62414",
   "metadata": {},
   "source": [
    "### Pylint overview "
   ]
  },
  {
   "cell_type": "code",
   "execution_count": null,
   "id": "4fe1c6e0",
   "metadata": {},
   "outputs": [],
   "source": []
  }
 ],
 "metadata": {
  "kernelspec": {
   "display_name": "Python 3",
   "language": "python",
   "name": "python3"
  },
  "language_info": {
   "codemirror_mode": {
    "name": "ipython",
    "version": 3
   },
   "file_extension": ".py",
   "mimetype": "text/x-python",
   "name": "python",
   "nbconvert_exporter": "python",
   "pygments_lexer": "ipython3",
   "version": "3.8.8"
  }
 },
 "nbformat": 4,
 "nbformat_minor": 5
}
