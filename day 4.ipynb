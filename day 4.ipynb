{
 "cells": [
  {
   "cell_type": "markdown",
   "id": "1b6c58e9",
   "metadata": {},
   "source": [
    "# tuple unpacking with python"
   ]
  },
  {
   "cell_type": "code",
   "execution_count": 1,
   "id": "9fd54ec9",
   "metadata": {},
   "outputs": [],
   "source": [
    "stock_prices = [('apple',200),('google',400),('mst',100)]"
   ]
  },
  {
   "cell_type": "code",
   "execution_count": 2,
   "id": "80001413",
   "metadata": {},
   "outputs": [
    {
     "name": "stdout",
     "output_type": "stream",
     "text": [
      "apple\n",
      "200\n",
      "google\n",
      "400\n",
      "mst\n",
      "100\n"
     ]
    }
   ],
   "source": [
    "for i,j in stock_prices:\n",
    "    print(i)\n",
    "    print(j)"
   ]
  },
  {
   "cell_type": "code",
   "execution_count": 13,
   "id": "9716e22a",
   "metadata": {},
   "outputs": [],
   "source": [
    "work_hours  = [('abby',100),('billy',4000),('cassey',800)]"
   ]
  },
  {
   "cell_type": "code",
   "execution_count": 14,
   "id": "1ec930f5",
   "metadata": {},
   "outputs": [],
   "source": [
    "def employ_check(work_hours):\n",
    "    max_time = 0\n",
    "    employ_of_month = ''\n",
    "    for name,hours in work_hours:\n",
    "        if hours > max_time:\n",
    "            max_time = hours  \n",
    "            employ_of_month = name\n",
    "        else:\n",
    "            pass\n",
    "    return (employ_of_month,max_time)\n",
    "        \n",
    "            \n",
    "        \n",
    "        "
   ]
  },
  {
   "cell_type": "code",
   "execution_count": 15,
   "id": "a5deaf7b",
   "metadata": {},
   "outputs": [
    {
     "name": "stdout",
     "output_type": "stream",
     "text": [
      "('billy', 4000)\n"
     ]
    }
   ],
   "source": [
    "res = employ_check(work_hours)\n",
    "print(res)"
   ]
  },
  {
   "cell_type": "code",
   "execution_count": 17,
   "id": "2c5efc50",
   "metadata": {},
   "outputs": [
    {
     "name": "stdout",
     "output_type": "stream",
     "text": [
      "billy is  the  employ  of  the  month with 4000  hours\n"
     ]
    }
   ],
   "source": [
    "name,hours = employ_check(work_hours)\n",
    "print('{} is  the  employ  of  the  month with {}  hours'.format(name,hours))"
   ]
  },
  {
   "cell_type": "markdown",
   "id": "daebc829",
   "metadata": {},
   "source": [
    "# Interaction between python  functions"
   ]
  },
  {
   "cell_type": "markdown",
   "id": "8577c099",
   "metadata": {},
   "source": [
    "# Monte  cup"
   ]
  },
  {
   "cell_type": "code",
   "execution_count": 18,
   "id": "97e135ae",
   "metadata": {},
   "outputs": [
    {
     "data": {
      "text/plain": [
       "[2, 1, 5, 4, 6, 3, 7]"
      ]
     },
     "execution_count": 18,
     "metadata": {},
     "output_type": "execute_result"
    }
   ],
   "source": [
    "example  =  [1,2,3,4,5,6,7]\n",
    "from  random import shuffle\n",
    "shuffle(example)\n",
    "example"
   ]
  },
  {
   "cell_type": "code",
   "execution_count": 19,
   "id": "5f3ecda8",
   "metadata": {},
   "outputs": [],
   "source": [
    "def shuffle_list(my_list):\n",
    "    shuffle(my_list)\n",
    "    return my_list"
   ]
  },
  {
   "cell_type": "code",
   "execution_count": 20,
   "id": "6a54e3e4",
   "metadata": {},
   "outputs": [],
   "source": [
    "res = shuffle_list(example)"
   ]
  },
  {
   "cell_type": "code",
   "execution_count": 21,
   "id": "5ae9c813",
   "metadata": {},
   "outputs": [
    {
     "name": "stdout",
     "output_type": "stream",
     "text": [
      "[6, 5, 4, 2, 7, 3, 1]\n"
     ]
    }
   ],
   "source": [
    "print(res)"
   ]
  },
  {
   "cell_type": "code",
   "execution_count": 22,
   "id": "debc19b7",
   "metadata": {},
   "outputs": [],
   "source": [
    "my_list = [' ','O',' ']"
   ]
  },
  {
   "cell_type": "code",
   "execution_count": 28,
   "id": "a80d080f",
   "metadata": {},
   "outputs": [],
   "source": [
    "def player_guess():\n",
    "    guess = ''\n",
    "    while guess not in ['0','1','2']:\n",
    "        \n",
    "        guess = input('pick a number: 0,1 or 2 : ')\n",
    "        \n",
    "    return int(guess)"
   ]
  },
  {
   "cell_type": "code",
   "execution_count": 24,
   "id": "47643f0f",
   "metadata": {},
   "outputs": [
    {
     "name": "stdout",
     "output_type": "stream",
     "text": [
      "pick a number: 0,1 or 22\n"
     ]
    },
    {
     "data": {
      "text/plain": [
       "2"
      ]
     },
     "execution_count": 24,
     "metadata": {},
     "output_type": "execute_result"
    }
   ],
   "source": [
    "player_guess()"
   ]
  },
  {
   "cell_type": "code",
   "execution_count": 32,
   "id": "b0ed2173",
   "metadata": {},
   "outputs": [],
   "source": [
    "def check_guess(my_list,guess):\n",
    "    if my_list[guess] =='O':\n",
    "        print('correct')\n",
    "    else:\n",
    "        print('wrong  guess')\n",
    "    print(my_list)"
   ]
  },
  {
   "cell_type": "markdown",
   "id": "7c5ceaff",
   "metadata": {},
   "source": [
    "The below code is where functions are interacting with each other"
   ]
  },
  {
   "cell_type": "code",
   "execution_count": 36,
   "id": "981bede4",
   "metadata": {},
   "outputs": [
    {
     "name": "stdout",
     "output_type": "stream",
     "text": [
      "pick a number: 0,1 or 2 : 6\n",
      "pick a number: 0,1 or 2 : 4\n",
      "pick a number: 0,1 or 2 : 2\n",
      "wrong  guess\n",
      "['O', ' ', ' ']\n"
     ]
    }
   ],
   "source": [
    "#initial  list\n",
    "my_list = [' ','O',' ']\n",
    "\n",
    "#shuffle list\n",
    "mixed_list = shuffle_list(my_list)\n",
    "\n",
    "#player guess\n",
    "guess_pos = player_guess()\n",
    "\n",
    "#check function\n",
    "check_guess(mixed_list,guess_pos)\n"
   ]
  },
  {
   "cell_type": "markdown",
   "id": "10c28758",
   "metadata": {},
   "source": [
    "# *args and **kwargs in python"
   ]
  },
  {
   "cell_type": "code",
   "execution_count": 39,
   "id": "e716cbfb",
   "metadata": {},
   "outputs": [],
   "source": [
    "def myfunc(a,b):\n",
    "    #return 5% of the sum of a and b\n",
    "    return sum((a,b)) *0.05"
   ]
  },
  {
   "cell_type": "code",
   "execution_count": 40,
   "id": "d0e3ce98",
   "metadata": {},
   "outputs": [
    {
     "data": {
      "text/plain": [
       "5.0"
      ]
     },
     "execution_count": 40,
     "metadata": {},
     "output_type": "execute_result"
    }
   ],
   "source": [
    "myfunc(40,60)"
   ]
  },
  {
   "cell_type": "code",
   "execution_count": 2,
   "id": "fcd44bb5",
   "metadata": {},
   "outputs": [],
   "source": [
    "def myfunc(a,b,c=0,d=0):\n",
    "    #return 5% of the sum of a and b\n",
    "    return sum((a,b,c,d)) *0.05"
   ]
  },
  {
   "cell_type": "code",
   "execution_count": 3,
   "id": "c764207d",
   "metadata": {},
   "outputs": [
    {
     "data": {
      "text/plain": [
       "1.6"
      ]
     },
     "execution_count": 3,
     "metadata": {},
     "output_type": "execute_result"
    }
   ],
   "source": [
    "myfunc(4,5,23)"
   ]
  },
  {
   "cell_type": "markdown",
   "id": "26c5398a",
   "metadata": {},
   "source": [
    "# *args"
   ]
  },
  {
   "cell_type": "code",
   "execution_count": 4,
   "id": "f9a11c2d",
   "metadata": {},
   "outputs": [],
   "source": [
    "def  myfunc(*args):\n",
    "    return sum(args)*0.05"
   ]
  },
  {
   "cell_type": "code",
   "execution_count": 5,
   "id": "ce4a7436",
   "metadata": {},
   "outputs": [
    {
     "data": {
      "text/plain": [
       "2.2"
      ]
     },
     "execution_count": 5,
     "metadata": {},
     "output_type": "execute_result"
    }
   ],
   "source": [
    "myfunc(4,3,2,5,6,7,8,3,6)"
   ]
  },
  {
   "cell_type": "markdown",
   "id": "1de95b72",
   "metadata": {},
   "source": [
    "# with  *args we can have arbitary number of arguments"
   ]
  },
  {
   "cell_type": "markdown",
   "id": "8f9dcda6",
   "metadata": {},
   "source": [
    "# **kwargs : for arbitary number of keyword arguments"
   ]
  },
  {
   "cell_type": "code",
   "execution_count": 12,
   "id": "b466dcd7",
   "metadata": {},
   "outputs": [],
   "source": [
    "def myfunc(**kwargs):\n",
    "    print(kwargs)\n",
    "    if 'fruit' in kwargs:\n",
    "        print(\"my fruit of choice is {} \".format(kwargs['fruit']))\n",
    "    else:\n",
    "        print(\"I did not find any fruit here\")"
   ]
  },
  {
   "cell_type": "code",
   "execution_count": 13,
   "id": "15950155",
   "metadata": {},
   "outputs": [
    {
     "name": "stdout",
     "output_type": "stream",
     "text": [
      "{'fruit': 'apple', 'veggie': 'lettuce'}\n",
      "my fruit of choice is apple \n"
     ]
    }
   ],
   "source": [
    "myfunc(fruit = 'apple',veggie = 'lettuce')"
   ]
  },
  {
   "cell_type": "markdown",
   "id": "effb9178",
   "metadata": {},
   "source": [
    "# *args : return a tuple\n",
    "# *kwargs : return a dictionary"
   ]
  },
  {
   "cell_type": "code",
   "execution_count": 16,
   "id": "2410c119",
   "metadata": {},
   "outputs": [],
   "source": [
    "def myfunc(*args,**kwargs):\n",
    "    print(args)\n",
    "    print(kwargs)\n",
    "    print(\"I would like {} {}\".format(args[0],kwargs['fruit']))"
   ]
  },
  {
   "cell_type": "code",
   "execution_count": 17,
   "id": "9a199022",
   "metadata": {},
   "outputs": [
    {
     "name": "stdout",
     "output_type": "stream",
     "text": [
      "(10, 20, 30)\n",
      "{'fruit': 'apple', 'color': 'red'}\n",
      "I would like 10 apple\n"
     ]
    }
   ],
   "source": [
    "myfunc(10,20,30,fruit='apple',color='red')"
   ]
  },
  {
   "cell_type": "code",
   "execution_count": 18,
   "id": "b7c57908",
   "metadata": {},
   "outputs": [],
   "source": [
    "def myfunc(*args):\n",
    "    lst =[]\n",
    "    for i in args:\n",
    "        if i%2 ==0:\n",
    "            lst.append(i)\n",
    "        else:\n",
    "            pass\n",
    "    return lst"
   ]
  },
  {
   "cell_type": "code",
   "execution_count": 19,
   "id": "0ea0aec4",
   "metadata": {},
   "outputs": [
    {
     "data": {
      "text/plain": [
       "[2, 4, 6, 8]"
      ]
     },
     "execution_count": 19,
     "metadata": {},
     "output_type": "execute_result"
    }
   ],
   "source": [
    "myfunc(1,2,3,4,5,6,7,8,9)"
   ]
  },
  {
   "cell_type": "code",
   "execution_count": 30,
   "id": "a79ce969",
   "metadata": {},
   "outputs": [],
   "source": [
    "def myfunc(mystr):\n",
    "    lst = list(mystr)\n",
    "    res =[]\n",
    "    num = 0\n",
    "    for i in lst:\n",
    "        if num % 2 == 0:\n",
    "            res.append(i.lower())\n",
    "            num = num +1\n",
    "        else:\n",
    "            res.append(i.upper())\n",
    "            num = num+1\n",
    "    ans = ''.join(res)\n",
    "    return ans\n",
    "            \n",
    "        \n",
    "        "
   ]
  },
  {
   "cell_type": "code",
   "execution_count": 31,
   "id": "84a8dfb7",
   "metadata": {},
   "outputs": [
    {
     "data": {
      "text/plain": [
       "'rHeA'"
      ]
     },
     "execution_count": 31,
     "metadata": {},
     "output_type": "execute_result"
    }
   ],
   "source": [
    "myfunc('rhea')"
   ]
  },
  {
   "cell_type": "markdown",
   "id": "ae27f847",
   "metadata": {},
   "source": [
    "# Practice problems"
   ]
  },
  {
   "cell_type": "markdown",
   "id": "b79865cc",
   "metadata": {},
   "source": [
    "# WARMUP SECTION:"
   ]
  },
  {
   "cell_type": "markdown",
   "id": "52a46293",
   "metadata": {},
   "source": [
    "\n",
    "LESSER OF TWO EVENS: Write a function that returns the lesser of two given numbers if both numbers are even, but returns the greater if one or both numbers are odd\n",
    "lesser_of_two_evens(2,4) --> 2\n",
    "lesser_of_two_evens(2,5) --> 5"
   ]
  },
  {
   "cell_type": "code",
   "execution_count": 39,
   "id": "029ad4c8",
   "metadata": {},
   "outputs": [],
   "source": [
    "def lesser_of_two_evens(a,b):\n",
    "    if a%2 == 0 and b%2  ==0:\n",
    "        return min((a,b))\n",
    "    else:\n",
    "        return max((a,b))"
   ]
  },
  {
   "cell_type": "code",
   "execution_count": 40,
   "id": "57b11132",
   "metadata": {},
   "outputs": [
    {
     "data": {
      "text/plain": [
       "2"
      ]
     },
     "execution_count": 40,
     "metadata": {},
     "output_type": "execute_result"
    }
   ],
   "source": [
    "# Check\n",
    "lesser_of_two_evens(2,4)"
   ]
  },
  {
   "cell_type": "code",
   "execution_count": 41,
   "id": "25f8ab5a",
   "metadata": {},
   "outputs": [
    {
     "data": {
      "text/plain": [
       "5"
      ]
     },
     "execution_count": 41,
     "metadata": {},
     "output_type": "execute_result"
    }
   ],
   "source": [
    "# Check\n",
    "lesser_of_two_evens(2,5)"
   ]
  },
  {
   "cell_type": "markdown",
   "id": "1bde42b9",
   "metadata": {},
   "source": [
    "ANIMAL CRACKERS: Write a function takes a two-word string and returns True if both words begin with same letter\n",
    "\n",
    "animal_crackers('Levelheaded Llama') --> True\n",
    "\n",
    "animal_crackers('Crazy Kangaroo') --> False"
   ]
  },
  {
   "cell_type": "code",
   "execution_count": 70,
   "id": "9fa3947c",
   "metadata": {},
   "outputs": [],
   "source": [
    "def animal_crackers(text):\n",
    "    wordlist = text.lower().split()\n",
    "    if wordlist[0][0] == wordlist[1][0]:\n",
    "        return True\n",
    "    else:\n",
    "        return False"
   ]
  },
  {
   "cell_type": "code",
   "execution_count": 71,
   "id": "71b94fb6",
   "metadata": {},
   "outputs": [
    {
     "data": {
      "text/plain": [
       "True"
      ]
     },
     "execution_count": 71,
     "metadata": {},
     "output_type": "execute_result"
    }
   ],
   "source": [
    "# Check\n",
    "animal_crackers('Levelheaded Llama')"
   ]
  },
  {
   "cell_type": "code",
   "execution_count": 72,
   "id": "4863dd38",
   "metadata": {},
   "outputs": [
    {
     "data": {
      "text/plain": [
       "False"
      ]
     },
     "execution_count": 72,
     "metadata": {},
     "output_type": "execute_result"
    }
   ],
   "source": [
    "# Check\n",
    "animal_crackers('Crazy Kangaroo')"
   ]
  },
  {
   "cell_type": "markdown",
   "id": "b917201c",
   "metadata": {},
   "source": [
    "MAKES TWENTY: Given two integers, return True if the sum of the integers is 20 or if one of the integers is 20. If not, return False\n",
    "\n",
    "\n",
    "makes_twenty(20,10) --> True\n",
    "\n",
    "makes_twenty(12,8) --> True\n",
    "\n",
    "makes_twenty(2,3) --> False"
   ]
  },
  {
   "cell_type": "code",
   "execution_count": 76,
   "id": "721e3aa1",
   "metadata": {},
   "outputs": [],
   "source": [
    "def makes_twenty(n1,n2):\n",
    "    if n1== 20 or n2 == 20:\n",
    "        return True\n",
    "    elif n1+ n2 ==20:\n",
    "        return True\n",
    "    else:\n",
    "        return False"
   ]
  },
  {
   "cell_type": "code",
   "execution_count": 77,
   "id": "0f1ad29d",
   "metadata": {},
   "outputs": [
    {
     "data": {
      "text/plain": [
       "True"
      ]
     },
     "execution_count": 77,
     "metadata": {},
     "output_type": "execute_result"
    }
   ],
   "source": [
    "# Check\n",
    "makes_twenty(20,10)"
   ]
  },
  {
   "cell_type": "code",
   "execution_count": 78,
   "id": "6aa31463",
   "metadata": {},
   "outputs": [
    {
     "data": {
      "text/plain": [
       "False"
      ]
     },
     "execution_count": 78,
     "metadata": {},
     "output_type": "execute_result"
    }
   ],
   "source": [
    "# Check\n",
    "makes_twenty(2,3)"
   ]
  },
  {
   "cell_type": "markdown",
   "id": "d08a72c0",
   "metadata": {},
   "source": [
    "# LEVEL 1 PROBLEMS"
   ]
  },
  {
   "cell_type": "markdown",
   "id": "fe95a86e",
   "metadata": {},
   "source": [
    "OLD MACDONALD: Write a function that capitalizes the first and fourth letters of a name\n",
    "old_macdonald('macdonald') --> MacDonald\n",
    "\n",
    "\n",
    "Note: 'macdonald'.capitalize() returns 'Macdonald'\n",
    "    "
   ]
  },
  {
   "cell_type": "code",
   "execution_count": 81,
   "id": "74171ff0",
   "metadata": {},
   "outputs": [],
   "source": [
    "def old_macdonald(name):\n",
    "    first = name[:1]\n",
    "    cap1 = first.upper()\n",
    "    middle = name[1:3]\n",
    "    fourth = name[3:4]\n",
    "    cap4 =  fourth.upper()\n",
    "    end = name[4:]\n",
    "    \n",
    "    return cap1+middle+cap4+end"
   ]
  },
  {
   "cell_type": "code",
   "execution_count": 82,
   "id": "2d95c273",
   "metadata": {},
   "outputs": [
    {
     "data": {
      "text/plain": [
       "'MacDonald'"
      ]
     },
     "execution_count": 82,
     "metadata": {},
     "output_type": "execute_result"
    }
   ],
   "source": [
    "# Check\n",
    "old_macdonald('macdonald')"
   ]
  },
  {
   "cell_type": "code",
   "execution_count": 84,
   "id": "96468af5",
   "metadata": {},
   "outputs": [
    {
     "data": {
      "text/plain": [
       "'RiaBasappa'"
      ]
     },
     "execution_count": 84,
     "metadata": {},
     "output_type": "execute_result"
    }
   ],
   "source": [
    "old_macdonald('riabasappa')"
   ]
  },
  {
   "cell_type": "markdown",
   "id": "92f0f6ad",
   "metadata": {},
   "source": [
    "MASTER YODA: Given a sentence, return a sentence with the words reversed\n",
    "\n",
    "master_yoda('I am home') --> 'home am I'\n",
    "\n",
    "master_yoda('We are ready') --> 'ready are We'\n",
    "\n",
    "\n",
    "Note: The .join() method may be useful here. The .join() method allows you to join together strings in a list with some connector string. For example, some uses of the .join() method:\n",
    "        \n",
    "\n",
    ">>> \"--\".join(['a','b','c'])\n",
    "\n",
    ">>> 'a--b--c'\n",
    "\n",
    "\n",
    "This means if you had a list of words you wanted to turn back into a sentence, you could just join them with a single space string:\n",
    "    \n",
    "\n",
    ">>> \" \".join(['Hello','world'])\n",
    "\n",
    ">>> \"Hello world\"\n"
   ]
  },
  {
   "cell_type": "code",
   "execution_count": 1,
   "id": "f42c6aef",
   "metadata": {},
   "outputs": [],
   "source": [
    "def master_yoda(text):\n",
    "    lst = text.split()\n",
    "    reversed_lst = lst[::-1]\n",
    "    return ' '.join(reversed_lst)"
   ]
  },
  {
   "cell_type": "code",
   "execution_count": 2,
   "id": "1dd5870e",
   "metadata": {},
   "outputs": [
    {
     "data": {
      "text/plain": [
       "'home am I'"
      ]
     },
     "execution_count": 2,
     "metadata": {},
     "output_type": "execute_result"
    }
   ],
   "source": [
    "# Check\n",
    "master_yoda('I am home')"
   ]
  },
  {
   "cell_type": "code",
   "execution_count": 3,
   "id": "6d6b101e",
   "metadata": {},
   "outputs": [
    {
     "data": {
      "text/plain": [
       "'ready are We'"
      ]
     },
     "execution_count": 3,
     "metadata": {},
     "output_type": "execute_result"
    }
   ],
   "source": [
    "# Check\n",
    "master_yoda('We are ready')"
   ]
  },
  {
   "cell_type": "markdown",
   "id": "51bf8d8d",
   "metadata": {},
   "source": [
    "ALMOST THERE: Given an integer n, return True if n is within 10 of either 100 or 200\n",
    "\n",
    "almost_there(90) --> True\n",
    "\n",
    "almost_there(104) --> True\n",
    "\n",
    "almost_there(150) --> False\n",
    "\n",
    "almost_there(209) --> True"
   ]
  },
  {
   "cell_type": "code",
   "execution_count": 7,
   "id": "7e2ed692",
   "metadata": {},
   "outputs": [],
   "source": [
    "def almost_there(n):\n",
    "    dif1 = abs(100-n)\n",
    "    dif2 = abs(200-n)\n",
    "    if dif1 <= 10 or dif2 <= 10:\n",
    "        return True\n",
    "    else:\n",
    "        return False\n",
    "    "
   ]
  },
  {
   "cell_type": "code",
   "execution_count": 8,
   "id": "fc5592a1",
   "metadata": {},
   "outputs": [
    {
     "data": {
      "text/plain": [
       "True"
      ]
     },
     "execution_count": 8,
     "metadata": {},
     "output_type": "execute_result"
    }
   ],
   "source": [
    "# Check\n",
    "almost_there(104)"
   ]
  },
  {
   "cell_type": "code",
   "execution_count": 9,
   "id": "11489004",
   "metadata": {},
   "outputs": [
    {
     "data": {
      "text/plain": [
       "False"
      ]
     },
     "execution_count": 9,
     "metadata": {},
     "output_type": "execute_result"
    }
   ],
   "source": [
    "# Check\n",
    "almost_there(150)"
   ]
  },
  {
   "cell_type": "code",
   "execution_count": 10,
   "id": "bdbddec4",
   "metadata": {},
   "outputs": [
    {
     "data": {
      "text/plain": [
       "True"
      ]
     },
     "execution_count": 10,
     "metadata": {},
     "output_type": "execute_result"
    }
   ],
   "source": [
    "# Check\n",
    "almost_there(209)"
   ]
  },
  {
   "cell_type": "code",
   "execution_count": null,
   "id": "75ea8726",
   "metadata": {},
   "outputs": [],
   "source": []
  }
 ],
 "metadata": {
  "kernelspec": {
   "display_name": "Python 3",
   "language": "python",
   "name": "python3"
  },
  "language_info": {
   "codemirror_mode": {
    "name": "ipython",
    "version": 3
   },
   "file_extension": ".py",
   "mimetype": "text/x-python",
   "name": "python",
   "nbconvert_exporter": "python",
   "pygments_lexer": "ipython3",
   "version": "3.8.8"
  }
 },
 "nbformat": 4,
 "nbformat_minor": 5
}
