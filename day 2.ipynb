{
 "cells": [
  {
   "cell_type": "markdown",
   "id": "7dae2366",
   "metadata": {},
   "source": [
    "# List"
   ]
  },
  {
   "cell_type": "code",
   "execution_count": 41,
   "id": "13c9f13c",
   "metadata": {},
   "outputs": [],
   "source": [
    "my_list = [1,2,3]"
   ]
  },
  {
   "cell_type": "code",
   "execution_count": 42,
   "id": "808ef012",
   "metadata": {},
   "outputs": [],
   "source": [
    "my_list2 = ['rhea',1,2.3]"
   ]
  },
  {
   "cell_type": "markdown",
   "id": "24c61004",
   "metadata": {},
   "source": [
    "length of the list"
   ]
  },
  {
   "cell_type": "code",
   "execution_count": 43,
   "id": "a9d8704a",
   "metadata": {},
   "outputs": [
    {
     "data": {
      "text/plain": [
       "3"
      ]
     },
     "execution_count": 43,
     "metadata": {},
     "output_type": "execute_result"
    }
   ],
   "source": [
    "len(my_list)"
   ]
  },
  {
   "cell_type": "code",
   "execution_count": 44,
   "id": "ea202dcd",
   "metadata": {},
   "outputs": [],
   "source": [
    "my_list3 = ['one','two','three']"
   ]
  },
  {
   "cell_type": "markdown",
   "id": "eb5385c1",
   "metadata": {},
   "source": [
    "list indexing"
   ]
  },
  {
   "cell_type": "code",
   "execution_count": 45,
   "id": "100098d4",
   "metadata": {},
   "outputs": [
    {
     "data": {
      "text/plain": [
       "'one'"
      ]
     },
     "execution_count": 45,
     "metadata": {},
     "output_type": "execute_result"
    }
   ],
   "source": [
    "my_list3[0]"
   ]
  },
  {
   "cell_type": "markdown",
   "id": "cec13280",
   "metadata": {},
   "source": [
    "list slicing"
   ]
  },
  {
   "cell_type": "code",
   "execution_count": 46,
   "id": "5bbf75a0",
   "metadata": {},
   "outputs": [
    {
     "data": {
      "text/plain": [
       "['one', 'three']"
      ]
     },
     "execution_count": 46,
     "metadata": {},
     "output_type": "execute_result"
    }
   ],
   "source": [
    "my_list3[0::2]"
   ]
  },
  {
   "cell_type": "markdown",
   "id": "a9f1a807",
   "metadata": {},
   "source": [
    "# Append "
   ]
  },
  {
   "cell_type": "markdown",
   "id": "bdfa3956",
   "metadata": {},
   "source": [
    "list concatenation"
   ]
  },
  {
   "cell_type": "code",
   "execution_count": 47,
   "id": "da3806d4",
   "metadata": {},
   "outputs": [],
   "source": [
    "new_list = my_list + my_list2"
   ]
  },
  {
   "cell_type": "code",
   "execution_count": 48,
   "id": "c696bef8",
   "metadata": {},
   "outputs": [
    {
     "data": {
      "text/plain": [
       "[1, 2, 3, 'rhea', 1, 2.3]"
      ]
     },
     "execution_count": 48,
     "metadata": {},
     "output_type": "execute_result"
    }
   ],
   "source": [
    "new_list"
   ]
  },
  {
   "cell_type": "markdown",
   "id": "c5e0bdb5",
   "metadata": {},
   "source": [
    "lists are mutable"
   ]
  },
  {
   "cell_type": "code",
   "execution_count": 49,
   "id": "ca980acd",
   "metadata": {},
   "outputs": [
    {
     "data": {
      "text/plain": [
       "[1, 2, 3, 'shash', 1, 2.3]"
      ]
     },
     "execution_count": 49,
     "metadata": {},
     "output_type": "execute_result"
    }
   ],
   "source": [
    "new_list[3] = 'shash'\n",
    "new_list"
   ]
  },
  {
   "cell_type": "code",
   "execution_count": 50,
   "id": "b2979603",
   "metadata": {},
   "outputs": [],
   "source": [
    "name = 'rhea'\n",
    "new_list[3] = name"
   ]
  },
  {
   "cell_type": "code",
   "execution_count": 51,
   "id": "c83498dc",
   "metadata": {},
   "outputs": [
    {
     "data": {
      "text/plain": [
       "[1, 2, 3, 'rhea', 1, 2.3]"
      ]
     },
     "execution_count": 51,
     "metadata": {},
     "output_type": "execute_result"
    }
   ],
   "source": [
    "new_list"
   ]
  },
  {
   "cell_type": "markdown",
   "id": "49c8154c",
   "metadata": {},
   "source": [
    "aappend"
   ]
  },
  {
   "cell_type": "code",
   "execution_count": 52,
   "id": "8ce5bdba",
   "metadata": {},
   "outputs": [
    {
     "data": {
      "text/plain": [
       "[1, 2, 3, 'rhea', 1, 2.3, 'shash']"
      ]
     },
     "execution_count": 52,
     "metadata": {},
     "output_type": "execute_result"
    }
   ],
   "source": [
    "new_list.append('shash')\n",
    "new_list"
   ]
  },
  {
   "cell_type": "markdown",
   "id": "6802f19b",
   "metadata": {},
   "source": [
    "# sort"
   ]
  },
  {
   "cell_type": "code",
   "execution_count": 53,
   "id": "6882d623",
   "metadata": {},
   "outputs": [],
   "source": [
    "pop1 = new_list.pop()\n"
   ]
  },
  {
   "cell_type": "code",
   "execution_count": 54,
   "id": "bfbd0f43",
   "metadata": {},
   "outputs": [
    {
     "data": {
      "text/plain": [
       "[1, 2, 3, 'rhea', 1, 2.3]"
      ]
     },
     "execution_count": 54,
     "metadata": {},
     "output_type": "execute_result"
    }
   ],
   "source": [
    "new_list"
   ]
  },
  {
   "cell_type": "code",
   "execution_count": 55,
   "id": "b57b2b08",
   "metadata": {},
   "outputs": [],
   "source": [
    "pop2 = new_list.pop(3)"
   ]
  },
  {
   "cell_type": "code",
   "execution_count": 56,
   "id": "d8b0360d",
   "metadata": {},
   "outputs": [
    {
     "data": {
      "text/plain": [
       "'shashrhea'"
      ]
     },
     "execution_count": 56,
     "metadata": {},
     "output_type": "execute_result"
    }
   ],
   "source": [
    "pop1 + pop2"
   ]
  },
  {
   "cell_type": "code",
   "execution_count": 57,
   "id": "b2272cbc",
   "metadata": {},
   "outputs": [],
   "source": [
    "pop_list = [pop1,pop2]"
   ]
  },
  {
   "cell_type": "code",
   "execution_count": 58,
   "id": "ea2024c4",
   "metadata": {},
   "outputs": [
    {
     "data": {
      "text/plain": [
       "['shash', 'rhea']"
      ]
     },
     "execution_count": 58,
     "metadata": {},
     "output_type": "execute_result"
    }
   ],
   "source": [
    "pop_list"
   ]
  },
  {
   "cell_type": "code",
   "execution_count": 59,
   "id": "c0d2a2e8",
   "metadata": {},
   "outputs": [],
   "source": [
    "num_list = [4,1,8,3]\n",
    "new_list =['a','e','x','r','j']"
   ]
  },
  {
   "cell_type": "markdown",
   "id": "543cce25",
   "metadata": {},
   "source": [
    "# sort"
   ]
  },
  {
   "cell_type": "markdown",
   "id": "7d561020",
   "metadata": {},
   "source": [
    "Sort does not return aanything\n",
    "\n",
    "so if you assign \n",
    "\n",
    "sorted = new_list.sort()\n",
    "sorted will not have anything, it will be of none type"
   ]
  },
  {
   "cell_type": "code",
   "execution_count": 63,
   "id": "a176de1a",
   "metadata": {},
   "outputs": [
    {
     "name": "stdout",
     "output_type": "stream",
     "text": [
      "[1, 3, 4, 8]\n",
      "['a', 'e', 'j', 'r', 'x']\n"
     ]
    }
   ],
   "source": [
    "num_list.sort()\n",
    "new_list.sort()\n",
    "print(num_list)\n",
    "print(new_list)"
   ]
  },
  {
   "cell_type": "markdown",
   "id": "9892a141",
   "metadata": {},
   "source": [
    "sort() will maake change to the original list. i.e its occuring inplace\n"
   ]
  },
  {
   "cell_type": "code",
   "execution_count": 66,
   "id": "258262d5",
   "metadata": {},
   "outputs": [
    {
     "name": "stdout",
     "output_type": "stream",
     "text": [
      "[5, 7, 3, 4, 2, 9, 8]\n",
      "None\n",
      "[2, 3, 4, 5, 7, 8, 9]\n"
     ]
    }
   ],
   "source": [
    "jum_num = [5,7,3,4,2,9,8]\n",
    "print(jum_num)\n",
    "jum_num.sort()\n",
    "print(jum_num.sort())\n",
    "print(jum_num)"
   ]
  },
  {
   "cell_type": "markdown",
   "id": "73e70eb6",
   "metadata": {},
   "source": [
    "# Reverse"
   ]
  },
  {
   "cell_type": "code",
   "execution_count": 67,
   "id": "dfee9b60",
   "metadata": {},
   "outputs": [],
   "source": [
    "jum_num.reverse()"
   ]
  },
  {
   "cell_type": "code",
   "execution_count": 68,
   "id": "fd79a67f",
   "metadata": {},
   "outputs": [
    {
     "name": "stdout",
     "output_type": "stream",
     "text": [
      "None\n"
     ]
    }
   ],
   "source": [
    "print(jum_num.reverse())"
   ]
  },
  {
   "cell_type": "code",
   "execution_count": 70,
   "id": "7641e929",
   "metadata": {},
   "outputs": [
    {
     "name": "stdout",
     "output_type": "stream",
     "text": [
      "[9, 8, 7, 5, 4, 3, 2]\n"
     ]
    }
   ],
   "source": [
    "jum_num.reverse()\n",
    "print(jum_num)"
   ]
  },
  {
   "cell_type": "markdown",
   "id": "3e9eb17c",
   "metadata": {},
   "source": [
    "# dictonaries"
   ]
  },
  {
   "cell_type": "markdown",
   "id": "b3263070",
   "metadata": {},
   "source": [
    "# keys should alwaays be string, vaaalues can be anything(int,float,str,list,dict,tup)"
   ]
  },
  {
   "cell_type": "code",
   "execution_count": 72,
   "id": "030f2e43",
   "metadata": {},
   "outputs": [],
   "source": [
    "my_dict = {'name':'rhea','age':23,'trait':'bad'}"
   ]
  },
  {
   "cell_type": "code",
   "execution_count": 73,
   "id": "216af14f",
   "metadata": {},
   "outputs": [
    {
     "data": {
      "text/plain": [
       "'bad'"
      ]
     },
     "execution_count": 73,
     "metadata": {},
     "output_type": "execute_result"
    }
   ],
   "source": [
    "my_dict['trait']"
   ]
  },
  {
   "cell_type": "markdown",
   "id": "fc57480f",
   "metadata": {},
   "source": [
    "dictonaries can be nested"
   ]
  },
  {
   "cell_type": "code",
   "execution_count": 74,
   "id": "e0fbc55c",
   "metadata": {},
   "outputs": [],
   "source": [
    "d ={'person1':{'name':'rhea','age':23,'trait':'bad'},'person2':{'name':'shash','age':23,'trait':'good'}}"
   ]
  },
  {
   "cell_type": "code",
   "execution_count": 75,
   "id": "771d4170",
   "metadata": {},
   "outputs": [
    {
     "data": {
      "text/plain": [
       "{'name': 'rhea', 'age': 23, 'trait': 'bad'}"
      ]
     },
     "execution_count": 75,
     "metadata": {},
     "output_type": "execute_result"
    }
   ],
   "source": [
    "d['person1']"
   ]
  },
  {
   "cell_type": "code",
   "execution_count": 76,
   "id": "d20d3451",
   "metadata": {},
   "outputs": [
    {
     "data": {
      "text/plain": [
       "'good'"
      ]
     },
     "execution_count": 76,
     "metadata": {},
     "output_type": "execute_result"
    }
   ],
   "source": [
    "d['person2']['trait']"
   ]
  },
  {
   "cell_type": "markdown",
   "id": "eb36e504",
   "metadata": {},
   "source": [
    "python flexibility"
   ]
  },
  {
   "cell_type": "code",
   "execution_count": 77,
   "id": "73061f57",
   "metadata": {},
   "outputs": [],
   "source": [
    "d = {'key1':['a','b','c']}"
   ]
  },
  {
   "cell_type": "code",
   "execution_count": 79,
   "id": "64fca8d9",
   "metadata": {},
   "outputs": [
    {
     "name": "stdout",
     "output_type": "stream",
     "text": [
      "C\n",
      "C\n"
     ]
    }
   ],
   "source": [
    "#to make c as upper case\n",
    "lst = d['key1']\n",
    "letter = lst[2]\n",
    "upper = letter.upper()\n",
    "print(upper)\n",
    "\n",
    "#we can aalso do this with just one line using pythons functionality\n",
    "\n",
    "print(d['key1'][2].upper())"
   ]
  },
  {
   "cell_type": "markdown",
   "id": "da703687",
   "metadata": {},
   "source": [
    "# adding new key value pairs to dictonaries"
   ]
  },
  {
   "cell_type": "code",
   "execution_count": 80,
   "id": "abd9fb25",
   "metadata": {},
   "outputs": [],
   "source": [
    "d ={'k1':1,'k2':2,'k3':3}"
   ]
  },
  {
   "cell_type": "code",
   "execution_count": 81,
   "id": "c773512d",
   "metadata": {},
   "outputs": [
    {
     "data": {
      "text/plain": [
       "{'k1': 1, 'k2': 2, 'k3': 3}"
      ]
     },
     "execution_count": 81,
     "metadata": {},
     "output_type": "execute_result"
    }
   ],
   "source": [
    "d"
   ]
  },
  {
   "cell_type": "code",
   "execution_count": 82,
   "id": "b2c5d070",
   "metadata": {},
   "outputs": [
    {
     "data": {
      "text/plain": [
       "{'k1': 1, 'k2': 2, 'k3': 3, 'k4': 4}"
      ]
     },
     "execution_count": 82,
     "metadata": {},
     "output_type": "execute_result"
    }
   ],
   "source": [
    "d['k4'] = 4\n",
    "d"
   ]
  },
  {
   "cell_type": "markdown",
   "id": "1df24023",
   "metadata": {},
   "source": [
    "changing the value for a key"
   ]
  },
  {
   "cell_type": "code",
   "execution_count": 83,
   "id": "f0b735a6",
   "metadata": {},
   "outputs": [
    {
     "data": {
      "text/plain": [
       "{'k1': 'new value', 'k2': 2, 'k3': 3, 'k4': 4}"
      ]
     },
     "execution_count": 83,
     "metadata": {},
     "output_type": "execute_result"
    }
   ],
   "source": [
    "d['k1'] = 'new value'\n",
    "d"
   ]
  },
  {
   "cell_type": "code",
   "execution_count": 84,
   "id": "a745ae4b",
   "metadata": {},
   "outputs": [
    {
     "data": {
      "text/plain": [
       "dict_keys(['k1', 'k2', 'k3', 'k4'])"
      ]
     },
     "execution_count": 84,
     "metadata": {},
     "output_type": "execute_result"
    }
   ],
   "source": [
    "#To get the keys\n",
    "d.keys()"
   ]
  },
  {
   "cell_type": "code",
   "execution_count": 85,
   "id": "345eeb26",
   "metadata": {},
   "outputs": [
    {
     "data": {
      "text/plain": [
       "dict_values(['new value', 2, 3, 4])"
      ]
     },
     "execution_count": 85,
     "metadata": {},
     "output_type": "execute_result"
    }
   ],
   "source": [
    "#to get the values\n",
    "d.values()"
   ]
  },
  {
   "cell_type": "markdown",
   "id": "75b12bba",
   "metadata": {},
   "source": [
    "# Tuples"
   ]
  },
  {
   "cell_type": "code",
   "execution_count": 86,
   "id": "ac60b4b8",
   "metadata": {},
   "outputs": [],
   "source": [
    "t =(1,2,3)\n",
    "l =[1,2,3]"
   ]
  },
  {
   "cell_type": "code",
   "execution_count": 87,
   "id": "be977609",
   "metadata": {},
   "outputs": [
    {
     "data": {
      "text/plain": [
       "tuple"
      ]
     },
     "execution_count": 87,
     "metadata": {},
     "output_type": "execute_result"
    }
   ],
   "source": [
    "type(t)"
   ]
  },
  {
   "cell_type": "code",
   "execution_count": 88,
   "id": "47e3c4fd",
   "metadata": {},
   "outputs": [
    {
     "data": {
      "text/plain": [
       "list"
      ]
     },
     "execution_count": 88,
     "metadata": {},
     "output_type": "execute_result"
    }
   ],
   "source": [
    "type(l)"
   ]
  },
  {
   "cell_type": "code",
   "execution_count": 89,
   "id": "3d11c9c7",
   "metadata": {},
   "outputs": [
    {
     "data": {
      "text/plain": [
       "3"
      ]
     },
     "execution_count": 89,
     "metadata": {},
     "output_type": "execute_result"
    }
   ],
   "source": [
    "len(t)"
   ]
  },
  {
   "cell_type": "code",
   "execution_count": 90,
   "id": "c5bfc12e",
   "metadata": {},
   "outputs": [],
   "source": [
    "t = ('one',2,3)"
   ]
  },
  {
   "cell_type": "code",
   "execution_count": 91,
   "id": "0b7572a4",
   "metadata": {},
   "outputs": [
    {
     "data": {
      "text/plain": [
       "('one', 2, 3)"
      ]
     },
     "execution_count": 91,
     "metadata": {},
     "output_type": "execute_result"
    }
   ],
   "source": [
    "t"
   ]
  },
  {
   "cell_type": "code",
   "execution_count": 92,
   "id": "931a4b8a",
   "metadata": {},
   "outputs": [
    {
     "data": {
      "text/plain": [
       "'one'"
      ]
     },
     "execution_count": 92,
     "metadata": {},
     "output_type": "execute_result"
    }
   ],
   "source": [
    "t[0]"
   ]
  },
  {
   "cell_type": "code",
   "execution_count": 93,
   "id": "43cf2805",
   "metadata": {},
   "outputs": [
    {
     "data": {
      "text/plain": [
       "3"
      ]
     },
     "execution_count": 93,
     "metadata": {},
     "output_type": "execute_result"
    }
   ],
   "source": [
    "t[-1]"
   ]
  },
  {
   "cell_type": "markdown",
   "id": "e9967537",
   "metadata": {},
   "source": [
    "count method"
   ]
  },
  {
   "cell_type": "code",
   "execution_count": 94,
   "id": "37bf9ee8",
   "metadata": {},
   "outputs": [
    {
     "data": {
      "text/plain": [
       "2"
      ]
     },
     "execution_count": 94,
     "metadata": {},
     "output_type": "execute_result"
    }
   ],
   "source": [
    "t =('a','a','b')\n",
    "t.count('a')"
   ]
  },
  {
   "cell_type": "markdown",
   "id": "e93d9bff",
   "metadata": {},
   "source": [
    "index method\n",
    "\n",
    "returns the first index\n"
   ]
  },
  {
   "cell_type": "code",
   "execution_count": 95,
   "id": "742f7e07",
   "metadata": {},
   "outputs": [
    {
     "data": {
      "text/plain": [
       "0"
      ]
     },
     "execution_count": 95,
     "metadata": {},
     "output_type": "execute_result"
    }
   ],
   "source": [
    "t.index('a')"
   ]
  },
  {
   "cell_type": "code",
   "execution_count": 96,
   "id": "de195cc2",
   "metadata": {},
   "outputs": [
    {
     "data": {
      "text/plain": [
       "2"
      ]
     },
     "execution_count": 96,
     "metadata": {},
     "output_type": "execute_result"
    }
   ],
   "source": [
    "t.index('b')"
   ]
  },
  {
   "cell_type": "markdown",
   "id": "6a64c2d6",
   "metadata": {},
   "source": [
    "# tuples are immutable"
   ]
  },
  {
   "cell_type": "code",
   "execution_count": 97,
   "id": "14a8b99d",
   "metadata": {},
   "outputs": [
    {
     "data": {
      "text/plain": [
       "[1, 2, 3]"
      ]
     },
     "execution_count": 97,
     "metadata": {},
     "output_type": "execute_result"
    }
   ],
   "source": [
    "l"
   ]
  },
  {
   "cell_type": "code",
   "execution_count": 98,
   "id": "aa31263f",
   "metadata": {},
   "outputs": [
    {
     "data": {
      "text/plain": [
       "[1, 2, 'new']"
      ]
     },
     "execution_count": 98,
     "metadata": {},
     "output_type": "execute_result"
    }
   ],
   "source": [
    "l[2] = 'new'\n",
    "l"
   ]
  },
  {
   "cell_type": "code",
   "execution_count": 99,
   "id": "b567163a",
   "metadata": {},
   "outputs": [
    {
     "data": {
      "text/plain": [
       "('a', 'a', 'b')"
      ]
     },
     "execution_count": 99,
     "metadata": {},
     "output_type": "execute_result"
    }
   ],
   "source": [
    "t"
   ]
  },
  {
   "cell_type": "code",
   "execution_count": 100,
   "id": "83a7a038",
   "metadata": {},
   "outputs": [
    {
     "ename": "TypeError",
     "evalue": "'tuple' object does not support item assignment",
     "output_type": "error",
     "traceback": [
      "\u001b[1;31m---------------------------------------------------------------------------\u001b[0m",
      "\u001b[1;31mTypeError\u001b[0m                                 Traceback (most recent call last)",
      "\u001b[1;32m<ipython-input-100-b739cf27acea>\u001b[0m in \u001b[0;36m<module>\u001b[1;34m\u001b[0m\n\u001b[1;32m----> 1\u001b[1;33m \u001b[0mt\u001b[0m\u001b[1;33m[\u001b[0m\u001b[1;36m2\u001b[0m\u001b[1;33m]\u001b[0m \u001b[1;33m=\u001b[0m \u001b[1;34m'new'\u001b[0m\u001b[1;33m\u001b[0m\u001b[1;33m\u001b[0m\u001b[0m\n\u001b[0m",
      "\u001b[1;31mTypeError\u001b[0m: 'tuple' object does not support item assignment"
     ]
    }
   ],
   "source": [
    "t[2] = 'new'"
   ]
  },
  {
   "cell_type": "markdown",
   "id": "ee9089ee",
   "metadata": {},
   "source": [
    "# sets"
   ]
  },
  {
   "cell_type": "code",
   "execution_count": 101,
   "id": "59d237dd",
   "metadata": {},
   "outputs": [],
   "source": [
    "s =set()"
   ]
  },
  {
   "cell_type": "code",
   "execution_count": 102,
   "id": "e57d2c39",
   "metadata": {},
   "outputs": [
    {
     "data": {
      "text/plain": [
       "set()"
      ]
     },
     "execution_count": 102,
     "metadata": {},
     "output_type": "execute_result"
    }
   ],
   "source": [
    "s"
   ]
  },
  {
   "cell_type": "markdown",
   "id": "df8f18c8",
   "metadata": {},
   "source": [
    "add method to add objects to the set"
   ]
  },
  {
   "cell_type": "code",
   "execution_count": 103,
   "id": "4e477a6a",
   "metadata": {},
   "outputs": [
    {
     "data": {
      "text/plain": [
       "{1}"
      ]
     },
     "execution_count": 103,
     "metadata": {},
     "output_type": "execute_result"
    }
   ],
   "source": [
    "s.add(1)\n",
    "s"
   ]
  },
  {
   "cell_type": "code",
   "execution_count": 104,
   "id": "16d067db",
   "metadata": {},
   "outputs": [
    {
     "data": {
      "text/plain": [
       "{1, 2}"
      ]
     },
     "execution_count": 104,
     "metadata": {},
     "output_type": "execute_result"
    }
   ],
   "source": [
    "s.add(2)\n",
    "s.add(2)\n",
    "s"
   ]
  },
  {
   "cell_type": "code",
   "execution_count": 105,
   "id": "47d6c1f7",
   "metadata": {},
   "outputs": [
    {
     "data": {
      "text/plain": [
       "{1, 2, 3}"
      ]
     },
     "execution_count": 105,
     "metadata": {},
     "output_type": "execute_result"
    }
   ],
   "source": [
    "#casting a list to set \n",
    "l =[1,1,2,2,2,3,3,3,1]\n",
    "s = set(l)\n",
    "s"
   ]
  },
  {
   "cell_type": "code",
   "execution_count": 106,
   "id": "f4fb249e",
   "metadata": {},
   "outputs": [
    {
     "data": {
      "text/plain": [
       "{'M', 'i', 'p', 's'}"
      ]
     },
     "execution_count": 106,
     "metadata": {},
     "output_type": "execute_result"
    }
   ],
   "source": [
    "set('Mississipi')"
   ]
  },
  {
   "cell_type": "markdown",
   "id": "2ed9fd80",
   "metadata": {},
   "source": [
    "# Booleans"
   ]
  },
  {
   "cell_type": "code",
   "execution_count": 107,
   "id": "b989af73",
   "metadata": {},
   "outputs": [
    {
     "data": {
      "text/plain": [
       "True"
      ]
     },
     "execution_count": 107,
     "metadata": {},
     "output_type": "execute_result"
    }
   ],
   "source": [
    "True "
   ]
  },
  {
   "cell_type": "code",
   "execution_count": 108,
   "id": "a2dddcbe",
   "metadata": {},
   "outputs": [
    {
     "data": {
      "text/plain": [
       "False"
      ]
     },
     "execution_count": 108,
     "metadata": {},
     "output_type": "execute_result"
    }
   ],
   "source": [
    "False"
   ]
  },
  {
   "cell_type": "code",
   "execution_count": 109,
   "id": "973e0a0d",
   "metadata": {},
   "outputs": [
    {
     "data": {
      "text/plain": [
       "bool"
      ]
     },
     "execution_count": 109,
     "metadata": {},
     "output_type": "execute_result"
    }
   ],
   "source": [
    "type(True)"
   ]
  },
  {
   "cell_type": "markdown",
   "id": "b04ecc3e",
   "metadata": {},
   "source": [
    "compaarision operators"
   ]
  },
  {
   "cell_type": "code",
   "execution_count": 110,
   "id": "380918e2",
   "metadata": {},
   "outputs": [
    {
     "data": {
      "text/plain": [
       "False"
      ]
     },
     "execution_count": 110,
     "metadata": {},
     "output_type": "execute_result"
    }
   ],
   "source": [
    "1 > 2"
   ]
  },
  {
   "cell_type": "code",
   "execution_count": 111,
   "id": "46348111",
   "metadata": {},
   "outputs": [
    {
     "data": {
      "text/plain": [
       "True"
      ]
     },
     "execution_count": 111,
     "metadata": {},
     "output_type": "execute_result"
    }
   ],
   "source": [
    "1==1"
   ]
  },
  {
   "cell_type": "code",
   "execution_count": 112,
   "id": "abf27f90",
   "metadata": {},
   "outputs": [],
   "source": [
    "b = None"
   ]
  },
  {
   "cell_type": "code",
   "execution_count": 113,
   "id": "8065eb71",
   "metadata": {},
   "outputs": [],
   "source": [
    "b"
   ]
  },
  {
   "cell_type": "markdown",
   "id": "3a46af96",
   "metadata": {},
   "source": [
    "# I/O basic files in python"
   ]
  },
  {
   "cell_type": "markdown",
   "id": "cf0e0ebc",
   "metadata": {},
   "source": [
    "magic function in python to write a file"
   ]
  },
  {
   "cell_type": "code",
   "execution_count": 115,
   "id": "703d27bf",
   "metadata": {},
   "outputs": [
    {
     "name": "stdout",
     "output_type": "stream",
     "text": [
      "Writing myfile.txt\n"
     ]
    }
   ],
   "source": [
    "%%writefile myfile.txt\n",
    "\n",
    "hello this is a text file\n",
    "this is the first line\n",
    "this is the second line"
   ]
  },
  {
   "cell_type": "code",
   "execution_count": 117,
   "id": "1b02897f",
   "metadata": {},
   "outputs": [],
   "source": [
    "myfile = open('myfile.txt')"
   ]
  },
  {
   "cell_type": "markdown",
   "id": "c63843e9",
   "metadata": {},
   "source": [
    "# Read"
   ]
  },
  {
   "cell_type": "code",
   "execution_count": 119,
   "id": "7a02d7da",
   "metadata": {},
   "outputs": [
    {
     "data": {
      "text/plain": [
       "'\\nhello this is a text file\\nthis is the first line\\nthis is the second line\\n'"
      ]
     },
     "execution_count": 119,
     "metadata": {},
     "output_type": "execute_result"
    }
   ],
   "source": [
    "myfile.read()"
   ]
  },
  {
   "cell_type": "code",
   "execution_count": 120,
   "id": "536ade25",
   "metadata": {},
   "outputs": [
    {
     "data": {
      "text/plain": [
       "''"
      ]
     },
     "execution_count": 120,
     "metadata": {},
     "output_type": "execute_result"
    }
   ],
   "source": [
    "myfile.read()"
   ]
  },
  {
   "cell_type": "markdown",
   "id": "e4cb5618",
   "metadata": {},
   "source": [
    "this happened because the cursor is at the end. To send the cursor back to initial position we use seek(0) "
   ]
  },
  {
   "cell_type": "markdown",
   "id": "5e53d43c",
   "metadata": {},
   "source": [
    "# seek"
   ]
  },
  {
   "cell_type": "code",
   "execution_count": 126,
   "id": "e3b70fb2",
   "metadata": {},
   "outputs": [
    {
     "data": {
      "text/plain": [
       "0"
      ]
     },
     "execution_count": 126,
     "metadata": {},
     "output_type": "execute_result"
    }
   ],
   "source": [
    "myfile.seek(0)"
   ]
  },
  {
   "cell_type": "code",
   "execution_count": 127,
   "id": "7ac837ae",
   "metadata": {},
   "outputs": [],
   "source": [
    "content = myfile.read()"
   ]
  },
  {
   "cell_type": "code",
   "execution_count": 128,
   "id": "38d3ca9f",
   "metadata": {},
   "outputs": [
    {
     "data": {
      "text/plain": [
       "'\\nhello this is a text file\\nthis is the first line\\nthis is the second line\\n'"
      ]
     },
     "execution_count": 128,
     "metadata": {},
     "output_type": "execute_result"
    }
   ],
   "source": [
    "content"
   ]
  },
  {
   "cell_type": "code",
   "execution_count": 129,
   "id": "d302a12f",
   "metadata": {},
   "outputs": [
    {
     "data": {
      "text/plain": [
       "['\\n',\n",
       " 'hello this is a text file\\n',\n",
       " 'this is the first line\\n',\n",
       " 'this is the second line\\n']"
      ]
     },
     "execution_count": 129,
     "metadata": {},
     "output_type": "execute_result"
    }
   ],
   "source": [
    "myfile.seek(0)\n",
    "myfile.readlines()"
   ]
  },
  {
   "cell_type": "markdown",
   "id": "6bfd00fa",
   "metadata": {},
   "source": [
    "# file location"
   ]
  },
  {
   "cell_type": "code",
   "execution_count": 130,
   "id": "47dd1e3f",
   "metadata": {},
   "outputs": [
    {
     "data": {
      "text/plain": [
       "'C:\\\\Users\\\\eeyab\\\\Python bootcaamp'"
      ]
     },
     "execution_count": 130,
     "metadata": {},
     "output_type": "execute_result"
    }
   ],
   "source": [
    "pwd"
   ]
  },
  {
   "cell_type": "markdown",
   "id": "95f96de1",
   "metadata": {},
   "source": [
    "# close"
   ]
  },
  {
   "cell_type": "code",
   "execution_count": 131,
   "id": "472c38d2",
   "metadata": {},
   "outputs": [],
   "source": [
    "myfile.close()"
   ]
  },
  {
   "cell_type": "markdown",
   "id": "ea0f4335",
   "metadata": {},
   "source": [
    "# another way of opening the file "
   ]
  },
  {
   "cell_type": "code",
   "execution_count": 132,
   "id": "9b241be2",
   "metadata": {},
   "outputs": [],
   "source": [
    "with open('myfile.txt') as new_file:\n",
    "    contents = new_file.read()"
   ]
  },
  {
   "cell_type": "code",
   "execution_count": 133,
   "id": "bdff589f",
   "metadata": {},
   "outputs": [
    {
     "data": {
      "text/plain": [
       "'\\nhello this is a text file\\nthis is the first line\\nthis is the second line\\n'"
      ]
     },
     "execution_count": 133,
     "metadata": {},
     "output_type": "execute_result"
    }
   ],
   "source": [
    "contents"
   ]
  },
  {
   "cell_type": "markdown",
   "id": "4d79afc0",
   "metadata": {},
   "source": [
    "# write to files "
   ]
  },
  {
   "cell_type": "code",
   "execution_count": 135,
   "id": "5af21571",
   "metadata": {},
   "outputs": [
    {
     "ename": "UnsupportedOperation",
     "evalue": "not readable",
     "output_type": "error",
     "traceback": [
      "\u001b[1;31m---------------------------------------------------------------------------\u001b[0m",
      "\u001b[1;31mUnsupportedOperation\u001b[0m                      Traceback (most recent call last)",
      "\u001b[1;32m<ipython-input-135-5d0823b8d66e>\u001b[0m in \u001b[0;36m<module>\u001b[1;34m\u001b[0m\n\u001b[0;32m      1\u001b[0m \u001b[1;32mwith\u001b[0m \u001b[0mopen\u001b[0m\u001b[1;33m(\u001b[0m\u001b[1;34m'myfile.txt'\u001b[0m\u001b[1;33m,\u001b[0m\u001b[0mmode\u001b[0m\u001b[1;33m=\u001b[0m\u001b[1;34m'w'\u001b[0m\u001b[1;33m)\u001b[0m \u001b[1;32mas\u001b[0m \u001b[0mnew_file\u001b[0m\u001b[1;33m:\u001b[0m\u001b[1;33m\u001b[0m\u001b[1;33m\u001b[0m\u001b[0m\n\u001b[1;32m----> 2\u001b[1;33m     \u001b[0mcontents\u001b[0m \u001b[1;33m=\u001b[0m \u001b[0mnew_file\u001b[0m\u001b[1;33m.\u001b[0m\u001b[0mread\u001b[0m\u001b[1;33m(\u001b[0m\u001b[1;33m)\u001b[0m\u001b[1;33m\u001b[0m\u001b[1;33m\u001b[0m\u001b[0m\n\u001b[0m\u001b[0;32m      3\u001b[0m \u001b[1;33m\u001b[0m\u001b[0m\n\u001b[0;32m      4\u001b[0m \u001b[0mcontents\u001b[0m\u001b[1;33m\u001b[0m\u001b[1;33m\u001b[0m\u001b[0m\n",
      "\u001b[1;31mUnsupportedOperation\u001b[0m: not readable"
     ]
    }
   ],
   "source": [
    "with open('myfile.txt',mode='w') as new_file:\n",
    "    contents = new_file.read()\n",
    "    \n",
    "contents"
   ]
  },
  {
   "cell_type": "code",
   "execution_count": 141,
   "id": "ec6baa96",
   "metadata": {},
   "outputs": [
    {
     "name": "stdout",
     "output_type": "stream",
     "text": [
      "Overwriting newfile.txt\n"
     ]
    }
   ],
   "source": [
    "%%writefile newfile.txt\n",
    "one on first\n",
    "two on second\n",
    "three on thirdd"
   ]
  },
  {
   "cell_type": "code",
   "execution_count": 142,
   "id": "99814ebc",
   "metadata": {},
   "outputs": [
    {
     "name": "stdout",
     "output_type": "stream",
     "text": [
      "one on first\n",
      "two on second\n",
      "three on thirdd\n",
      "\n"
     ]
    }
   ],
   "source": [
    "with open('newfile.txt',mode='r') as r:\n",
    "    print(r.read())"
   ]
  },
  {
   "cell_type": "code",
   "execution_count": 143,
   "id": "97a5a4eb",
   "metadata": {},
   "outputs": [],
   "source": [
    "with open('newfile.txt',mode='a') as a:\n",
    "    a.write('\\nfour on forth')\n"
   ]
  },
  {
   "cell_type": "code",
   "execution_count": 144,
   "id": "ef6a4d01",
   "metadata": {},
   "outputs": [
    {
     "name": "stdout",
     "output_type": "stream",
     "text": [
      "one on first\n",
      "two on second\n",
      "three on thirdd\n",
      "\n",
      "four on forth\n"
     ]
    }
   ],
   "source": [
    "with open('newfile.txt',mode='r') as r:\n",
    "    print(r.read())"
   ]
  },
  {
   "cell_type": "code",
   "execution_count": 145,
   "id": "bf52d283",
   "metadata": {},
   "outputs": [],
   "source": [
    "with open('write.txt',mode='w') as w:\n",
    "    w.write(\"i created this file\")"
   ]
  },
  {
   "cell_type": "code",
   "execution_count": 146,
   "id": "9e15c7e7",
   "metadata": {},
   "outputs": [
    {
     "name": "stdout",
     "output_type": "stream",
     "text": [
      "i created this file\n"
     ]
    }
   ],
   "source": [
    "with open('write.txt') as r:\n",
    "    print(r.read())"
   ]
  },
  {
   "cell_type": "code",
   "execution_count": 148,
   "id": "fa448745",
   "metadata": {},
   "outputs": [
    {
     "data": {
      "text/plain": [
       "90"
      ]
     },
     "execution_count": 148,
     "metadata": {},
     "output_type": "execute_result"
    }
   ],
   "source": [
    "abs(100-10)"
   ]
  },
  {
   "cell_type": "markdown",
   "id": "ddbd1aee",
   "metadata": {},
   "source": [
    "# Assessment"
   ]
  },
  {
   "cell_type": "code",
   "execution_count": 149,
   "id": "dba3694c",
   "metadata": {},
   "outputs": [
    {
     "name": "stdout",
     "output_type": "stream",
     "text": [
      "44\n",
      "29\n",
      "34\n"
     ]
    }
   ],
   "source": [
    "print(4*(6+5))\n",
    "print(4*6+5)\n",
    "print(4+6*5)"
   ]
  },
  {
   "cell_type": "code",
   "execution_count": 151,
   "id": "9a99560c",
   "metadata": {},
   "outputs": [
    {
     "data": {
      "text/plain": [
       "float"
      ]
     },
     "execution_count": 151,
     "metadata": {},
     "output_type": "execute_result"
    }
   ],
   "source": [
    "type(3 +1.5+4)"
   ]
  },
  {
   "cell_type": "code",
   "execution_count": 152,
   "id": "c3caca75",
   "metadata": {},
   "outputs": [
    {
     "name": "stdout",
     "output_type": "stream",
     "text": [
      "e\n"
     ]
    }
   ],
   "source": [
    "s = 'hello'\n",
    "print(s[1])"
   ]
  },
  {
   "cell_type": "code",
   "execution_count": 153,
   "id": "84a4f400",
   "metadata": {},
   "outputs": [
    {
     "name": "stdout",
     "output_type": "stream",
     "text": [
      "olleh\n"
     ]
    }
   ],
   "source": [
    "print(s[::-1])"
   ]
  },
  {
   "cell_type": "code",
   "execution_count": 154,
   "id": "540f7890",
   "metadata": {},
   "outputs": [
    {
     "name": "stdout",
     "output_type": "stream",
     "text": [
      "o\n"
     ]
    }
   ],
   "source": [
    "print(s[4])"
   ]
  },
  {
   "cell_type": "code",
   "execution_count": 155,
   "id": "38c31248",
   "metadata": {},
   "outputs": [
    {
     "name": "stdout",
     "output_type": "stream",
     "text": [
      "o\n"
     ]
    }
   ],
   "source": [
    "print(s[-1])"
   ]
  },
  {
   "cell_type": "code",
   "execution_count": 156,
   "id": "352f037c",
   "metadata": {},
   "outputs": [
    {
     "data": {
      "text/plain": [
       "[0, 0, 0]"
      ]
     },
     "execution_count": 156,
     "metadata": {},
     "output_type": "execute_result"
    }
   ],
   "source": [
    "lst = [0,0,0]\n",
    "lst"
   ]
  },
  {
   "cell_type": "code",
   "execution_count": 159,
   "id": "9a81befa",
   "metadata": {},
   "outputs": [],
   "source": [
    "lst1=[]\n",
    "lst1.append(0)"
   ]
  },
  {
   "cell_type": "code",
   "execution_count": 160,
   "id": "e344ec5f",
   "metadata": {},
   "outputs": [
    {
     "data": {
      "text/plain": [
       "[0, 0, 0]"
      ]
     },
     "execution_count": 160,
     "metadata": {},
     "output_type": "execute_result"
    }
   ],
   "source": [
    "lst1.append(0)\n",
    "lst1.append(0)\n",
    "lst1"
   ]
  },
  {
   "cell_type": "code",
   "execution_count": 162,
   "id": "b79a6ff1",
   "metadata": {},
   "outputs": [
    {
     "data": {
      "text/plain": [
       "[1, 2, [3, 4, 'goodbye']]"
      ]
     },
     "execution_count": 162,
     "metadata": {},
     "output_type": "execute_result"
    }
   ],
   "source": [
    "lst3 = [1,2,[3,4,'hello']]\n",
    "lst3[2][2] = 'goodbye'\n",
    "lst3"
   ]
  },
  {
   "cell_type": "code",
   "execution_count": 164,
   "id": "435aa31a",
   "metadata": {},
   "outputs": [
    {
     "data": {
      "text/plain": [
       "[1, 3, 4, 5, 6]"
      ]
     },
     "execution_count": 164,
     "metadata": {},
     "output_type": "execute_result"
    }
   ],
   "source": [
    "lst4 =[5,3,4,6,1]\n",
    "lst4.sort()\n",
    "lst4"
   ]
  },
  {
   "cell_type": "code",
   "execution_count": 165,
   "id": "9955788a",
   "metadata": {},
   "outputs": [
    {
     "data": {
      "text/plain": [
       "'hello'"
      ]
     },
     "execution_count": 165,
     "metadata": {},
     "output_type": "execute_result"
    }
   ],
   "source": [
    "d ={'simple_key':'hello'}\n",
    "d['simple_key']"
   ]
  },
  {
   "cell_type": "code",
   "execution_count": 166,
   "id": "dd5dfd36",
   "metadata": {},
   "outputs": [
    {
     "data": {
      "text/plain": [
       "'hello'"
      ]
     },
     "execution_count": 166,
     "metadata": {},
     "output_type": "execute_result"
    }
   ],
   "source": [
    "d ={'k1':{'k2':'hello'}}\n",
    "d['k1']['k2']"
   ]
  },
  {
   "cell_type": "code",
   "execution_count": 167,
   "id": "dc16014a",
   "metadata": {},
   "outputs": [],
   "source": [
    "# Getting a little tricker\n",
    "d = {'k1':[{'nest_key':['this is deep',['hello']]}]}\n",
    "\n",
    "#Grab hello"
   ]
  },
  {
   "cell_type": "code",
   "execution_count": 169,
   "id": "ffcc69c3",
   "metadata": {},
   "outputs": [
    {
     "data": {
      "text/plain": [
       "'hello'"
      ]
     },
     "execution_count": 169,
     "metadata": {},
     "output_type": "execute_result"
    }
   ],
   "source": [
    "d['k1'][0]['nest_key'][1][0]"
   ]
  },
  {
   "cell_type": "code",
   "execution_count": 170,
   "id": "faa24da8",
   "metadata": {},
   "outputs": [
    {
     "data": {
      "text/plain": [
       "'hello'"
      ]
     },
     "execution_count": 170,
     "metadata": {},
     "output_type": "execute_result"
    }
   ],
   "source": [
    "d = {'k1':[1,2,{'k2':['this is tricky',{'tough':[1,2,['hello']]}]}]}\n",
    "d['k1'][2]['k2'][1]['tough'][2][0]"
   ]
  },
  {
   "cell_type": "code",
   "execution_count": 171,
   "id": "873ff387",
   "metadata": {},
   "outputs": [
    {
     "data": {
      "text/plain": [
       "{1, 2, 3, 4, 11, 22, 33}"
      ]
     },
     "execution_count": 171,
     "metadata": {},
     "output_type": "execute_result"
    }
   ],
   "source": [
    "list5 = [1,2,2,33,4,4,11,22,3,3,2]\n",
    "s = set(list5)\n",
    "s"
   ]
  },
  {
   "cell_type": "code",
   "execution_count": 172,
   "id": "88b0aa29",
   "metadata": {},
   "outputs": [
    {
     "data": {
      "text/plain": [
       "True"
      ]
     },
     "execution_count": 172,
     "metadata": {},
     "output_type": "execute_result"
    }
   ],
   "source": [
    "3.0 ==3"
   ]
  },
  {
   "cell_type": "code",
   "execution_count": 173,
   "id": "90b3c620",
   "metadata": {},
   "outputs": [
    {
     "data": {
      "text/plain": [
       "False"
      ]
     },
     "execution_count": 173,
     "metadata": {},
     "output_type": "execute_result"
    }
   ],
   "source": [
    "l_one = [1,2,[3,4]]\n",
    "l_two = [1,2,{'k1':4}]\n",
    "\n",
    "# True or False?\n",
    "l_one[2][0] >= l_two[2]['k1']"
   ]
  },
  {
   "cell_type": "markdown",
   "id": "0844fed6",
   "metadata": {},
   "source": [
    "# Comparision operaators in python\n"
   ]
  },
  {
   "cell_type": "code",
   "execution_count": 1,
   "id": "1dd251c8",
   "metadata": {},
   "outputs": [
    {
     "data": {
      "text/plain": [
       "True"
      ]
     },
     "execution_count": 1,
     "metadata": {},
     "output_type": "execute_result"
    }
   ],
   "source": [
    "2 == 2"
   ]
  },
  {
   "cell_type": "code",
   "execution_count": 2,
   "id": "bfafb200",
   "metadata": {},
   "outputs": [
    {
     "data": {
      "text/plain": [
       "False"
      ]
     },
     "execution_count": 2,
     "metadata": {},
     "output_type": "execute_result"
    }
   ],
   "source": [
    "2 == 1"
   ]
  },
  {
   "cell_type": "code",
   "execution_count": 3,
   "id": "702ac323",
   "metadata": {},
   "outputs": [
    {
     "data": {
      "text/plain": [
       "False"
      ]
     },
     "execution_count": 3,
     "metadata": {},
     "output_type": "execute_result"
    }
   ],
   "source": [
    "'hello' == 'Hello'"
   ]
  },
  {
   "cell_type": "code",
   "execution_count": 4,
   "id": "c509bc11",
   "metadata": {},
   "outputs": [
    {
     "data": {
      "text/plain": [
       "True"
      ]
     },
     "execution_count": 4,
     "metadata": {},
     "output_type": "execute_result"
    }
   ],
   "source": [
    "'hello' == 'hello'"
   ]
  },
  {
   "cell_type": "code",
   "execution_count": 5,
   "id": "bd6a2392",
   "metadata": {},
   "outputs": [
    {
     "data": {
      "text/plain": [
       "True"
      ]
     },
     "execution_count": 5,
     "metadata": {},
     "output_type": "execute_result"
    }
   ],
   "source": [
    "'2' != 2"
   ]
  },
  {
   "cell_type": "code",
   "execution_count": 6,
   "id": "85f7399c",
   "metadata": {},
   "outputs": [
    {
     "data": {
      "text/plain": [
       "True"
      ]
     },
     "execution_count": 6,
     "metadata": {},
     "output_type": "execute_result"
    }
   ],
   "source": [
    "2 >1"
   ]
  },
  {
   "cell_type": "code",
   "execution_count": 7,
   "id": "f690eff8",
   "metadata": {},
   "outputs": [
    {
     "data": {
      "text/plain": [
       "False"
      ]
     },
     "execution_count": 7,
     "metadata": {},
     "output_type": "execute_result"
    }
   ],
   "source": [
    "1>2"
   ]
  },
  {
   "cell_type": "code",
   "execution_count": 8,
   "id": "8ec2b498",
   "metadata": {},
   "outputs": [
    {
     "data": {
      "text/plain": [
       "True"
      ]
     },
     "execution_count": 8,
     "metadata": {},
     "output_type": "execute_result"
    }
   ],
   "source": [
    "1<2"
   ]
  },
  {
   "cell_type": "code",
   "execution_count": 9,
   "id": "e0fdb799",
   "metadata": {},
   "outputs": [
    {
     "data": {
      "text/plain": [
       "False"
      ]
     },
     "execution_count": 9,
     "metadata": {},
     "output_type": "execute_result"
    }
   ],
   "source": [
    "2<1"
   ]
  },
  {
   "cell_type": "code",
   "execution_count": 10,
   "id": "106ac642",
   "metadata": {},
   "outputs": [
    {
     "data": {
      "text/plain": [
       "True"
      ]
     },
     "execution_count": 10,
     "metadata": {},
     "output_type": "execute_result"
    }
   ],
   "source": [
    "2 >=2"
   ]
  },
  {
   "cell_type": "markdown",
   "id": "d70b6a22",
   "metadata": {},
   "source": [
    "# chaining compaarision operators with logical operators"
   ]
  },
  {
   "cell_type": "code",
   "execution_count": 12,
   "id": "db9c09b6",
   "metadata": {},
   "outputs": [
    {
     "data": {
      "text/plain": [
       "True"
      ]
     },
     "execution_count": 12,
     "metadata": {},
     "output_type": "execute_result"
    }
   ],
   "source": [
    "1< 2 and 2<3"
   ]
  },
  {
   "cell_type": "code",
   "execution_count": 13,
   "id": "92ac78a1",
   "metadata": {},
   "outputs": [
    {
     "data": {
      "text/plain": [
       "True"
      ]
     },
     "execution_count": 13,
     "metadata": {},
     "output_type": "execute_result"
    }
   ],
   "source": [
    "1 < 2 and 3 >2"
   ]
  },
  {
   "cell_type": "code",
   "execution_count": 14,
   "id": "c75acff6",
   "metadata": {},
   "outputs": [
    {
     "data": {
      "text/plain": [
       "True"
      ]
     },
     "execution_count": 14,
     "metadata": {},
     "output_type": "execute_result"
    }
   ],
   "source": [
    "1 == 2 or 1== 1"
   ]
  },
  {
   "cell_type": "code",
   "execution_count": 15,
   "id": "ffda1ffc",
   "metadata": {},
   "outputs": [
    {
     "data": {
      "text/plain": [
       "False"
      ]
     },
     "execution_count": 15,
     "metadata": {},
     "output_type": "execute_result"
    }
   ],
   "source": [
    "not 1==1"
   ]
  },
  {
   "cell_type": "markdown",
   "id": "2e96faf3",
   "metadata": {},
   "source": [
    "# If elif and else statements in python"
   ]
  },
  {
   "cell_type": "code",
   "execution_count": 16,
   "id": "52064611",
   "metadata": {},
   "outputs": [
    {
     "name": "stdout",
     "output_type": "stream",
     "text": [
      "Its true\n"
     ]
    }
   ],
   "source": [
    "if True:\n",
    "    print(\"Its true\")"
   ]
  },
  {
   "cell_type": "code",
   "execution_count": 17,
   "id": "f8a2c181",
   "metadata": {},
   "outputs": [
    {
     "name": "stdout",
     "output_type": "stream",
     "text": [
      "true\n"
     ]
    }
   ],
   "source": [
    "if 3 >2:\n",
    "    print(\"true\")"
   ]
  },
  {
   "cell_type": "code",
   "execution_count": 19,
   "id": "a843eeb9",
   "metadata": {},
   "outputs": [
    {
     "name": "stdout",
     "output_type": "stream",
     "text": [
      "feed me\n"
     ]
    }
   ],
   "source": [
    "hungry = True\n",
    "if hungry:\n",
    "    print(\"feed me\")"
   ]
  },
  {
   "cell_type": "code",
   "execution_count": 20,
   "id": "b89d5a9c",
   "metadata": {},
   "outputs": [
    {
     "name": "stdout",
     "output_type": "stream",
     "text": [
      "don't feed me\n"
     ]
    }
   ],
   "source": [
    "hungry = False\n",
    "\n",
    "if hungry:\n",
    "    print('feed me')\n",
    "else:\n",
    "    print(\"don't feed me\")\n",
    "    "
   ]
  },
  {
   "cell_type": "code",
   "execution_count": 22,
   "id": "7638273e",
   "metadata": {},
   "outputs": [
    {
     "name": "stdout",
     "output_type": "stream",
     "text": [
      "money\n"
     ]
    }
   ],
   "source": [
    "loc ='bank'\n",
    "\n",
    "if loc == 'autoshop':\n",
    "    print(\"cool\")\n",
    "elif loc == 'bank':\n",
    "    print('money')\n",
    "else:\n",
    "    print(\"i don't know\")"
   ]
  },
  {
   "cell_type": "markdown",
   "id": "048bfefb",
   "metadata": {},
   "source": [
    "# for loops"
   ]
  },
  {
   "cell_type": "code",
   "execution_count": 23,
   "id": "126ac1bd",
   "metadata": {},
   "outputs": [
    {
     "name": "stdout",
     "output_type": "stream",
     "text": [
      "1\n",
      "2\n",
      "3\n"
     ]
    }
   ],
   "source": [
    "l =[1,2,3]\n",
    "for i in l:\n",
    "    print(i)"
   ]
  },
  {
   "cell_type": "code",
   "execution_count": 24,
   "id": "c38b4b63",
   "metadata": {},
   "outputs": [
    {
     "name": "stdout",
     "output_type": "stream",
     "text": [
      "r\n",
      "h\n",
      "e\n",
      "a\n"
     ]
    }
   ],
   "source": [
    "s ='rhea'\n",
    "for i in s:\n",
    "    print(i)"
   ]
  },
  {
   "cell_type": "code",
   "execution_count": 30,
   "id": "01ac6756",
   "metadata": {},
   "outputs": [
    {
     "name": "stdout",
     "output_type": "stream",
     "text": [
      "45\n"
     ]
    }
   ],
   "source": [
    "l =[1,2,3,4,5,6,7,8,9]\n",
    "sum =0\n",
    "for i in l:\n",
    "    sum = i + sum\n",
    "    \n",
    "print(sum)\n"
   ]
  },
  {
   "cell_type": "code",
   "execution_count": 33,
   "id": "dbbf6648",
   "metadata": {},
   "outputs": [
    {
     "name": "stdout",
     "output_type": "stream",
     "text": [
      "1\n",
      "3\n",
      "6\n",
      "10\n",
      "15\n",
      "21\n",
      "28\n",
      "36\n",
      "45\n"
     ]
    }
   ],
   "source": [
    "l =[1,2,3,4,5,6,7,8,9]\n",
    "sum =0\n",
    "for i in l:\n",
    "    sum = i + sum\n",
    "    \n",
    "    print(sum)\n"
   ]
  },
  {
   "cell_type": "code",
   "execution_count": 32,
   "id": "af479d2e",
   "metadata": {},
   "outputs": [
    {
     "name": "stdout",
     "output_type": "stream",
     "text": [
      "odd number:1\n",
      "2\n",
      "odd number:3\n",
      "4\n",
      "odd number:5\n",
      "6\n",
      "odd number:7\n",
      "8\n",
      "odd number:9\n"
     ]
    }
   ],
   "source": [
    "for i in l:\n",
    "    if i%2 == 0:\n",
    "        print(i)\n",
    "    else:\n",
    "        print('odd number:{}'.format(i))"
   ]
  },
  {
   "cell_type": "code",
   "execution_count": 34,
   "id": "75508ee8",
   "metadata": {},
   "outputs": [
    {
     "name": "stdout",
     "output_type": "stream",
     "text": [
      "h\n",
      "e\n",
      "l\n",
      "l\n",
      "o\n",
      " \n",
      "w\n",
      "o\n",
      "r\n",
      "l\n",
      "d\n"
     ]
    }
   ],
   "source": [
    "for letter in 'hello world':\n",
    "    print(letter)"
   ]
  },
  {
   "cell_type": "code",
   "execution_count": 35,
   "id": "104c3b3a",
   "metadata": {},
   "outputs": [
    {
     "name": "stdout",
     "output_type": "stream",
     "text": [
      "1\n",
      "2\n",
      "3\n"
     ]
    }
   ],
   "source": [
    "tup =(1,2,3)\n",
    "for i in tup:\n",
    "    print(i)"
   ]
  },
  {
   "cell_type": "markdown",
   "id": "f0161ec5",
   "metadata": {},
   "source": [
    "# unpacking of tuples"
   ]
  },
  {
   "cell_type": "code",
   "execution_count": 36,
   "id": "63d9dd66",
   "metadata": {},
   "outputs": [],
   "source": [
    "listoftup = [(1,2),(2,3),(3,4)]"
   ]
  },
  {
   "cell_type": "code",
   "execution_count": 38,
   "id": "2421c203",
   "metadata": {},
   "outputs": [
    {
     "name": "stdout",
     "output_type": "stream",
     "text": [
      "(1, 2)\n",
      "(2, 3)\n",
      "(3, 4)\n"
     ]
    }
   ],
   "source": [
    "for item in listoftup:\n",
    "    print(item)"
   ]
  },
  {
   "cell_type": "code",
   "execution_count": 39,
   "id": "287ef240",
   "metadata": {},
   "outputs": [
    {
     "name": "stdout",
     "output_type": "stream",
     "text": [
      "1\n",
      "2\n",
      "3\n"
     ]
    }
   ],
   "source": [
    "for (a,b) in listoftup:\n",
    "    print(a) "
   ]
  },
  {
   "cell_type": "code",
   "execution_count": 40,
   "id": "a0e527fa",
   "metadata": {},
   "outputs": [
    {
     "name": "stdout",
     "output_type": "stream",
     "text": [
      "2\n",
      "3\n",
      "4\n"
     ]
    }
   ],
   "source": [
    "for a,b in listoftup:\n",
    "    print(b)"
   ]
  },
  {
   "cell_type": "markdown",
   "id": "7997ab18",
   "metadata": {},
   "source": [
    "# iterating for loop on a dictionary"
   ]
  },
  {
   "cell_type": "code",
   "execution_count": 41,
   "id": "0c7ce673",
   "metadata": {},
   "outputs": [],
   "source": [
    "d ={'k1':1,'k2':2,'k3':3}"
   ]
  },
  {
   "cell_type": "code",
   "execution_count": 42,
   "id": "0f839e7d",
   "metadata": {},
   "outputs": [
    {
     "name": "stdout",
     "output_type": "stream",
     "text": [
      "k1\n",
      "k2\n",
      "k3\n"
     ]
    }
   ],
   "source": [
    "for item in d:\n",
    "    print(item)"
   ]
  },
  {
   "cell_type": "code",
   "execution_count": 44,
   "id": "738d255d",
   "metadata": {},
   "outputs": [
    {
     "name": "stdout",
     "output_type": "stream",
     "text": [
      "('k1', 1)\n",
      "('k2', 2)\n",
      "('k3', 3)\n"
     ]
    }
   ],
   "source": [
    "for item in d.items():\n",
    "    print(item)"
   ]
  },
  {
   "cell_type": "code",
   "execution_count": 45,
   "id": "0de14afa",
   "metadata": {},
   "outputs": [
    {
     "name": "stdout",
     "output_type": "stream",
     "text": [
      "1\n",
      "2\n",
      "3\n"
     ]
    }
   ],
   "source": [
    "for key,value in d:\n",
    "    print(value)"
   ]
  },
  {
   "cell_type": "markdown",
   "id": "426c663d",
   "metadata": {},
   "source": [
    "# while loops"
   ]
  },
  {
   "cell_type": "code",
   "execution_count": 46,
   "id": "5f4a18d4",
   "metadata": {},
   "outputs": [
    {
     "name": "stdout",
     "output_type": "stream",
     "text": [
      "0\n",
      "1\n",
      "2\n",
      "3\n",
      "4\n"
     ]
    }
   ],
   "source": [
    "x = 0\n",
    "while x  <5:\n",
    "    print(x)\n",
    "    x =  x+1"
   ]
  },
  {
   "cell_type": "code",
   "execution_count": 47,
   "id": "87c3d6d3",
   "metadata": {},
   "outputs": [
    {
     "name": "stdout",
     "output_type": "stream",
     "text": [
      "9\n"
     ]
    }
   ],
   "source": [
    "x = 9\n",
    "while x  <5:\n",
    "    print(x)\n",
    "    x =  x+1\n",
    "else:\n",
    "    print(x)"
   ]
  },
  {
   "cell_type": "markdown",
   "id": "8e8d6548",
   "metadata": {},
   "source": [
    "# pass"
   ]
  },
  {
   "cell_type": "code",
   "execution_count": 48,
   "id": "923c9a68",
   "metadata": {},
   "outputs": [],
   "source": [
    "l =[1,2,3]\n",
    "for  i in l:\n",
    "    pass"
   ]
  },
  {
   "cell_type": "code",
   "execution_count": 49,
   "id": "80234336",
   "metadata": {},
   "outputs": [
    {
     "name": "stdout",
     "output_type": "stream",
     "text": [
      "r\n",
      "h\n",
      "e\n",
      "a\n",
      "b\n",
      "a\n",
      "s\n",
      "a\n",
      "p\n",
      "p\n",
      "a\n"
     ]
    }
   ],
   "source": [
    "s ='rheabasappa'\n",
    "\n",
    "for i in s:\n",
    "    print(i)"
   ]
  },
  {
   "cell_type": "markdown",
   "id": "c0ce5403",
   "metadata": {},
   "source": [
    "# continue"
   ]
  },
  {
   "cell_type": "markdown",
   "id": "e20cf63f",
   "metadata": {},
   "source": [
    "continue : Tells to go back to the closest enclosing loop"
   ]
  },
  {
   "cell_type": "code",
   "execution_count": 51,
   "id": "3c57a98f",
   "metadata": {},
   "outputs": [
    {
     "name": "stdout",
     "output_type": "stream",
     "text": [
      "r\n",
      "h\n",
      "e\n",
      "b\n",
      "s\n",
      "p\n",
      "p\n"
     ]
    }
   ],
   "source": [
    "for i in s:\n",
    "    if i == 'a':\n",
    "        continue\n",
    "    \n",
    "    print(i)"
   ]
  },
  {
   "cell_type": "markdown",
   "id": "c169e901",
   "metadata": {},
   "source": [
    "# break"
   ]
  },
  {
   "cell_type": "markdown",
   "id": "3ab71cd5",
   "metadata": {},
   "source": [
    "break : breaks out of current enclosing loop"
   ]
  },
  {
   "cell_type": "code",
   "execution_count": 52,
   "id": "32c6fd32",
   "metadata": {},
   "outputs": [
    {
     "name": "stdout",
     "output_type": "stream",
     "text": [
      "r\n",
      "h\n",
      "e\n"
     ]
    }
   ],
   "source": [
    "for i in s:\n",
    "    if i == 'a':\n",
    "        break\n",
    "    \n",
    "    print(i)"
   ]
  },
  {
   "cell_type": "code",
   "execution_count": 53,
   "id": "de95d686",
   "metadata": {},
   "outputs": [
    {
     "name": "stdout",
     "output_type": "stream",
     "text": [
      "0\n",
      "1\n",
      "2\n",
      "3\n",
      "4\n"
     ]
    }
   ],
   "source": [
    "x = 0\n",
    "\n",
    "while x< 5:\n",
    "    print(x)\n",
    "    x = x+1  "
   ]
  },
  {
   "cell_type": "code",
   "execution_count": 54,
   "id": "d5e62bd0",
   "metadata": {},
   "outputs": [
    {
     "name": "stdout",
     "output_type": "stream",
     "text": [
      "0\n",
      "1\n"
     ]
    }
   ],
   "source": [
    "x = 0\n",
    "\n",
    "while x< 5:\n",
    "    if x == 2:\n",
    "        break\n",
    "    print(x)\n",
    "    x = x+1  "
   ]
  },
  {
   "cell_type": "markdown",
   "id": "2c7745dd",
   "metadata": {},
   "source": [
    "# Useful operators"
   ]
  },
  {
   "cell_type": "markdown",
   "id": "12d61aa9",
   "metadata": {},
   "source": [
    "# range"
   ]
  },
  {
   "cell_type": "code",
   "execution_count": 58,
   "id": "3cd1bef0",
   "metadata": {},
   "outputs": [
    {
     "name": "stdout",
     "output_type": "stream",
     "text": [
      "r\n",
      "h\n",
      "e\n",
      "a\n",
      "b\n",
      "a\n",
      "s\n",
      "a\n",
      "p\n",
      "p\n",
      "a\n"
     ]
    }
   ],
   "source": [
    "s ='rheabasappa'\n",
    "for i in range(len(s)):\n",
    "   \n",
    "    print(s[i])"
   ]
  },
  {
   "cell_type": "markdown",
   "id": "b1cdae8c",
   "metadata": {},
   "source": [
    "range is is a generator"
   ]
  },
  {
   "cell_type": "code",
   "execution_count": 59,
   "id": "c7069961",
   "metadata": {},
   "outputs": [
    {
     "data": {
      "text/plain": [
       "range(0, 13, 2)"
      ]
     },
     "execution_count": 59,
     "metadata": {},
     "output_type": "execute_result"
    }
   ],
   "source": [
    "range(0,13,2)"
   ]
  },
  {
   "cell_type": "code",
   "execution_count": 60,
   "id": "1b26ec45",
   "metadata": {},
   "outputs": [
    {
     "data": {
      "text/plain": [
       "[0, 2, 4, 6, 8, 10, 12]"
      ]
     },
     "execution_count": 60,
     "metadata": {},
     "output_type": "execute_result"
    }
   ],
   "source": [
    "list(range(0,13,2))"
   ]
  },
  {
   "cell_type": "markdown",
   "id": "e271d73e",
   "metadata": {},
   "source": [
    "# enumerate"
   ]
  },
  {
   "cell_type": "markdown",
   "id": "9aef6106",
   "metadata": {},
   "source": [
    "enumerate: it takes in any  iterable  and  returns  a tuple of index  count  and  the  object at that index count in the  iterable"
   ]
  },
  {
   "cell_type": "code",
   "execution_count": 61,
   "id": "f32f4f2d",
   "metadata": {},
   "outputs": [
    {
     "name": "stdout",
     "output_type": "stream",
     "text": [
      "at index 0 the letter is r\n",
      "at index 1 the letter is h\n",
      "at index 2 the letter is e\n",
      "at index 3 the letter is a\n",
      "at index 4 the letter is b\n",
      "at index 5 the letter is a\n",
      "at index 6 the letter is s\n",
      "at index 7 the letter is a\n",
      "at index 8 the letter is p\n",
      "at index 9 the letter is p\n",
      "at index 10 the letter is a\n"
     ]
    }
   ],
   "source": [
    "index_count =0\n",
    "for i in 'rheabasappa':\n",
    "    print('at index {} the letter is {}'.format(index_count,i))\n",
    "    index_count += 1\n",
    "   \n",
    "    "
   ]
  },
  {
   "cell_type": "code",
   "execution_count": 62,
   "id": "e0a95b20",
   "metadata": {},
   "outputs": [
    {
     "name": "stdout",
     "output_type": "stream",
     "text": [
      "(0, 'r')\n",
      "(1, 'h')\n",
      "(2, 'e')\n",
      "(3, 'a')\n",
      "(4, 'b')\n",
      "(5, 'a')\n",
      "(6, 's')\n",
      "(7, 'a')\n",
      "(8, 'p')\n",
      "(9, 'p')\n",
      "(10, 'a')\n"
     ]
    }
   ],
   "source": [
    "word = 'rheabasappa'\n",
    "for item in enumerate(word):\n",
    "    print(item)"
   ]
  },
  {
   "cell_type": "code",
   "execution_count": 63,
   "id": "87507562",
   "metadata": {},
   "outputs": [
    {
     "name": "stdout",
     "output_type": "stream",
     "text": [
      "index is 0 the letter is r\n",
      "index is 1 the letter is h\n",
      "index is 2 the letter is e\n",
      "index is 3 the letter is a\n",
      "index is 4 the letter is b\n",
      "index is 5 the letter is a\n",
      "index is 6 the letter is s\n",
      "index is 7 the letter is a\n",
      "index is 8 the letter is p\n",
      "index is 9 the letter is p\n",
      "index is 10 the letter is a\n"
     ]
    }
   ],
   "source": [
    "word = 'rheabasappa'\n",
    "for index,letter in enumerate(word):\n",
    "    print('index is {} the letter is {}'.format(index,letter))"
   ]
  },
  {
   "cell_type": "markdown",
   "id": "674267c1",
   "metadata": {},
   "source": [
    "# zip"
   ]
  },
  {
   "cell_type": "code",
   "execution_count": 64,
   "id": "4b7d540b",
   "metadata": {},
   "outputs": [
    {
     "data": {
      "text/plain": [
       "<zip at 0x298924712c0>"
      ]
     },
     "execution_count": 64,
     "metadata": {},
     "output_type": "execute_result"
    }
   ],
   "source": [
    "l1 =[1,2,3]\n",
    "l2 =['a','b','c']\n",
    "l3 = ['1.1','2.2','3.3']\n",
    "\n",
    "zip(l1,l2,l3)"
   ]
  },
  {
   "cell_type": "code",
   "execution_count": 66,
   "id": "2232760f",
   "metadata": {},
   "outputs": [
    {
     "name": "stdout",
     "output_type": "stream",
     "text": [
      "(1, 'a', '1.1')\n",
      "(2, 'b', '2.2')\n",
      "(3, 'c', '3.3')\n"
     ]
    }
   ],
   "source": [
    "for item in zip(l1,l2,l3):\n",
    "    print(item)"
   ]
  },
  {
   "cell_type": "code",
   "execution_count": 68,
   "id": "ec4c2b23",
   "metadata": {},
   "outputs": [
    {
     "name": "stdout",
     "output_type": "stream",
     "text": [
      "a\n",
      "b\n",
      "c\n"
     ]
    }
   ],
   "source": [
    "for i,j,k in zip(l1,l2,l3):\n",
    "    print(j)"
   ]
  },
  {
   "cell_type": "code",
   "execution_count": 69,
   "id": "dc6bde20",
   "metadata": {},
   "outputs": [
    {
     "data": {
      "text/plain": [
       "[(1, 'a', '1.1'), (2, 'b', '2.2'), (3, 'c', '3.3')]"
      ]
     },
     "execution_count": 69,
     "metadata": {},
     "output_type": "execute_result"
    }
   ],
   "source": [
    "list(zip(l1,l2,l3))"
   ]
  },
  {
   "cell_type": "markdown",
   "id": "5980058a",
   "metadata": {},
   "source": [
    "# in operator"
   ]
  },
  {
   "cell_type": "code",
   "execution_count": 70,
   "id": "b9989e43",
   "metadata": {},
   "outputs": [
    {
     "data": {
      "text/plain": [
       "False"
      ]
     },
     "execution_count": 70,
     "metadata": {},
     "output_type": "execute_result"
    }
   ],
   "source": [
    "'x'  in [1,2,3]"
   ]
  },
  {
   "cell_type": "code",
   "execution_count": 71,
   "id": "40189ce1",
   "metadata": {},
   "outputs": [
    {
     "data": {
      "text/plain": [
       "True"
      ]
     },
     "execution_count": 71,
     "metadata": {},
     "output_type": "execute_result"
    }
   ],
   "source": [
    "'x' in  ['x','y','z']"
   ]
  },
  {
   "cell_type": "code",
   "execution_count": 72,
   "id": "9bc684b0",
   "metadata": {},
   "outputs": [
    {
     "data": {
      "text/plain": [
       "True"
      ]
     },
     "execution_count": 72,
     "metadata": {},
     "output_type": "execute_result"
    }
   ],
   "source": [
    "'a' in 'rhea'"
   ]
  },
  {
   "cell_type": "code",
   "execution_count": 73,
   "id": "9ba9eea4",
   "metadata": {},
   "outputs": [
    {
     "data": {
      "text/plain": [
       "True"
      ]
     },
     "execution_count": 73,
     "metadata": {},
     "output_type": "execute_result"
    }
   ],
   "source": [
    "'a' in {'a':1,'b':2}"
   ]
  },
  {
   "cell_type": "code",
   "execution_count": 74,
   "id": "46796920",
   "metadata": {},
   "outputs": [
    {
     "data": {
      "text/plain": [
       "True"
      ]
     },
     "execution_count": 74,
     "metadata": {},
     "output_type": "execute_result"
    }
   ],
   "source": [
    "d = {'a':1,'b':2}\n",
    "2 in d.values()"
   ]
  },
  {
   "cell_type": "code",
   "execution_count": 75,
   "id": "454f542d",
   "metadata": {},
   "outputs": [
    {
     "data": {
      "text/plain": [
       "False"
      ]
     },
     "execution_count": 75,
     "metadata": {},
     "output_type": "execute_result"
    }
   ],
   "source": [
    "2 in d.keys()"
   ]
  },
  {
   "cell_type": "markdown",
   "id": "9056f949",
   "metadata": {},
   "source": [
    "Minimum function"
   ]
  },
  {
   "cell_type": "code",
   "execution_count": 76,
   "id": "cc21b2d2",
   "metadata": {},
   "outputs": [
    {
     "data": {
      "text/plain": [
       "1"
      ]
     },
     "execution_count": 76,
     "metadata": {},
     "output_type": "execute_result"
    }
   ],
   "source": [
    "min(l1)"
   ]
  },
  {
   "cell_type": "markdown",
   "id": "d3a965ed",
   "metadata": {},
   "source": [
    "Maximum  function"
   ]
  },
  {
   "cell_type": "code",
   "execution_count": 77,
   "id": "36179031",
   "metadata": {},
   "outputs": [
    {
     "data": {
      "text/plain": [
       "3"
      ]
     },
     "execution_count": 77,
     "metadata": {},
     "output_type": "execute_result"
    }
   ],
   "source": [
    "max(l1)"
   ]
  },
  {
   "cell_type": "markdown",
   "id": "afc84f27",
   "metadata": {},
   "source": [
    "# random"
   ]
  },
  {
   "cell_type": "code",
   "execution_count": 79,
   "id": "291ef67f",
   "metadata": {},
   "outputs": [],
   "source": [
    "from random import shuffle"
   ]
  },
  {
   "cell_type": "code",
   "execution_count": 81,
   "id": "e25f8a31",
   "metadata": {},
   "outputs": [
    {
     "data": {
      "text/plain": [
       "[3, 2, 4, 1, 7, 5, 9, 6, 8]"
      ]
     },
     "execution_count": 81,
     "metadata": {},
     "output_type": "execute_result"
    }
   ],
   "source": [
    "l = [1,2,3,4,5,6,7,8,9]\n",
    "shuffle(l)\n",
    "l"
   ]
  },
  {
   "cell_type": "code",
   "execution_count": 83,
   "id": "ec40c516",
   "metadata": {},
   "outputs": [],
   "source": [
    "from random import randint"
   ]
  },
  {
   "cell_type": "code",
   "execution_count": 84,
   "id": "8c2ec027",
   "metadata": {},
   "outputs": [
    {
     "data": {
      "text/plain": [
       "29"
      ]
     },
     "execution_count": 84,
     "metadata": {},
     "output_type": "execute_result"
    }
   ],
   "source": [
    "randint(0,100)"
   ]
  },
  {
   "cell_type": "markdown",
   "id": "9b0747fd",
   "metadata": {},
   "source": [
    "# input"
   ]
  },
  {
   "cell_type": "code",
   "execution_count": 86,
   "id": "4142e79b",
   "metadata": {},
   "outputs": [
    {
     "name": "stdout",
     "output_type": "stream",
     "text": [
      "what  is your name rhea\n"
     ]
    }
   ],
   "source": [
    "name  = input(\"what  is your name \")"
   ]
  },
  {
   "cell_type": "code",
   "execution_count": 87,
   "id": "5e697bc6",
   "metadata": {},
   "outputs": [
    {
     "data": {
      "text/plain": [
       "'rhea'"
      ]
     },
     "execution_count": 87,
     "metadata": {},
     "output_type": "execute_result"
    }
   ],
   "source": [
    "name"
   ]
  },
  {
   "cell_type": "code",
   "execution_count": null,
   "id": "7dcee9ad",
   "metadata": {},
   "outputs": [],
   "source": []
  }
 ],
 "metadata": {
  "kernelspec": {
   "display_name": "Python 3",
   "language": "python",
   "name": "python3"
  },
  "language_info": {
   "codemirror_mode": {
    "name": "ipython",
    "version": 3
   },
   "file_extension": ".py",
   "mimetype": "text/x-python",
   "name": "python",
   "nbconvert_exporter": "python",
   "pygments_lexer": "ipython3",
   "version": "3.8.8"
  }
 },
 "nbformat": 4,
 "nbformat_minor": 5
}
