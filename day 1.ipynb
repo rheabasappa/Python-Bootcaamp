{
 "cells": [
  {
   "cell_type": "markdown",
   "id": "8451c1cd",
   "metadata": {},
   "source": [
    "# lesson 1\n"
   ]
  },
  {
   "cell_type": "code",
   "execution_count": 1,
   "id": "eb9a9889",
   "metadata": {},
   "outputs": [
    {
     "data": {
      "text/plain": [
       "2"
      ]
     },
     "execution_count": 1,
     "metadata": {},
     "output_type": "execute_result"
    }
   ],
   "source": [
    "1+1\n"
   ]
  },
  {
   "cell_type": "code",
   "execution_count": 2,
   "id": "11db798f",
   "metadata": {},
   "outputs": [
    {
     "name": "stdout",
     "output_type": "stream",
     "text": [
      "Hello world\n"
     ]
    }
   ],
   "source": [
    "print(\"Hello world\")"
   ]
  },
  {
   "cell_type": "markdown",
   "id": "69fcd49f",
   "metadata": {},
   "source": [
    "# lesson 2"
   ]
  },
  {
   "cell_type": "markdown",
   "id": "5c91cbc3",
   "metadata": {},
   "source": [
    "1. python numbers"
   ]
  },
  {
   "cell_type": "code",
   "execution_count": 1,
   "id": "d18d7130",
   "metadata": {},
   "outputs": [
    {
     "data": {
      "text/plain": [
       "4"
      ]
     },
     "execution_count": 1,
     "metadata": {},
     "output_type": "execute_result"
    }
   ],
   "source": [
    "2+2"
   ]
  },
  {
   "cell_type": "code",
   "execution_count": 2,
   "id": "59c4a30e",
   "metadata": {},
   "outputs": [
    {
     "data": {
      "text/plain": [
       "1"
      ]
     },
     "execution_count": 2,
     "metadata": {},
     "output_type": "execute_result"
    }
   ],
   "source": [
    "2-1"
   ]
  },
  {
   "cell_type": "code",
   "execution_count": 3,
   "id": "c9f59610",
   "metadata": {},
   "outputs": [
    {
     "data": {
      "text/plain": [
       "2"
      ]
     },
     "execution_count": 3,
     "metadata": {},
     "output_type": "execute_result"
    }
   ],
   "source": [
    "2*1\n"
   ]
  },
  {
   "cell_type": "code",
   "execution_count": 4,
   "id": "9d77c891",
   "metadata": {},
   "outputs": [
    {
     "data": {
      "text/plain": [
       "2.0"
      ]
     },
     "execution_count": 4,
     "metadata": {},
     "output_type": "execute_result"
    }
   ],
   "source": [
    "2/1"
   ]
  },
  {
   "cell_type": "code",
   "execution_count": 5,
   "id": "0ffb14a1",
   "metadata": {},
   "outputs": [
    {
     "data": {
      "text/plain": [
       "1.75"
      ]
     },
     "execution_count": 5,
     "metadata": {},
     "output_type": "execute_result"
    }
   ],
   "source": [
    "7/4"
   ]
  },
  {
   "cell_type": "code",
   "execution_count": 6,
   "id": "025589d8",
   "metadata": {},
   "outputs": [
    {
     "data": {
      "text/plain": [
       "1"
      ]
     },
     "execution_count": 6,
     "metadata": {},
     "output_type": "execute_result"
    }
   ],
   "source": [
    "7//4"
   ]
  },
  {
   "cell_type": "code",
   "execution_count": 8,
   "id": "80dd7b99",
   "metadata": {},
   "outputs": [
    {
     "name": "stdout",
     "output_type": "stream",
     "text": [
      "modulus operaator - gives the remainder\n"
     ]
    },
    {
     "data": {
      "text/plain": [
       "3"
      ]
     },
     "execution_count": 8,
     "metadata": {},
     "output_type": "execute_result"
    }
   ],
   "source": [
    "print(\"modulus operator - gives the remainder\")\n",
    "7%4"
   ]
  },
  {
   "cell_type": "code",
   "execution_count": 13,
   "id": "5dcfebb4",
   "metadata": {},
   "outputs": [
    {
     "name": "stdout",
     "output_type": "stream",
     "text": [
      "even or odd number\n",
      "enter a number5\n",
      "odd number\n"
     ]
    }
   ],
   "source": [
    "print(\"even or odd number\")\n",
    "\n",
    "num = input(\"enter a number\")\n",
    "n = int(num)\n",
    "if (n % 2) == 0:\n",
    "    print(\"even number\")\n",
    "else:\n",
    "    print('odd number')"
   ]
  },
  {
   "cell_type": "code",
   "execution_count": 14,
   "id": "7f072378",
   "metadata": {},
   "outputs": [
    {
     "name": "stdout",
     "output_type": "stream",
     "text": [
      "power of\n"
     ]
    },
    {
     "data": {
      "text/plain": [
       "64"
      ]
     },
     "execution_count": 14,
     "metadata": {},
     "output_type": "execute_result"
    }
   ],
   "source": [
    "print(\"power of\")\n",
    "4**3"
   ]
  },
  {
   "cell_type": "code",
   "execution_count": 15,
   "id": "bcdf06cb",
   "metadata": {},
   "outputs": [
    {
     "name": "stdout",
     "output_type": "stream",
     "text": [
      "variable name\n"
     ]
    }
   ],
   "source": [
    "print(\"variable name\")"
   ]
  },
  {
   "cell_type": "code",
   "execution_count": 20,
   "id": "113c325d",
   "metadata": {},
   "outputs": [
    {
     "name": "stdout",
     "output_type": "stream",
     "text": [
      "2\n",
      "<class 'int'>\n",
      "['rhea', 'shash']\n",
      "<class 'list'>\n"
     ]
    }
   ],
   "source": [
    "#variables are dynamically typed in python\n",
    "my_dog = 2\n",
    "print(my_dog)\n",
    "print(type(my_dog))\n",
    "my_dog =['rhea','shash']\n",
    "print(my_dog)\n",
    "print(type(my_dog))"
   ]
  },
  {
   "cell_type": "code",
   "execution_count": 21,
   "id": "b9e1c68e",
   "metadata": {},
   "outputs": [],
   "source": [
    "my_income = 100\n",
    "\n",
    "tax_rate = 0.1\n",
    "\n",
    "my_tax = my_income * tax_rate"
   ]
  },
  {
   "cell_type": "code",
   "execution_count": 22,
   "id": "0f18b024",
   "metadata": {},
   "outputs": [
    {
     "data": {
      "text/plain": [
       "10.0"
      ]
     },
     "execution_count": 22,
     "metadata": {},
     "output_type": "execute_result"
    }
   ],
   "source": [
    "my_tax"
   ]
  },
  {
   "cell_type": "code",
   "execution_count": 23,
   "id": "ae9794fe",
   "metadata": {},
   "outputs": [
    {
     "name": "stdout",
     "output_type": "stream",
     "text": [
      "strings\n"
     ]
    }
   ],
   "source": [
    "print(\"strings\")"
   ]
  },
  {
   "cell_type": "code",
   "execution_count": 31,
   "id": "18ad8961",
   "metadata": {},
   "outputs": [],
   "source": [
    "my_string = 'I am a bad girl'\n"
   ]
  },
  {
   "cell_type": "code",
   "execution_count": 25,
   "id": "2044b32e",
   "metadata": {},
   "outputs": [
    {
     "data": {
      "text/plain": [
       "'l'"
      ]
     },
     "execution_count": 25,
     "metadata": {},
     "output_type": "execute_result"
    }
   ],
   "source": [
    "my_string[-1]"
   ]
  },
  {
   "cell_type": "code",
   "execution_count": 26,
   "id": "48e77b28",
   "metadata": {},
   "outputs": [
    {
     "name": "stdout",
     "output_type": "stream",
     "text": [
      "hello\n"
     ]
    }
   ],
   "source": [
    "print(\"hello\")"
   ]
  },
  {
   "cell_type": "code",
   "execution_count": 28,
   "id": "cf56e875",
   "metadata": {},
   "outputs": [
    {
     "name": "stdout",
     "output_type": "stream",
     "text": [
      "I \n",
      "am \n",
      "a \n",
      "bad \n",
      "girl\n"
     ]
    }
   ],
   "source": [
    "print('I \\nam \\na \\nbad \\ngirl')"
   ]
  },
  {
   "cell_type": "code",
   "execution_count": 29,
   "id": "0c005f2d",
   "metadata": {},
   "outputs": [
    {
     "data": {
      "text/plain": [
       "15"
      ]
     },
     "execution_count": 29,
     "metadata": {},
     "output_type": "execute_result"
    }
   ],
   "source": [
    "len(my_string)"
   ]
  },
  {
   "cell_type": "code",
   "execution_count": 32,
   "id": "760c1381",
   "metadata": {},
   "outputs": [
    {
     "data": {
      "text/plain": [
       "'I'"
      ]
     },
     "execution_count": 32,
     "metadata": {},
     "output_type": "execute_result"
    }
   ],
   "source": [
    "my_string[0]"
   ]
  },
  {
   "cell_type": "code",
   "execution_count": 39,
   "id": "f31570e8",
   "metadata": {},
   "outputs": [
    {
     "data": {
      "text/plain": [
       "True"
      ]
     },
     "execution_count": 39,
     "metadata": {},
     "output_type": "execute_result"
    }
   ],
   "source": [
    "my_string[-8] == my_string[7]"
   ]
  },
  {
   "cell_type": "code",
   "execution_count": 42,
   "id": "f4f0e9b0",
   "metadata": {},
   "outputs": [
    {
     "data": {
      "text/plain": [
       "'bad girl'"
      ]
     },
     "execution_count": 42,
     "metadata": {},
     "output_type": "execute_result"
    }
   ],
   "source": [
    "my_string[7:16]"
   ]
  },
  {
   "cell_type": "code",
   "execution_count": 44,
   "id": "f8fea598",
   "metadata": {},
   "outputs": [
    {
     "name": "stdout",
     "output_type": "stream",
     "text": [
      "for step size 2\n"
     ]
    },
    {
     "data": {
      "text/plain": [
       "'bdgr'"
      ]
     },
     "execution_count": 44,
     "metadata": {},
     "output_type": "execute_result"
    }
   ],
   "source": [
    "print(\"for step size 2\")\n",
    "my_string[7:16:2]\n"
   ]
  },
  {
   "cell_type": "code",
   "execution_count": 53,
   "id": "bcb03bd9",
   "metadata": {},
   "outputs": [
    {
     "name": "stdout",
     "output_type": "stream",
     "text": [
      "Reversing a string\n",
      "-------------------\n",
      "lrig dab a ma I\n",
      "-------------------\n"
     ]
    }
   ],
   "source": [
    "print(\"Reversing a string\")\n",
    "print(\"-------------------\")\n",
    "print(my_string[::-1])\n",
    "print(\"-------------------\")\n",
    "    \n",
    "    "
   ]
  },
  {
   "cell_type": "markdown",
   "id": "3fd99e3c",
   "metadata": {},
   "source": [
    "String concatenation"
   ]
  },
  {
   "cell_type": "code",
   "execution_count": 54,
   "id": "74722713",
   "metadata": {},
   "outputs": [
    {
     "name": "stdout",
     "output_type": "stream",
     "text": [
      "priya\n"
     ]
    }
   ],
   "source": [
    "name = 'riya'\n",
    "\n",
    "name1 = 'p' + name\n",
    "print(name1)\n"
   ]
  },
  {
   "cell_type": "code",
   "execution_count": 57,
   "id": "0665cf9f",
   "metadata": {},
   "outputs": [
    {
     "name": "stdout",
     "output_type": "stream",
     "text": [
      "pam\n"
     ]
    }
   ],
   "source": [
    "name2 = 'sam'\n",
    "name3 = 'p'+name2[1:]\n",
    "print(name3)"
   ]
  },
  {
   "cell_type": "code",
   "execution_count": 70,
   "id": "9c1ab455",
   "metadata": {},
   "outputs": [],
   "source": [
    "x = 'hello Rhea,'\n"
   ]
  },
  {
   "cell_type": "code",
   "execution_count": 71,
   "id": "b5195ea8",
   "metadata": {},
   "outputs": [],
   "source": [
    "x = x + ' you are a bad girl'"
   ]
  },
  {
   "cell_type": "code",
   "execution_count": 72,
   "id": "a78e4db6",
   "metadata": {},
   "outputs": [
    {
     "name": "stdout",
     "output_type": "stream",
     "text": [
      "hello Rhea, you are a bad girl\n"
     ]
    }
   ],
   "source": [
    "print(x)"
   ]
  },
  {
   "cell_type": "code",
   "execution_count": 67,
   "id": "fd6ff74d",
   "metadata": {},
   "outputs": [
    {
     "data": {
      "text/plain": [
       "5"
      ]
     },
     "execution_count": 67,
     "metadata": {},
     "output_type": "execute_result"
    }
   ],
   "source": [
    "2 + 3"
   ]
  },
  {
   "cell_type": "code",
   "execution_count": 68,
   "id": "547f35d1",
   "metadata": {},
   "outputs": [
    {
     "data": {
      "text/plain": [
       "'23'"
      ]
     },
     "execution_count": 68,
     "metadata": {},
     "output_type": "execute_result"
    }
   ],
   "source": [
    "'2'+'3'"
   ]
  },
  {
   "cell_type": "code",
   "execution_count": 73,
   "id": "bd5c043d",
   "metadata": {},
   "outputs": [
    {
     "data": {
      "text/plain": [
       "'HELLO RHEA, YOU ARE A BAD GIRL'"
      ]
     },
     "execution_count": 73,
     "metadata": {},
     "output_type": "execute_result"
    }
   ],
   "source": [
    "x.upper()"
   ]
  },
  {
   "cell_type": "code",
   "execution_count": 74,
   "id": "58a7fa31",
   "metadata": {},
   "outputs": [
    {
     "data": {
      "text/plain": [
       "'hello rhea, you are a bad girl'"
      ]
     },
     "execution_count": 74,
     "metadata": {},
     "output_type": "execute_result"
    }
   ],
   "source": [
    "x.lower()"
   ]
  },
  {
   "cell_type": "code",
   "execution_count": 75,
   "id": "15a8d555",
   "metadata": {},
   "outputs": [
    {
     "data": {
      "text/plain": [
       "['hello', 'Rhea,', 'you', 'are', 'a', 'bad', 'girl']"
      ]
     },
     "execution_count": 75,
     "metadata": {},
     "output_type": "execute_result"
    }
   ],
   "source": [
    "x.split()"
   ]
  },
  {
   "cell_type": "code",
   "execution_count": 78,
   "id": "4b753118",
   "metadata": {},
   "outputs": [
    {
     "data": {
      "text/plain": [
       "['h', 'llo Rh', 'a, you ar', ' a bad girl']"
      ]
     },
     "execution_count": 78,
     "metadata": {},
     "output_type": "execute_result"
    }
   ],
   "source": [
    "x.split('e')"
   ]
  },
  {
   "cell_type": "markdown",
   "id": "bc723cec",
   "metadata": {},
   "source": [
    "string interpolation"
   ]
  },
  {
   "cell_type": "code",
   "execution_count": 79,
   "id": "9139fe87",
   "metadata": {},
   "outputs": [
    {
     "name": "stdout",
     "output_type": "stream",
     "text": [
      "rhea is a bad girl\n"
     ]
    }
   ],
   "source": [
    "name = 'rhea'\n",
    "trait ='bad'\n",
    "\n",
    "print('{} is a {} girl'.format(name,trait))"
   ]
  },
  {
   "cell_type": "code",
   "execution_count": 81,
   "id": "aca8d8b2",
   "metadata": {},
   "outputs": [
    {
     "name": "stdout",
     "output_type": "stream",
     "text": [
      "the fox brown quick\n",
      "the quick brown fox\n",
      "the quick brown fox\n"
     ]
    }
   ],
   "source": [
    "print('the {} {} {}'.format('fox','brown','quick'))\n",
    "\n",
    "print('the {2} {1} {0}'.format('fox','brown','quick'))\n",
    "\n",
    "print('the {trait} {color} {animal}'.format(animal='fox',color='brown',trait='quick'))"
   ]
  },
  {
   "cell_type": "markdown",
   "id": "0f46c50d",
   "metadata": {},
   "source": [
    "float formatting with .format method"
   ]
  },
  {
   "cell_type": "code",
   "execution_count": 85,
   "id": "cddc7e8a",
   "metadata": {},
   "outputs": [
    {
     "name": "stdout",
     "output_type": "stream",
     "text": [
      "result = 14.285714285714286\n",
      "result = 14.286\n"
     ]
    }
   ],
   "source": [
    "result = 100/7\n",
    "print(\"result = {}\".format(result))\n",
    "\n",
    "print(\"result = {r:1.3f}\".format(r = result))"
   ]
  },
  {
   "cell_type": "markdown",
   "id": "44eef056",
   "metadata": {},
   "source": [
    "another method of formatting with just f"
   ]
  },
  {
   "cell_type": "code",
   "execution_count": 86,
   "id": "cd69b5de",
   "metadata": {},
   "outputs": [
    {
     "name": "stdout",
     "output_type": "stream",
     "text": [
      "rhea is a bad girl\n"
     ]
    }
   ],
   "source": [
    "print(f\"{name} is a {trait} girl\")"
   ]
  },
  {
   "cell_type": "code",
   "execution_count": null,
   "id": "a7fa374d",
   "metadata": {},
   "outputs": [],
   "source": []
  }
 ],
 "metadata": {
  "kernelspec": {
   "display_name": "Python 3",
   "language": "python",
   "name": "python3"
  },
  "language_info": {
   "codemirror_mode": {
    "name": "ipython",
    "version": 3
   },
   "file_extension": ".py",
   "mimetype": "text/x-python",
   "name": "python",
   "nbconvert_exporter": "python",
   "pygments_lexer": "ipython3",
   "version": "3.8.8"
  }
 },
 "nbformat": 4,
 "nbformat_minor": 5
}
